{
 "cells": [
  {
   "cell_type": "markdown",
   "metadata": {},
   "source": [
    "# Preprocessing\n",
    "### Imports"
   ]
  },
  {
   "cell_type": "code",
   "execution_count": 1,
   "metadata": {},
   "outputs": [],
   "source": [
    "#Set Dir \n",
    "import sys, os\n",
    "sys.path.append(os.path.abspath('..'))\n",
    "\n",
    "# Torch\n",
    "import torch\n",
    "from torch.utils.data import DataLoader, Dataset\n",
    "# Utils\n",
    "import numpy as np\n",
    "from numpy import ndarray\n",
    "import logging\n",
    "# Base Scripts\n",
    "from Libraries.Utils import *\n",
    "from Conf import *"
   ]
  },
  {
   "cell_type": "markdown",
   "metadata": {},
   "source": [
    "### Config"
   ]
  },
  {
   "cell_type": "code",
   "execution_count": null,
   "metadata": {},
   "outputs": [],
   "source": [
    "training_data_name: str = \"training_640\"\n",
    "noise: bool = True\n",
    "noise_percentage: float = 0.2\n",
    "overlap: int = 3\n",
    "logging_level: int = LIGHT_DEBUG\n",
    "logging.basicConfig(level=logging_level, format='%(asctime)s - %(levelname)s - %(message)s')\n",
    "logger: logging.Logger = logging.getLogger(__name__)"
   ]
  },
  {
   "cell_type": "markdown",
   "metadata": {},
   "source": [
    "### Processing"
   ]
  },
  {
   "cell_type": "code",
   "execution_count": null,
   "metadata": {},
   "outputs": [
    {
     "name": "stderr",
     "output_type": "stream",
     "text": [
      "2025-02-23 12:51:00,051 - LIGHT_DEBUG - Got filenames ['Am Bach 2024.wav', 'Cutting Mixes mix.wav', 'DA2407_ADO.wav'] from ../Data\n",
      "2025-02-23 12:51:31,731 - LIGHT_DEBUG - Loaded audio form ../Data\\Am Bach 2024.wav of dimensions: (333370680,), sr: 44100\n",
      "2025-02-23 12:51:32,627 - LIGHT_DEBUG - Split audio to: (1511, 352800)\n",
      "2025-02-23 12:51:32,824 - LIGHT_DEBUG - Started STFT on splits\n"
     ]
    },
    {
     "name": "stdout",
     "output_type": "stream",
     "text": [
      "2025-02-23 12:52:21,000 - LIGHT_DEBUG - Processed Splits: 1510\n"
     ]
    },
    {
     "name": "stderr",
     "output_type": "stream",
     "text": [
      "2025-02-23 12:52:52,091 - LIGHT_DEBUG - Created spectograms of splits: (1511, 129, 5513)\n",
      "2025-02-23 12:53:57,668 - LIGHT_DEBUG - Normalized to range: [0,1]\n",
      "2025-02-23 12:53:58,925 - LIGHT_DEBUG - Started STFT on splits\n"
     ]
    },
    {
     "name": "stdout",
     "output_type": "stream",
     "text": [
      "2025-02-23 12:55:12,000 - LIGHT_DEBUG - Processed Splits: 1510\n"
     ]
    },
    {
     "name": "stderr",
     "output_type": "stream",
     "text": [
      "2025-02-23 12:55:28,067 - LIGHT_DEBUG - Created spectograms of splits: (1511, 513, 1379)\n",
      "2025-02-23 12:56:29,338 - LIGHT_DEBUG - Normalized to range: [0,1]\n",
      "2025-02-23 12:56:30,494 - LIGHT_DEBUG - Started STFT on splits\n"
     ]
    },
    {
     "name": "stdout",
     "output_type": "stream",
     "text": [
      "2025-02-23 12:57:51,000 - LIGHT_DEBUG - Processed Splits: 1510\n"
     ]
    },
    {
     "name": "stderr",
     "output_type": "stream",
     "text": [
      "2025-02-23 12:58:06,375 - LIGHT_DEBUG - Created spectograms of splits: (1511, 2049, 345)\n",
      "2025-02-23 12:58:45,050 - LIGHT_DEBUG - Normalized to range: [0,1]\n"
     ]
    },
    {
     "ename": "ValueError",
     "evalue": "all input arrays must have the same shape",
     "output_type": "error",
     "traceback": [
      "\u001b[1;31m---------------------------------------------------------------------------\u001b[0m",
      "\u001b[1;31mValueError\u001b[0m                                Traceback (most recent call last)",
      "Cell \u001b[1;32mIn[3], line 12\u001b[0m\n\u001b[0;32m     10\u001b[0m         channel \u001b[38;5;241m=\u001b[39m normalize(channel)\n\u001b[0;32m     11\u001b[0m         files\u001b[38;5;241m.\u001b[39mappend(channel)\n\u001b[1;32m---> 12\u001b[0m     data\u001b[38;5;241m.\u001b[39mappend(\u001b[43mnp\u001b[49m\u001b[38;5;241;43m.\u001b[39;49m\u001b[43mstack\u001b[49m\u001b[43m(\u001b[49m\u001b[43mfiles\u001b[49m\u001b[43m)\u001b[49m)\n\u001b[0;32m     13\u001b[0m \u001b[38;5;28;01melse\u001b[39;00m:\n\u001b[0;32m     14\u001b[0m     file \u001b[38;5;241m=\u001b[39m audio_splits_to_spectograms(file, LEN_FFT, LEN_HOP)\n",
      "File \u001b[1;32m<__array_function__ internals>:180\u001b[0m, in \u001b[0;36mstack\u001b[1;34m(*args, **kwargs)\u001b[0m\n",
      "File \u001b[1;32m~\\AppData\\Local\\Packages\\PythonSoftwareFoundation.Python.3.10_qbz5n2kfra8p0\\LocalCache\\local-packages\\Python310\\site-packages\\numpy\\core\\shape_base.py:426\u001b[0m, in \u001b[0;36mstack\u001b[1;34m(arrays, axis, out)\u001b[0m\n\u001b[0;32m    424\u001b[0m shapes \u001b[38;5;241m=\u001b[39m {arr\u001b[38;5;241m.\u001b[39mshape \u001b[38;5;28;01mfor\u001b[39;00m arr \u001b[38;5;129;01min\u001b[39;00m arrays}\n\u001b[0;32m    425\u001b[0m \u001b[38;5;28;01mif\u001b[39;00m \u001b[38;5;28mlen\u001b[39m(shapes) \u001b[38;5;241m!=\u001b[39m \u001b[38;5;241m1\u001b[39m:\n\u001b[1;32m--> 426\u001b[0m     \u001b[38;5;28;01mraise\u001b[39;00m \u001b[38;5;167;01mValueError\u001b[39;00m(\u001b[38;5;124m'\u001b[39m\u001b[38;5;124mall input arrays must have the same shape\u001b[39m\u001b[38;5;124m'\u001b[39m)\n\u001b[0;32m    428\u001b[0m result_ndim \u001b[38;5;241m=\u001b[39m arrays[\u001b[38;5;241m0\u001b[39m]\u001b[38;5;241m.\u001b[39mndim \u001b[38;5;241m+\u001b[39m \u001b[38;5;241m1\u001b[39m\n\u001b[0;32m    429\u001b[0m axis \u001b[38;5;241m=\u001b[39m normalize_axis_index(axis, result_ndim)\n",
      "\u001b[1;31mValueError\u001b[0m: all input arrays must have the same shape"
     ]
    }
   ],
   "source": [
    "filenames = get_filenames_from_folder(DATA_PATH, \"wav\")[:1]\n",
    "data: list = []\n",
    "for i in range(len(filenames)):\n",
    "    file = load_audio_file(os.path.join(DATA_PATH, filenames[i]), SAMPLE_RATE, True)\n",
    "    file = split_audiofile(file, TIME_FRAME_S, SAMPLE_RATE, overlap)\n",
    "    file = audio_splits_to_spectograms(file, LEN_FFT, LEN_HOP)\n",
    "    file = normalize(file)\n",
    "    data.append(file)\n",
    "data: ndarray = np.vstack(data)\n",
    "if noise:\n",
    "    n: int = int(data.shape[0] * noise_percentage)\n",
    "    indicies: list = np.random.choice(data.shape[0], size=n, replace=False)\n",
    "    data[indicies,...] = add_noise(data[indicies,...])\n",
    "data = dimension_for_VAE(data)[:640]\n",
    "logger.info(f\"Processed data of shape: {data.shape}\")"
   ]
  },
  {
   "cell_type": "markdown",
   "metadata": {},
   "source": [
    "### Saving"
   ]
  },
  {
   "cell_type": "code",
   "execution_count": 15,
   "metadata": {},
   "outputs": [
    {
     "name": "stderr",
     "output_type": "stream",
     "text": [
      "2025-02-22 12:07:58,523 - LIGHT_DEBUG - Saved ndarray to:../Data/training_640.npy\n"
     ]
    }
   ],
   "source": [
    "save_training_data(data, f\"{DATA_PATH}/{training_data_name}.npy\")"
   ]
  }
 ],
 "metadata": {
  "kernelspec": {
   "display_name": "Python 3",
   "language": "python",
   "name": "python3"
  },
  "language_info": {
   "codemirror_mode": {
    "name": "ipython",
    "version": 3
   },
   "file_extension": ".py",
   "mimetype": "text/x-python",
   "name": "python",
   "nbconvert_exporter": "python",
   "pygments_lexer": "ipython3",
   "version": "3.10.11"
  }
 },
 "nbformat": 4,
 "nbformat_minor": 2
}
