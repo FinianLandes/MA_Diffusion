{
 "cells": [
  {
   "cell_type": "markdown",
   "metadata": {},
   "source": [
    "# Preprocessing\n",
    "### Imports"
   ]
  },
  {
   "cell_type": "code",
   "execution_count": 2,
   "metadata": {},
   "outputs": [],
   "source": [
    "#Set Dir \n",
    "import sys, os\n",
    "sys.path.append(os.path.abspath('..'))\n",
    "\n",
    "# Torch\n",
    "import torch\n",
    "from torch.utils.data import DataLoader, Dataset\n",
    "# Utils\n",
    "import numpy as np\n",
    "from numpy import ndarray\n",
    "import logging\n",
    "# Base Scripts\n",
    "from Libraries.Utils import *\n",
    "from Conf import *"
   ]
  },
  {
   "cell_type": "markdown",
   "metadata": {},
   "source": [
    "### Config"
   ]
  },
  {
   "cell_type": "code",
   "execution_count": 3,
   "metadata": {},
   "outputs": [],
   "source": [
    "training_data_name: str = \"training_small\"\n",
    "overlap: int = 3\n",
    "logging_level: int = LIGHT_DEBUG\n",
    "logging.basicConfig(level=logging_level, format='%(asctime)s - %(levelname)s - %(message)s')\n",
    "logger: logging.Logger = logging.getLogger(__name__)"
   ]
  },
  {
   "cell_type": "markdown",
   "metadata": {},
   "source": [
    "### Processing"
   ]
  },
  {
   "cell_type": "code",
   "execution_count": null,
   "metadata": {},
   "outputs": [
    {
     "name": "stderr",
     "output_type": "stream",
     "text": [
      "2025-02-21 21:47:27,161 - LIGHT_DEBUG - Got filenames ['Am Bach 2024.wav', 'Cutting Mixes mix.wav', 'DA2407_ADO.wav'] from ../Data\n",
      "2025-02-21 21:47:36,833 - LIGHT_DEBUG - Loaded audio form ../Data\\Am Bach 2024.wav of dimensions: (333370680,), sr: 44100\n",
      "2025-02-21 21:47:37,273 - LIGHT_DEBUG - Split audio to: (1511, 352800)\n",
      "2025-02-21 21:47:37,403 - LIGHT_DEBUG - Started STFT on splits\n"
     ]
    },
    {
     "name": "stdout",
     "output_type": "stream",
     "text": [
      "2025-02-21 21:48:17,000 - LIGHT_DEBUG - Processed Splits: 1510\n"
     ]
    },
    {
     "name": "stderr",
     "output_type": "stream",
     "text": [
      "2025-02-21 21:48:36,060 - LIGHT_DEBUG - Created spectograms of splits: (1511, 1025, 690)\n",
      "2025-02-21 21:49:34,829 - LIGHT_DEBUG - Normalized to range: [0,1]\n",
      "2025-02-21 21:49:39,302 - INFO - Processed data of shape: (256, 1024, 672)\n"
     ]
    }
   ],
   "source": [
    "filenames = get_filenames_from_folder(DATA_PATH, \"wav\")\n",
    "data: list = []\n",
    "for i in range(len(filenames)):\n",
    "    file = load_audio_file(os.path.join(DATA_PATH, filenames[i]), SAMPLE_RATE, True)\n",
    "    file = split_audiofile(file, TIME_FRAME_S, SAMPLE_RATE, overlap)\n",
    "    file = audio_splits_to_spectograms(file, LEN_FFT)\n",
    "    file = normalize(file)\n",
    "    data.append(file)\n",
    "data: ndarray = np.vstack(data)\n",
    "data = dimension_for_VAE(data)\n",
    "logger.info(f\"Processed data of shape: {data.shape}\")"
   ]
  },
  {
   "cell_type": "markdown",
   "metadata": {},
   "source": [
    "### Saving"
   ]
  },
  {
   "cell_type": "code",
   "execution_count": 6,
   "metadata": {},
   "outputs": [
    {
     "name": "stderr",
     "output_type": "stream",
     "text": [
      "2025-02-21 21:50:05,317 - LIGHT_DEBUG - Saved ndarray to:../Data/training_small.npy\n"
     ]
    }
   ],
   "source": [
    "save_training_data(data, f\"{DATA_PATH}/{training_data_name}.npy\")"
   ]
  }
 ],
 "metadata": {
  "kernelspec": {
   "display_name": "Python 3",
   "language": "python",
   "name": "python3"
  },
  "language_info": {
   "codemirror_mode": {
    "name": "ipython",
    "version": 3
   },
   "file_extension": ".py",
   "mimetype": "text/x-python",
   "name": "python",
   "nbconvert_exporter": "python",
   "pygments_lexer": "ipython3",
   "version": "3.10.11"
  }
 },
 "nbformat": 4,
 "nbformat_minor": 2
}
