{
 "cells": [
  {
   "cell_type": "markdown",
   "metadata": {},
   "source": [
    "# Train Diffusion Model\n",
    "### Imports"
   ]
  },
  {
   "cell_type": "code",
   "execution_count": 1,
   "metadata": {},
   "outputs": [],
   "source": [
    "#Set Dir \n",
    "import sys, os\n",
    "sys.path.append(os.path.abspath('..'))\n",
    "\n",
    "# Torch\n",
    "import torch\n",
    "from torch import nn, Tensor\n",
    "from torch.utils.data import DataLoader\n",
    "import torch.optim as optim\n",
    "# Utils\n",
    "import numpy as np\n",
    "from numpy import ndarray\n",
    "from torchsummary import summary\n",
    "import logging\n",
    "\n",
    "# Base Scripts\n",
    "from Libraries.U_Net import *\n",
    "from Libraries.Diffusion import *\n",
    "from Libraries.Utils import *\n",
    "from Conf import *"
   ]
  },
  {
   "cell_type": "markdown",
   "metadata": {},
   "source": [
    "### Conf"
   ]
  },
  {
   "cell_type": "code",
   "execution_count": 2,
   "metadata": {},
   "outputs": [],
   "source": [
    "device = \"cuda\" if torch.cuda.is_available() else \"cpu\"\n",
    "model_name: str = \"diffusion_v1\"\n",
    "training_data_name: str = \"training_1280\"\n",
    "model_path: str = f\"{MODEL_PATH}/{model_name}.pth\"\n",
    "logging_level: int = logging.INFO\n",
    "logging.basicConfig(level=logging_level, format='%(asctime)s - %(levelname)s - %(message)s')\n",
    "logger: logging.Logger = logging.getLogger(__name__)"
   ]
  },
  {
   "cell_type": "code",
   "execution_count": 3,
   "metadata": {},
   "outputs": [],
   "source": [
    "n_starting_filters: int = 24\n",
    "n_blocks: int = 2 \n",
    "n_groups: int = 8 \n",
    "time_embed_dim: int = 64"
   ]
  },
  {
   "cell_type": "markdown",
   "metadata": {},
   "source": [
    "### Functions"
   ]
  },
  {
   "cell_type": "code",
   "execution_count": 4,
   "metadata": {},
   "outputs": [],
   "source": [
    "def bwd_pass(model: Diffusion, noise_schedule: Tensor, device: str = \"cpu\", n_samples: int = 1, data_shape: list = [1, 1, 1024, 672], file_name: str = \"test\") -> None:\n",
    "    x = model.sample(n_samples=n_samples, noise_schedule=noise_schedule, device=device, data_shape=data_shape)\n",
    "    visualize_spectogram(x[0,0])\n",
    "    audio = spectrogram_to_audio(unnormalize(x[0,0]), LEN_FFT)\n",
    "    save_audio_file(audio, f\"{RESULT_PATH}/{file_name}_out.wav\")\n",
    "    logger.light_debug(f\"Saved passed through sample to {RESULT_PATH}\")\n",
    "def inference(model: Diffusion, samples: Tensor, noise_schedule: Tensor, device: str = \"cpu\", file_name: str = \"test\" ) -> None:\n",
    "    out = model.inference(samples=samples, noise_schedule=noise_schedule, device=device)\n",
    "    for i in range(samples[0]):\n",
    "        save_audio_file(spectrogram_to_audio(unnormalize(samples[0,0]), LEN_FFT), f\"{RESULT_PATH}/{file_name}_{i:02d}_inp.wav\")\n",
    "        save_audio_file(spectrogram_to_audio(unnormalize(out[0,0]), LEN_FFT), f\"{RESULT_PATH}/{file_name}_{i:02d}_out.wav\")\n",
    "        visualize_spectogram(samples[0,0])\n",
    "        visualize_spectogram(out[0,0])"
   ]
  },
  {
   "cell_type": "markdown",
   "metadata": {},
   "source": [
    "### Data Loading & Model Creation"
   ]
  },
  {
   "cell_type": "code",
   "execution_count": 8,
   "metadata": {},
   "outputs": [
    {
     "name": "stderr",
     "output_type": "stream",
     "text": [
      "2025-03-02 23:39:08,201 - INFO - Data loaded with shape: (1280, 1024, 672)\n",
      "2025-03-02 23:39:08,218 - INFO - Model diffusion_v1 loaded with 452065 Parameters\n"
     ]
    }
   ],
   "source": [
    "file = load_training_data(f\"{DATA_PATH}/{training_data_name}.npy\")\n",
    "logger.info(f\"Data loaded with shape: {file.shape}\")\n",
    "\n",
    "u_net = U_NET(in_channels=1, device=device, input_shape=[0, 0, file.shape[-2], file.shape[-1]], n_res_layers=n_blocks, n_starting_filters=n_starting_filters, n_groups=n_groups, time_emb_dim=time_embed_dim).to(device)\n",
    "u_net = nn.DataParallel(u_net)\n",
    "if os.path.exists(model_path):\n",
    "    u_net.load_state_dict(torch.load(model_path, weights_only=False, map_location=device))\n",
    "    logger.info(f\"Model {model_name} loaded with {count_parameters(u_net)} Parameters\")\n",
    "else: \n",
    "    logger.info(f\"Model {model_name} created with {count_parameters(u_net)} Parameters\")\n",
    "\n",
    "\n",
    "u_net = u_net.to(device)\n",
    "noise_schedule = cosine_noise(500)\n",
    "model = Diffusion(u_net, None, 500)\n"
   ]
  },
  {
   "cell_type": "markdown",
   "metadata": {},
   "source": [
    "### Evaluate"
   ]
  },
  {
   "cell_type": "code",
   "execution_count": null,
   "metadata": {},
   "outputs": [],
   "source": [
    "bwd_pass(model, noise_schedule, device, n_samples=1, file_name=\"test\")\n",
    "inference(model, file[11:12], noise_schedule, device=device, file_name=\"test\")"
   ]
  }
 ],
 "metadata": {
  "kernelspec": {
   "display_name": "Python 3",
   "language": "python",
   "name": "python3"
  },
  "language_info": {
   "codemirror_mode": {
    "name": "ipython",
    "version": 3
   },
   "file_extension": ".py",
   "mimetype": "text/x-python",
   "name": "python",
   "nbconvert_exporter": "python",
   "pygments_lexer": "ipython3",
   "version": "3.13.2"
  }
 },
 "nbformat": 4,
 "nbformat_minor": 2
}
