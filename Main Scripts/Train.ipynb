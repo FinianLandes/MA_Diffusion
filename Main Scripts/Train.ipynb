{
 "cells": [
  {
   "cell_type": "markdown",
   "metadata": {},
   "source": [
    "# Training Script\n",
    "\n",
    "### Imports"
   ]
  },
  {
   "cell_type": "code",
   "execution_count": 9,
   "metadata": {},
   "outputs": [],
   "source": [
    "#Set Dir \n",
    "import sys, os\n",
    "sys.path.append(os.path.abspath('..'))\n",
    "\n",
    "# Torch\n",
    "import torch\n",
    "from torch import nn, Tensor\n",
    "from torch.utils.data import DataLoader\n",
    "import torch.optim as optim\n",
    "# Utils\n",
    "import numpy as np\n",
    "from numpy import ndarray\n",
    "import logging\n",
    "\n",
    "# Base Scripts\n",
    "from Libraries.VAE import *\n",
    "from Libraries.Utils import *\n",
    "from Conf import *"
   ]
  },
  {
   "cell_type": "markdown",
   "metadata": {},
   "source": [
    "### Config"
   ]
  },
  {
   "cell_type": "code",
   "execution_count": 16,
   "metadata": {},
   "outputs": [],
   "source": [
    "batch_size: int = 16\n",
    "epochs: int = 100\n",
    "learning_rate: float = 1e-5\n",
    "lr_decay: int = 40\n",
    "lr_gamma: float = 0.1\n",
    "reprod_loss_weight: float = 20000\n",
    "logging_level: int = logging.INFO\n",
    "model_name: str = \"conv_VAE_v1\"\n",
    "model_path: str = f\"../{MODEL_PATH}/{model_name}.pth\"\n",
    "checkpoint_freq: int = 5 #0 for no checkpoint saving\n",
    "training_data_name: str = \"training_v2\"\n",
    "\n",
    "\n",
    "logging.basicConfig(level=logging_level, format='%(asctime)s - %(levelname)s - %(message)s')\n",
    "logger: logging.Logger = logging.getLogger(__name__)"
   ]
  },
  {
   "cell_type": "markdown",
   "metadata": {},
   "source": [
    "### Data Loading"
   ]
  },
  {
   "cell_type": "code",
   "execution_count": 13,
   "metadata": {},
   "outputs": [],
   "source": [
    "file = load_training_data(f\"../{DATA_PATH}/{training_data_name}.npy\")"
   ]
  },
  {
   "cell_type": "code",
   "execution_count": 14,
   "metadata": {},
   "outputs": [
    {
     "name": "stderr",
     "output_type": "stream",
     "text": [
      "2025-02-21 21:15:34,035 - INFO - Data loaded with shape: (4251, 1024, 672)\n"
     ]
    }
   ],
   "source": [
    "data_loader = create_dataloader(Audio_Data(file[:16,...]), batch_size)\n",
    "logger.info(f\"Data loaded with shape: {file.shape}\")"
   ]
  },
  {
   "cell_type": "markdown",
   "metadata": {},
   "source": [
    "### Model Creation"
   ]
  },
  {
   "cell_type": "code",
   "execution_count": 17,
   "metadata": {},
   "outputs": [
    {
     "name": "stderr",
     "output_type": "stream",
     "text": [
      "2025-02-21 21:16:09,212 - INFO - Model conv_VAE_v1 loaded with 91585 Parameters\n"
     ]
    }
   ],
   "source": [
    "device = \"cuda\" if torch.cuda.is_available() else \"cpu\"\n",
    "\n",
    "model = VAE(in_channels=1, latent_dim=128, device=device,input_shape=[0,0, file.shape[-2], file.shape[-1]], n_conv_blocks=1, n_starting_filters=32, lin_bottleneck=False).to(device)\n",
    "if os.path.exists(model_path):\n",
    "    model.load_state_dict(torch.load(model_path, weights_only=False))\n",
    "    logger.info(f\"Model {model_name} loaded with {count_parameters(model)} Parameters\")\n",
    "else: \n",
    "    logger.info(f\"Model {model_name} created with {count_parameters(model)} Parameters\")\n",
    "\n",
    "optimizer = optim.AdamW(model.parameters(), lr=learning_rate)\n",
    "scheduler = optim.lr_scheduler.StepLR(optimizer, step_size=lr_decay, gamma=lr_gamma)"
   ]
  },
  {
   "cell_type": "markdown",
   "metadata": {},
   "source": [
    "### Training"
   ]
  },
  {
   "cell_type": "code",
   "execution_count": null,
   "metadata": {},
   "outputs": [
    {
     "name": "stderr",
     "output_type": "stream",
     "text": [
      "2025-02-21 21:16:13,940 - INFO - Training started on cpu\n",
      "2025-02-21 21:16:26,401 - INFO - Epoch 01: Avg. Loss: 3.24241e+05 Avg. Reprod: 3.05681e+05 Avg. KL: 1.85600e+04 Remaining Time: 00h 20min 33s\n",
      "2025-02-21 21:16:40,806 - INFO - Epoch 02: Avg. Loss: 3.24100e+05 Avg. Reprod: 3.05540e+05 Avg. KL: 1.85600e+04 Remaining Time: 00h 21min 56s\n",
      "2025-02-21 21:16:54,475 - INFO - Epoch 03: Avg. Loss: 3.24327e+05 Avg. Reprod: 3.05639e+05 Avg. KL: 1.86880e+04 Remaining Time: 00h 21min 50s\n",
      "2025-02-21 21:17:10,031 - INFO - Epoch 04: Avg. Loss: 3.24045e+05 Avg. Reprod: 3.05357e+05 Avg. KL: 1.86880e+04 Remaining Time: 00h 22min 26s\n",
      "2025-02-21 21:17:32,163 - INFO - Epoch 05: Avg. Loss: 3.24086e+05 Avg. Reprod: 3.05270e+05 Avg. KL: 1.88160e+04 Remaining Time: 00h 24min 46s\n",
      "2025-02-21 21:17:53,968 - INFO - Epoch 06: Avg. Loss: 3.24034e+05 Avg. Reprod: 3.05218e+05 Avg. KL: 1.88160e+04 Remaining Time: 00h 26min 06s\n",
      "2025-02-21 21:18:06,763 - INFO - Epoch 07: Avg. Loss: 3.23890e+05 Avg. Reprod: 3.05074e+05 Avg. KL: 1.88160e+04 Remaining Time: 00h 24min 58s\n",
      "2025-02-21 21:18:20,506 - INFO - Epoch 08: Avg. Loss: 3.23785e+05 Avg. Reprod: 3.04841e+05 Avg. KL: 1.89440e+04 Remaining Time: 00h 24min 14s\n",
      "2025-02-21 21:18:33,799 - INFO - Epoch 09: Avg. Loss: 3.23971e+05 Avg. Reprod: 3.05027e+05 Avg. KL: 1.89440e+04 Remaining Time: 00h 23min 33s\n"
     ]
    }
   ],
   "source": [
    "x = train_VAE(model, data_loader, optimizer, loss_VAE, epochs=epochs, device=device, reprod_loss_weight=reprod_loss_weight, checkpoint_freq=checkpoint_freq, model_path=model_path)\n",
    "scatter_plot(x)\n",
    "torch.save(model.state_dict(), model_path)\n",
    "logger.info(\"Model saved successfully.\")"
   ]
  }
 ],
 "metadata": {
  "kernelspec": {
   "display_name": "Python 3",
   "language": "python",
   "name": "python3"
  },
  "language_info": {
   "codemirror_mode": {
    "name": "ipython",
    "version": 3
   },
   "file_extension": ".py",
   "mimetype": "text/x-python",
   "name": "python",
   "nbconvert_exporter": "python",
   "pygments_lexer": "ipython3",
   "version": "3.10.11"
  }
 },
 "nbformat": 4,
 "nbformat_minor": 2
}
