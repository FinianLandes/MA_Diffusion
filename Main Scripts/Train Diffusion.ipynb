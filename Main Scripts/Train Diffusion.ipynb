{
 "cells": [
  {
   "cell_type": "markdown",
   "metadata": {},
   "source": [
    "# Train Diffusion Model\n",
    "### Imports"
   ]
  },
  {
   "cell_type": "code",
   "execution_count": 9,
   "metadata": {},
   "outputs": [],
   "source": [
    "#Set Dir \n",
    "import sys, os\n",
    "sys.path.append(os.path.abspath('..'))\n",
    "\n",
    "# Torch\n",
    "import torch\n",
    "from torch import nn, Tensor\n",
    "from torch.utils.data import DataLoader\n",
    "import torch.optim as optim\n",
    "# Utils\n",
    "import numpy as np\n",
    "from numpy import ndarray\n",
    "import logging\n",
    "\n",
    "# Base Scripts\n",
    "from Libraries.U_Net import *\n",
    "from Libraries.Diffusion import *\n",
    "from Libraries.Utils import *\n",
    "from Conf import *"
   ]
  },
  {
   "cell_type": "markdown",
   "metadata": {},
   "source": [
    "### Config\n",
    "General"
   ]
  },
  {
   "cell_type": "code",
   "execution_count": 10,
   "metadata": {},
   "outputs": [],
   "source": [
    "logging_level: int = LIGHT_DEBUG #logging.INFO\n",
    "model_name: str = \"diffusion_v1\"\n",
    "model_path: str = f\"{MODEL_PATH}/{model_name}.pth\"\n",
    "checkpoint_freq: int = 5 #0 for no checkpoint saving\n",
    "training_data_name: str = \"training_1280\"\n",
    "\n",
    "device = \"cuda\" if torch.cuda.is_available() else \"cpu\"\n",
    "\n",
    "batch_size: int = 2\n",
    "epochs: int = 100\n",
    "diffusion_timesteps: int = 500\n",
    "\n",
    "logging.basicConfig(level=logging_level, format='%(asctime)s - %(levelname)s - %(message)s')\n",
    "logger: logging.Logger = logging.getLogger(__name__)"
   ]
  },
  {
   "cell_type": "markdown",
   "metadata": {},
   "source": [
    "U-Net"
   ]
  },
  {
   "cell_type": "code",
   "execution_count": 11,
   "metadata": {},
   "outputs": [],
   "source": [
    "learning_rate: float = 1e-5\n",
    "lr_decay: int = 40\n",
    "lr_gamma: float = 0.1\n",
    "n_starting_filters: int = 32\n",
    "n_blocks: int = 2 #Each samples down by factor of 2\n",
    "n_groups: int = 8 #For group norm\n",
    "time_embed_dim: int = 128"
   ]
  },
  {
   "cell_type": "markdown",
   "metadata": {},
   "source": [
    "### Data Loading"
   ]
  },
  {
   "cell_type": "code",
   "execution_count": 12,
   "metadata": {},
   "outputs": [
    {
     "name": "stderr",
     "output_type": "stream",
     "text": [
      "2025-02-28 22:27:52,266 - LIGHT_DEBUG - Ndarray loaded from ../Data/training_1280.npy of shape: (1280, 1024, 672)\n"
     ]
    }
   ],
   "source": [
    "file = load_training_data(f\"{DATA_PATH}/{training_data_name}.npy\")[:4, ...]"
   ]
  },
  {
   "cell_type": "code",
   "execution_count": 13,
   "metadata": {},
   "outputs": [
    {
     "name": "stderr",
     "output_type": "stream",
     "text": [
      "2025-02-28 22:27:52,458 - INFO - Data loaded with shape: (4, 1024, 672)\n"
     ]
    }
   ],
   "source": [
    "data_loader = create_dataloader(Audio_Data(file), batch_size)\n",
    "logger.info(f\"Data loaded with shape: {file.shape}\")"
   ]
  },
  {
   "cell_type": "markdown",
   "metadata": {},
   "source": [
    "### Model Creation\n",
    "U-Net"
   ]
  },
  {
   "cell_type": "code",
   "execution_count": 14,
   "metadata": {},
   "outputs": [
    {
     "name": "stderr",
     "output_type": "stream",
     "text": [
      "2025-02-28 22:27:52,894 - INFO - Model diffusion_v1 loaded with 833281 Parameters\n"
     ]
    }
   ],
   "source": [
    "\n",
    "u_net = U_NET(in_channels=1, device=device, input_shape=[0, 0, file.shape[-2], file.shape[-1]], n_res_layers=n_blocks, n_starting_filters=n_starting_filters, n_groups=n_groups, time_emb_dim=time_embed_dim).to(device)\n",
    "if os.path.exists(model_path):\n",
    "    u_net.load_state_dict(torch.load(model_path, weights_only=False, map_location=device))\n",
    "    logger.info(f\"Model {model_name} loaded with {count_parameters(u_net)} Parameters\")\n",
    "else: \n",
    "    logger.info(f\"Model {model_name} created with {count_parameters(u_net)} Parameters\")\n",
    "\n",
    "optimizer = optim.AdamW(u_net.parameters(), lr=learning_rate, weight_decay=0.05)\n",
    "scheduler = optim.lr_scheduler.StepLR(optimizer, step_size=lr_decay, gamma=lr_gamma)\n",
    "u_net = nn.DataParallel(u_net)\n",
    "u_net = u_net.to(device)"
   ]
  },
  {
   "cell_type": "markdown",
   "metadata": {},
   "source": [
    "Diffusion"
   ]
  },
  {
   "cell_type": "code",
   "execution_count": 15,
   "metadata": {},
   "outputs": [],
   "source": [
    "diffusion = Diffusion(u_net=u_net, u_net_optimizer=optimizer,diffusion_timesteps=diffusion_timesteps)\n",
    "noise_schedule = cosine_noise(T=diffusion_timesteps)"
   ]
  },
  {
   "cell_type": "markdown",
   "metadata": {},
   "source": [
    "### Train"
   ]
  },
  {
   "cell_type": "code",
   "execution_count": null,
   "metadata": {},
   "outputs": [
    {
     "name": "stdout",
     "output_type": "stream",
     "text": [
      "2025-02-28 22:29:15,000 - LIGHT_DEBUG - Batch 01/02"
     ]
    },
    {
     "name": "stderr",
     "output_type": "stream",
     "text": [
      "2025-02-28 22:30:14,547 - INFO - Epoch 01: Avg. Loss: 5.88422e-01 Remaining Time: 03h 53min 31s\n"
     ]
    },
    {
     "name": "stdout",
     "output_type": "stream",
     "text": [
      "2025-02-28 22:30:14,000 - LIGHT_DEBUG - Batch 02/02\n",
      "2025-02-28 22:31:07,000 - LIGHT_DEBUG - Batch 01/02"
     ]
    },
    {
     "name": "stderr",
     "output_type": "stream",
     "text": [
      "2025-02-28 22:32:05,563 - INFO - Epoch 02: Avg. Loss: 5.78866e-01 Remaining Time: 03h 26min 14s\n"
     ]
    },
    {
     "name": "stdout",
     "output_type": "stream",
     "text": [
      "2025-02-28 22:32:05,000 - LIGHT_DEBUG - Batch 02/02\n",
      "2025-02-28 22:33:02,000 - LIGHT_DEBUG - Batch 01/02"
     ]
    },
    {
     "name": "stderr",
     "output_type": "stream",
     "text": [
      "2025-02-28 22:34:09,107 - INFO - Epoch 03: Avg. Loss: 5.80952e-01 Remaining Time: 03h 22min 39s\n"
     ]
    },
    {
     "name": "stdout",
     "output_type": "stream",
     "text": [
      "2025-02-28 22:34:09,000 - LIGHT_DEBUG - Batch 02/02\n",
      "2025-02-28 22:35:08,000 - LIGHT_DEBUG - Batch 01/02"
     ]
    },
    {
     "name": "stderr",
     "output_type": "stream",
     "text": [
      "2025-02-28 22:36:04,272 - INFO - Epoch 04: Avg. Loss: 5.70159e-01 Remaining Time: 03h 16min 29s\n"
     ]
    },
    {
     "name": "stdout",
     "output_type": "stream",
     "text": [
      "2025-02-28 22:36:04,000 - LIGHT_DEBUG - Batch 02/02\n",
      "2025-02-28 22:36:59,000 - LIGHT_DEBUG - Batch 01/02"
     ]
    },
    {
     "name": "stderr",
     "output_type": "stream",
     "text": [
      "2025-02-28 22:38:00,050 - INFO - Epoch 05: Avg. Loss: 5.59024e-01 Remaining Time: 03h 12min 13s\n",
      "2025-02-28 22:38:00,162 - LIGHT_DEBUG - Checkpoint saved model to ../Models/diffusion_v1.pth\n"
     ]
    },
    {
     "name": "stdout",
     "output_type": "stream",
     "text": [
      "2025-02-28 22:38:00,000 - LIGHT_DEBUG - Batch 02/02\n",
      "2025-02-28 22:38:53,000 - LIGHT_DEBUG - Batch 01/02"
     ]
    },
    {
     "name": "stderr",
     "output_type": "stream",
     "text": [
      "2025-02-28 22:39:49,353 - INFO - Epoch 06: Avg. Loss: 5.58179e-01 Remaining Time: 03h 07min 00s\n"
     ]
    },
    {
     "name": "stdout",
     "output_type": "stream",
     "text": [
      "2025-02-28 22:39:49,000 - LIGHT_DEBUG - Batch 02/02\n",
      "2025-02-28 22:40:44,000 - LIGHT_DEBUG - Batch 01/02"
     ]
    },
    {
     "name": "stderr",
     "output_type": "stream",
     "text": [
      "2025-02-28 22:41:44,408 - INFO - Epoch 07: Avg. Loss: 5.45393e-01 Remaining Time: 03h 04min 03s\n"
     ]
    },
    {
     "name": "stdout",
     "output_type": "stream",
     "text": [
      "2025-02-28 22:41:44,000 - LIGHT_DEBUG - Batch 02/02\n",
      "2025-02-28 22:42:37,000 - LIGHT_DEBUG - Batch 01/02"
     ]
    },
    {
     "name": "stderr",
     "output_type": "stream",
     "text": [
      "2025-02-28 22:43:45,164 - INFO - Epoch 08: Avg. Loss: 5.46728e-01 Remaining Time: 03h 02min 27s\n"
     ]
    },
    {
     "name": "stdout",
     "output_type": "stream",
     "text": [
      "2025-02-28 22:43:45,000 - LIGHT_DEBUG - Batch 02/02\n",
      "2025-02-28 22:44:50,000 - LIGHT_DEBUG - Batch 01/02"
     ]
    },
    {
     "name": "stderr",
     "output_type": "stream",
     "text": [
      "2025-02-28 22:45:53,022 - INFO - Epoch 09: Avg. Loss: 5.43807e-01 Remaining Time: 03h 01min 58s\n"
     ]
    },
    {
     "name": "stdout",
     "output_type": "stream",
     "text": [
      "2025-02-28 22:45:53,000 - LIGHT_DEBUG - Batch 02/02\n",
      "2025-02-28 22:46:51,000 - LIGHT_DEBUG - Batch 01/02"
     ]
    },
    {
     "name": "stderr",
     "output_type": "stream",
     "text": [
      "2025-02-28 22:47:58,718 - INFO - Epoch 10: Avg. Loss: 5.41212e-01 Remaining Time: 03h 00min 49s\n",
      "2025-02-28 22:47:58,749 - LIGHT_DEBUG - Checkpoint saved model to ../Models/diffusion_v1.pth\n"
     ]
    },
    {
     "name": "stdout",
     "output_type": "stream",
     "text": [
      "2025-02-28 22:47:58,000 - LIGHT_DEBUG - Batch 02/02\n",
      "2025-02-28 22:48:50,000 - LIGHT_DEBUG - Batch 01/02"
     ]
    },
    {
     "name": "stderr",
     "output_type": "stream",
     "text": [
      "2025-02-28 22:49:49,879 - INFO - Epoch 11: Avg. Loss: 5.29968e-01 Remaining Time: 02h 57min 33s\n"
     ]
    },
    {
     "name": "stdout",
     "output_type": "stream",
     "text": [
      "2025-02-28 22:49:49,000 - LIGHT_DEBUG - Batch 02/02\n",
      "2025-02-28 22:50:50,000 - LIGHT_DEBUG - Batch 01/02"
     ]
    },
    {
     "name": "stderr",
     "output_type": "stream",
     "text": [
      "2025-02-28 22:51:42,822 - INFO - Epoch 12: Avg. Loss: 5.31602e-01 Remaining Time: 02h 54min 43s\n"
     ]
    },
    {
     "name": "stdout",
     "output_type": "stream",
     "text": [
      "2025-02-28 22:51:42,000 - LIGHT_DEBUG - Batch 02/02\n",
      "2025-02-28 22:52:42,000 - LIGHT_DEBUG - Batch 01/02"
     ]
    },
    {
     "name": "stderr",
     "output_type": "stream",
     "text": [
      "2025-02-28 22:53:34,561 - INFO - Epoch 13: Avg. Loss: 5.26413e-01 Remaining Time: 02h 51min 55s\n"
     ]
    },
    {
     "name": "stdout",
     "output_type": "stream",
     "text": [
      "2025-02-28 22:53:34,000 - LIGHT_DEBUG - Batch 02/02\n",
      "2025-02-28 22:54:26,000 - LIGHT_DEBUG - Batch 01/02"
     ]
    },
    {
     "name": "stderr",
     "output_type": "stream",
     "text": [
      "2025-02-28 22:55:25,964 - INFO - Epoch 14: Avg. Loss: 5.25041e-01 Remaining Time: 02h 49min 12s\n"
     ]
    },
    {
     "name": "stdout",
     "output_type": "stream",
     "text": [
      "2025-02-28 22:55:25,000 - LIGHT_DEBUG - Batch 02/02\n",
      "2025-02-28 22:56:29,000 - LIGHT_DEBUG - Batch 01/02"
     ]
    },
    {
     "name": "stderr",
     "output_type": "stream",
     "text": [
      "2025-02-28 22:57:28,793 - INFO - Epoch 15: Avg. Loss: 5.21282e-01 Remaining Time: 02h 47min 41s\n",
      "2025-02-28 22:57:28,861 - LIGHT_DEBUG - Checkpoint saved model to ../Models/diffusion_v1.pth\n"
     ]
    },
    {
     "name": "stdout",
     "output_type": "stream",
     "text": [
      "2025-02-28 22:57:28,000 - LIGHT_DEBUG - Batch 02/02\n",
      "2025-02-28 22:58:30,000 - LIGHT_DEBUG - Batch 01/02"
     ]
    },
    {
     "name": "stderr",
     "output_type": "stream",
     "text": [
      "2025-02-28 22:59:39,202 - INFO - Epoch 16: Avg. Loss: 5.20425e-01 Remaining Time: 02h 46min 46s\n"
     ]
    },
    {
     "name": "stdout",
     "output_type": "stream",
     "text": [
      "2025-02-28 22:59:39,000 - LIGHT_DEBUG - Batch 02/02\n",
      "2025-02-28 23:00:37,000 - LIGHT_DEBUG - Batch 01/02"
     ]
    },
    {
     "name": "stderr",
     "output_type": "stream",
     "text": [
      "2025-02-28 23:01:29,372 - INFO - Epoch 17: Avg. Loss: 5.14987e-01 Remaining Time: 02h 44min 03s\n"
     ]
    },
    {
     "name": "stdout",
     "output_type": "stream",
     "text": [
      "2025-02-28 23:01:29,000 - LIGHT_DEBUG - Batch 02/02\n"
     ]
    }
   ],
   "source": [
    "diffusion.train(data_loader, device, epochs=epochs, loss_function=U_Net_loss, noise_schedule=noise_schedule, checkpoint_freq=checkpoint_freq, model_path=model_path)"
   ]
  }
 ],
 "metadata": {
  "kernelspec": {
   "display_name": "Python 3",
   "language": "python",
   "name": "python3"
  },
  "language_info": {
   "codemirror_mode": {
    "name": "ipython",
    "version": 3
   },
   "file_extension": ".py",
   "mimetype": "text/x-python",
   "name": "python",
   "nbconvert_exporter": "python",
   "pygments_lexer": "ipython3",
   "version": "3.13.2"
  }
 },
 "nbformat": 4,
 "nbformat_minor": 2
}
