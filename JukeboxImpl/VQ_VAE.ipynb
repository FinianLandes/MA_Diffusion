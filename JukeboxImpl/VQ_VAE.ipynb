{
 "cells": [
  {
   "cell_type": "markdown",
   "id": "c14a49aa",
   "metadata": {},
   "source": [
    "# Implementation of a VQ-VAE based on Jukebox by OpenAI"
   ]
  },
  {
   "cell_type": "markdown",
   "id": "02e0b0f1",
   "metadata": {},
   "source": [
    "## Imports"
   ]
  },
  {
   "cell_type": "code",
   "execution_count": 1,
   "id": "be45533b",
   "metadata": {},
   "outputs": [],
   "source": [
    "try: \n",
    "    import librosa\n",
    "except:\n",
    "    !pip install librosa\n",
    "try: \n",
    "    import optuna, plotly\n",
    "except:\n",
    "    !pip install optuna\n",
    "    !pip install plotly\n",
    "\n",
    "\n",
    "#Set Dir \n",
    "import sys, os\n",
    "sys.path.append(os.path.abspath('..'))\n",
    "\n",
    "# Torch\n",
    "import torch\n",
    "from torch import nn, Tensor\n",
    "from torch.utils.data import DataLoader, Subset\n",
    "import torch.optim as optim\n",
    "import torch.nn.functional as F\n",
    "import optuna, plotly\n",
    "from optuna.importance import get_param_importances\n",
    "from optuna.visualization import plot_param_importances\n",
    "\n",
    "# Utils\n",
    "import numpy as np\n",
    "from numpy import ndarray\n",
    "import logging, math\n",
    "\n",
    "\n",
    "# Base Scripts\n",
    "from Libraries.Utils import *\n",
    "from Libraries.VQ_VAE import *"
   ]
  },
  {
   "cell_type": "markdown",
   "id": "470240a6",
   "metadata": {},
   "source": [
    "## Setup"
   ]
  },
  {
   "cell_type": "markdown",
   "id": "a75d25f2",
   "metadata": {},
   "source": [
    "### Initial Setup"
   ]
  },
  {
   "cell_type": "code",
   "execution_count": 2,
   "id": "d8dd323f",
   "metadata": {},
   "outputs": [],
   "source": [
    "remote_kernel: bool = True\n",
    "device: str = \"cuda\" if torch.cuda.is_available() else \"cpu\"\n",
    "training_data_name: str = \"../Data/training_v2_full\"\n",
    "test_data_name: str = \"../Data/unseen_test_data.npy\"\n",
    "model_name: str = \"VQ_VAE_small_v1\"\n",
    "full_model_path: str = OS().path_to_remote_path(\"../Models/{}\".format(model_name), remote_kernel)"
   ]
  },
  {
   "cell_type": "markdown",
   "id": "52a3f910",
   "metadata": {},
   "source": [
    "### Logging"
   ]
  },
  {
   "cell_type": "code",
   "execution_count": 3,
   "id": "6eda145e",
   "metadata": {},
   "outputs": [],
   "source": [
    "logging_level: int = logging.INFO\n",
    "logging.basicConfig(level=logging_level, format='%(asctime)s - %(levelname)s - %(message)s')\n",
    "logger: logging.Logger = logging.getLogger(__name__)"
   ]
  },
  {
   "cell_type": "markdown",
   "id": "6f964eab",
   "metadata": {},
   "source": [
    "### Data Hyperparameters"
   ]
  },
  {
   "cell_type": "code",
   "execution_count": 4,
   "id": "1b642b0e",
   "metadata": {},
   "outputs": [],
   "source": [
    "n_train_samples: int = 2048\n",
    "batch_size: int = 48\n",
    "n_workers: int = 1"
   ]
  },
  {
   "cell_type": "markdown",
   "id": "a54d106b",
   "metadata": {},
   "source": [
    "### Data loading"
   ]
  },
  {
   "cell_type": "code",
   "execution_count": 5,
   "id": "4b7e91ab",
   "metadata": {},
   "outputs": [
    {
     "name": "stderr",
     "output_type": "stream",
     "text": [
      "2025-08-03 12:21:33,612 - INFO - Created train dataset with length 2048 and validation dataset with length 102\n"
     ]
    }
   ],
   "source": [
    "md = ModelData()\n",
    "md.load_data_from_path(data_path=OS().path_to_remote_path(training_data_name, remote_kernel))\n",
    "md.create_validation_split(n_train_samples)\n",
    "train_datatset, val_dataset = md.create_datasets()\n",
    "train_dataloader, val_dataloader = md.create_dataloaders(batch_size, num_workers=n_workers)\n",
    "logger.info(f\"Created train dataset with length {len(md.train_dataset)} and validation dataset with length {len(md.val_dataset)}\")"
   ]
  },
  {
   "cell_type": "code",
   "execution_count": 6,
   "id": "969114eb",
   "metadata": {},
   "outputs": [
    {
     "name": "stderr",
     "output_type": "stream",
     "text": [
      "2025-08-03 12:21:34,173 - INFO - Created test dataset with length 268\n"
     ]
    }
   ],
   "source": [
    "md = ModelData()\n",
    "md.load_data_from_path(data_path=OS().path_to_remote_path(test_data_name, remote_kernel))\n",
    "md.create_validation_split()\n",
    "test_dataset, _ = md.create_datasets()\n",
    "test_dataloader, _ = md.create_dataloaders(batch_size, num_workers=n_workers)\n",
    "logger.info(f\"Created test dataset with length {len(md.train_dataset)}\")"
   ]
  },
  {
   "cell_type": "markdown",
   "id": "4e872df2",
   "metadata": {},
   "source": [
    "## Model Setup"
   ]
  },
  {
   "cell_type": "markdown",
   "id": "c8ce5df6",
   "metadata": {},
   "source": [
    "### Hyperparameters"
   ]
  },
  {
   "cell_type": "code",
   "execution_count": 7,
   "id": "50e1ad16",
   "metadata": {},
   "outputs": [],
   "source": [
    "b1, b2 = (0.9, 0.99)\n",
    "lr: float = 5e-5\n",
    "n_epochs: int = 210\n",
    "checkpoint_freq: int = 5\n",
    "lr_restart_period: int = 50\n",
    "restart_training: bool = True"
   ]
  },
  {
   "cell_type": "markdown",
   "id": "1f4c97f1",
   "metadata": {},
   "source": [
    "### Models"
   ]
  },
  {
   "cell_type": "code",
   "execution_count": 8,
   "id": "06928075",
   "metadata": {},
   "outputs": [],
   "source": [
    "vq_vae = VQVAE(input_emb_width=1, output_emb_width=64, k_bins=1024, levels=1, downs_t=[3], strides_t=[2]).to(device)"
   ]
  },
  {
   "cell_type": "markdown",
   "id": "caa22fbc",
   "metadata": {},
   "source": [
    "### Optimizers & Schedulers"
   ]
  },
  {
   "cell_type": "code",
   "execution_count": 9,
   "id": "fd975db6",
   "metadata": {},
   "outputs": [],
   "source": [
    "optimizer = optim.AdamW(vq_vae.parameters(), lr, (b1, b2))\n",
    "scheduler = optim.lr_scheduler.CosineAnnealingWarmRestarts(optimizer, T_0=lr_restart_period, eta_min=1e-7, T_mult=2)"
   ]
  },
  {
   "cell_type": "markdown",
   "id": "19341cc4",
   "metadata": {},
   "source": [
    "### Load Model"
   ]
  },
  {
   "cell_type": "code",
   "execution_count": 10,
   "id": "3ffc45e7",
   "metadata": {},
   "outputs": [
    {
     "name": "stderr",
     "output_type": "stream",
     "text": [
      "2025-08-03 12:21:35,186 - INFO - Model VQ_VAE_small_v1 loaded with ~597.5k Parameters\n"
     ]
    }
   ],
   "source": [
    "if os.path.exists(full_model_path):\n",
    "    model = torch.load(full_model_path, map_location=device)\n",
    "    vq_vae.load_state_dict(model[\"vq_vae\"])\n",
    "\n",
    "    if not restart_training:\n",
    "        optimizer.load_state_dict(model[\"optim\"])\n",
    "        start_epoch = model.get(\"epoch\", 0)\n",
    "    logger.info(f\"Model {model_name} loaded with {count_parameters(vq_vae)} Parameters\")\n",
    "else: \n",
    "    logger.info(f\"Model {model_name} created with {count_parameters(vq_vae)} Parameters\")"
   ]
  },
  {
   "cell_type": "markdown",
   "id": "2ecfb1f7",
   "metadata": {},
   "source": [
    "## Training"
   ]
  },
  {
   "cell_type": "code",
   "execution_count": 11,
   "id": "24a8a482",
   "metadata": {},
   "outputs": [],
   "source": [
    "torch.backends.cudnn.benchmark = True\n",
    "loss_fn = nn.MSELoss()\n",
    "commit_loss_weight = 0.02"
   ]
  },
  {
   "cell_type": "code",
   "execution_count": 12,
   "id": "fad398e3",
   "metadata": {},
   "outputs": [
    {
     "name": "stderr",
     "output_type": "stream",
     "text": [
      "2025-08-03 12:21:35,391 - INFO - Training started on cuda\n",
      "2025-08-03 12:22:59,968 - INFO - Epoch 001: Avg. Loss: 2.0529e-02 Fit 5.5507e+00 Remaining Time: 04h 54min 36s LR: 4.99508e-05\n",
      "2025-08-03 12:24:02,121 - INFO - Epoch 002: Avg. Loss: 1.9250e-02 Fit 5.5142e+00 Remaining Time: 04h 13min 41s LR: 4.98033e-05\n",
      "2025-08-03 12:25:04,174 - INFO - Epoch 003: Avg. Loss: 1.8488e-02 Fit 5.4967e+00 Remaining Time: 03h 59min 15s LR: 4.95581e-05\n",
      "2025-08-03 12:26:06,182 - INFO - Epoch 004: Avg. Loss: 1.7464e-02 Fit 5.4623e+00 Remaining Time: 03h 51min 29s LR: 4.92161e-05\n",
      "2025-08-03 12:27:08,227 - INFO - Epoch 005: Avg. Loss: 1.6685e-02 Fit 5.2607e+00 Remaining Time: 03h 46min 26s LR: 4.87789e-05\n",
      "2025-08-03 12:28:10,286 - INFO - Epoch 006: Avg. Loss: 1.6273e-02 Fit 5.1716e+00 Remaining Time: 03h 42min 43s LR: 4.82479e-05\n",
      "2025-08-03 12:29:12,333 - INFO - Epoch 007: Avg. Loss: 1.5755e-02 Fit 5.1738e+00 Remaining Time: 03h 39min 47s LR: 4.76254e-05\n",
      "2025-08-03 12:30:14,380 - INFO - Epoch 008: Avg. Loss: 1.5318e-02 Fit 5.1319e+00 Remaining Time: 03h 37min 19s LR: 4.69139e-05\n",
      "2025-08-03 12:31:16,451 - INFO - Epoch 009: Avg. Loss: 1.5028e-02 Fit 5.1064e+00 Remaining Time: 03h 35min 11s LR: 4.61160e-05\n",
      "2025-08-03 12:32:18,543 - INFO - Epoch 010: Avg. Loss: 1.4765e-02 Fit 5.0902e+00 Remaining Time: 03h 33min 17s LR: 4.52350e-05\n",
      "2025-08-03 12:33:20,606 - INFO - Epoch 011: Avg. Loss: 1.4542e-02 Fit 5.0786e+00 Remaining Time: 03h 31min 31s LR: 4.42743e-05\n",
      "2025-08-03 12:34:22,662 - INFO - Epoch 012: Avg. Loss: 1.4358e-02 Fit 5.0695e+00 Remaining Time: 03h 29min 53s LR: 4.32378e-05\n",
      "2025-08-03 12:35:24,752 - INFO - Epoch 013: Avg. Loss: 1.4171e-02 Fit 5.0721e+00 Remaining Time: 03h 28min 21s LR: 4.21295e-05\n",
      "2025-08-03 12:36:26,786 - INFO - Epoch 014: Avg. Loss: 1.4123e-02 Fit 5.0591e+00 Remaining Time: 03h 26min 52s LR: 4.09537e-05\n",
      "2025-08-03 12:37:28,812 - INFO - Epoch 015: Avg. Loss: 1.4066e-02 Fit 5.0498e+00 Remaining Time: 03h 25min 27s LR: 3.97152e-05\n",
      "2025-08-03 12:38:30,882 - INFO - Epoch 016: Avg. Loss: 1.3981e-02 Fit 5.0424e+00 Remaining Time: 03h 24min 05s LR: 3.84189e-05\n",
      "2025-08-03 12:39:32,878 - INFO - Epoch 017: Avg. Loss: 1.3899e-02 Fit 5.0369e+00 Remaining Time: 03h 22min 45s LR: 3.70698e-05\n",
      "2025-08-03 12:40:34,910 - INFO - Epoch 018: Avg. Loss: 1.3844e-02 Fit 5.0323e+00 Remaining Time: 03h 21min 28s LR: 3.56732e-05\n",
      "2025-08-03 12:41:36,887 - INFO - Epoch 019: Avg. Loss: 1.3772e-02 Fit 5.0282e+00 Remaining Time: 03h 20min 11s LR: 3.42347e-05\n",
      "2025-08-03 12:42:38,865 - INFO - Epoch 020: Avg. Loss: 1.3732e-02 Fit 5.0238e+00 Remaining Time: 03h 18min 56s LR: 3.27600e-05\n",
      "2025-08-03 12:43:40,876 - INFO - Epoch 021: Avg. Loss: 1.3695e-02 Fit 5.0197e+00 Remaining Time: 03h 17min 42s LR: 3.12548e-05\n",
      "2025-08-03 12:44:42,868 - INFO - Epoch 022: Avg. Loss: 1.3655e-02 Fit 5.0159e+00 Remaining Time: 03h 16min 30s LR: 2.97252e-05\n",
      "2025-08-03 12:45:44,868 - INFO - Epoch 023: Avg. Loss: 1.3647e-02 Fit 5.0125e+00 Remaining Time: 03h 15min 19s LR: 2.81771e-05\n",
      "2025-08-03 12:46:46,828 - INFO - Epoch 024: Avg. Loss: 1.3612e-02 Fit 5.0093e+00 Remaining Time: 03h 14min 08s LR: 2.66166e-05\n",
      "2025-08-03 12:47:48,787 - INFO - Epoch 025: Avg. Loss: 1.3590e-02 Fit 5.0060e+00 Remaining Time: 03h 12min 57s LR: 2.50500e-05\n",
      "2025-08-03 12:48:50,813 - INFO - Epoch 026: Avg. Loss: 1.3557e-02 Fit 5.0031e+00 Remaining Time: 03h 11min 48s LR: 2.34834e-05\n",
      "2025-08-03 12:49:52,811 - INFO - Epoch 027: Avg. Loss: 1.3522e-02 Fit 5.0002e+00 Remaining Time: 03h 10min 39s LR: 2.19229e-05\n",
      "2025-08-03 12:50:54,845 - INFO - Epoch 028: Avg. Loss: 1.3514e-02 Fit 4.9977e+00 Remaining Time: 03h 09min 31s LR: 2.03748e-05\n",
      "2025-08-03 12:51:56,835 - INFO - Epoch 029: Avg. Loss: 1.3517e-02 Fit 4.9958e+00 Remaining Time: 03h 08min 23s LR: 1.88452e-05\n",
      "2025-08-03 12:52:58,831 - INFO - Epoch 030: Avg. Loss: 1.3516e-02 Fit 4.9928e+00 Remaining Time: 03h 07min 16s LR: 1.73400e-05\n",
      "2025-08-03 12:54:00,830 - INFO - Epoch 031: Avg. Loss: 1.3501e-02 Fit 4.9907e+00 Remaining Time: 03h 06min 09s LR: 1.58653e-05\n",
      "2025-08-03 12:55:02,848 - INFO - Epoch 032: Avg. Loss: 1.3499e-02 Fit 4.9888e+00 Remaining Time: 03h 05min 02s LR: 1.44268e-05\n",
      "2025-08-03 12:56:04,850 - INFO - Epoch 033: Avg. Loss: 1.3502e-02 Fit 4.9870e+00 Remaining Time: 03h 03min 56s LR: 1.30302e-05\n",
      "2025-08-03 12:57:06,870 - INFO - Epoch 034: Avg. Loss: 1.3501e-02 Fit 4.9847e+00 Remaining Time: 03h 02min 50s LR: 1.16811e-05\n",
      "2025-08-03 12:58:08,885 - INFO - Epoch 035: Avg. Loss: 1.3497e-02 Fit 4.9830e+00 Remaining Time: 03h 01min 44s LR: 1.03848e-05\n",
      "2025-08-03 12:59:10,946 - INFO - Epoch 036: Avg. Loss: 1.3495e-02 Fit 4.9816e+00 Remaining Time: 03h 00min 39s LR: 9.14627e-06\n",
      "2025-08-03 13:00:12,952 - INFO - Epoch 037: Avg. Loss: 1.3487e-02 Fit 4.9800e+00 Remaining Time: 02h 59min 34s LR: 7.97055e-06\n",
      "2025-08-03 13:01:14,994 - INFO - Epoch 038: Avg. Loss: 1.3480e-02 Fit 4.9789e+00 Remaining Time: 02h 58min 29s LR: 6.86223e-06\n",
      "2025-08-03 13:02:17,029 - INFO - Epoch 039: Avg. Loss: 1.3474e-02 Fit 4.9770e+00 Remaining Time: 02h 57min 24s LR: 5.82569e-06\n",
      "2025-08-03 13:03:19,037 - INFO - Epoch 040: Avg. Loss: 1.3469e-02 Fit 4.9750e+00 Remaining Time: 02h 56min 19s LR: 4.86503e-06\n",
      "2025-08-03 13:04:21,082 - INFO - Epoch 041: Avg. Loss: 1.3461e-02 Fit 4.9732e+00 Remaining Time: 02h 55min 14s LR: 3.98402e-06\n",
      "2025-08-03 13:05:23,090 - INFO - Epoch 042: Avg. Loss: 1.3456e-02 Fit 4.9722e+00 Remaining Time: 02h 54min 10s LR: 3.18615e-06\n",
      "2025-08-03 13:06:25,111 - INFO - Epoch 043: Avg. Loss: 1.3455e-02 Fit 4.9705e+00 Remaining Time: 02h 53min 05s LR: 2.47457e-06\n",
      "2025-08-03 13:07:27,143 - INFO - Epoch 044: Avg. Loss: 1.3454e-02 Fit 4.9695e+00 Remaining Time: 02h 52min 01s LR: 1.85208e-06\n",
      "2025-08-03 13:08:29,144 - INFO - Epoch 045: Avg. Loss: 1.3450e-02 Fit 4.9685e+00 Remaining Time: 02h 50min 57s LR: 1.32114e-06\n",
      "2025-08-03 13:09:31,195 - INFO - Epoch 046: Avg. Loss: 1.3450e-02 Fit 4.9668e+00 Remaining Time: 02h 49min 53s LR: 8.83850e-07\n",
      "2025-08-03 13:10:33,234 - INFO - Epoch 047: Avg. Loss: 1.3453e-02 Fit 4.9657e+00 Remaining Time: 02h 48min 49s LR: 5.41933e-07\n",
      "2025-08-03 13:11:35,251 - INFO - Epoch 048: Avg. Loss: 1.3460e-02 Fit 4.9644e+00 Remaining Time: 02h 47min 45s LR: 2.96738e-07\n",
      "2025-08-03 13:12:37,279 - INFO - Epoch 049: Avg. Loss: 1.3466e-02 Fit 4.9634e+00 Remaining Time: 02h 46min 42s LR: 1.49233e-07\n",
      "2025-08-03 13:13:39,300 - INFO - Epoch 050: Avg. Loss: 1.3469e-02 Fit 4.9619e+00 Remaining Time: 02h 45min 38s LR: 5.00000e-05\n",
      "2025-08-03 13:14:41,351 - INFO - Epoch 051: Avg. Loss: 1.3454e-02 Fit 4.9612e+00 Remaining Time: 02h 44min 35s LR: 4.99877e-05\n",
      "2025-08-03 13:15:43,373 - INFO - Epoch 052: Avg. Loss: 1.3426e-02 Fit 4.9591e+00 Remaining Time: 02h 43min 31s LR: 4.99508e-05\n",
      "2025-08-03 13:16:45,419 - INFO - Epoch 053: Avg. Loss: 1.3409e-02 Fit 4.9579e+00 Remaining Time: 02h 42min 28s LR: 4.98893e-05\n",
      "2025-08-03 13:17:47,451 - INFO - Epoch 054: Avg. Loss: 1.3525e-02 Fit 5.0947e+00 Remaining Time: 02h 41min 24s LR: 4.98033e-05\n",
      "2025-08-03 13:18:49,459 - INFO - Epoch 055: Avg. Loss: 1.3590e-02 Fit 5.0651e+00 Remaining Time: 02h 40min 21s LR: 4.96928e-05\n",
      "2025-08-03 13:19:51,787 - INFO - Epoch 056: Avg. Loss: 1.3636e-02 Fit 5.0484e+00 Remaining Time: 02h 39min 18s LR: 4.95581e-05\n",
      "2025-08-03 13:20:53,798 - INFO - Epoch 057: Avg. Loss: 1.3651e-02 Fit 5.0401e+00 Remaining Time: 02h 38min 15s LR: 4.93991e-05\n",
      "2025-08-03 13:21:55,829 - INFO - Epoch 058: Avg. Loss: 1.3662e-02 Fit 5.0359e+00 Remaining Time: 02h 37min 12s LR: 4.92161e-05\n",
      "2025-08-03 13:22:57,856 - INFO - Epoch 059: Avg. Loss: 1.3671e-02 Fit 5.0328e+00 Remaining Time: 02h 36min 09s LR: 4.90093e-05\n",
      "2025-08-03 13:23:59,882 - INFO - Epoch 060: Avg. Loss: 1.3680e-02 Fit 5.0305e+00 Remaining Time: 02h 35min 06s LR: 4.87789e-05\n",
      "2025-08-03 13:25:01,936 - INFO - Epoch 061: Avg. Loss: 1.3697e-02 Fit 5.0280e+00 Remaining Time: 02h 34min 03s LR: 4.85250e-05\n",
      "2025-08-03 13:26:03,991 - INFO - Epoch 062: Avg. Loss: 1.3707e-02 Fit 5.0262e+00 Remaining Time: 02h 33min 00s LR: 4.82479e-05\n",
      "2025-08-03 13:27:06,016 - INFO - Epoch 063: Avg. Loss: 1.3707e-02 Fit 5.0247e+00 Remaining Time: 02h 31min 57s LR: 4.79480e-05\n",
      "2025-08-03 13:28:08,144 - INFO - Epoch 064: Avg. Loss: 1.3705e-02 Fit 5.0233e+00 Remaining Time: 02h 30min 54s LR: 4.76254e-05\n",
      "2025-08-03 13:29:10,293 - INFO - Epoch 065: Avg. Loss: 1.3700e-02 Fit 5.0222e+00 Remaining Time: 02h 29min 52s LR: 4.72806e-05\n",
      "2025-08-03 13:30:12,338 - INFO - Epoch 066: Avg. Loss: 1.3704e-02 Fit 5.0210e+00 Remaining Time: 02h 28min 49s LR: 4.69139e-05\n",
      "2025-08-03 13:31:14,335 - INFO - Epoch 067: Avg. Loss: 1.3705e-02 Fit 5.0200e+00 Remaining Time: 02h 27min 46s LR: 4.65255e-05\n",
      "2025-08-03 13:32:16,373 - INFO - Epoch 068: Avg. Loss: 1.3711e-02 Fit 5.0189e+00 Remaining Time: 02h 26min 43s LR: 4.61160e-05\n",
      "2025-08-03 13:33:18,455 - INFO - Epoch 069: Avg. Loss: 1.3716e-02 Fit 5.0174e+00 Remaining Time: 02h 25min 41s LR: 4.56857e-05\n",
      "2025-08-03 13:34:20,545 - INFO - Epoch 070: Avg. Loss: 1.3710e-02 Fit 5.0167e+00 Remaining Time: 02h 24min 38s LR: 4.52350e-05\n",
      "2025-08-03 13:35:22,607 - INFO - Epoch 071: Avg. Loss: 1.3663e-02 Fit 5.0154e+00 Remaining Time: 02h 23min 36s LR: 4.47644e-05\n",
      "2025-08-03 13:36:24,638 - INFO - Epoch 072: Avg. Loss: 1.3637e-02 Fit 5.0105e+00 Remaining Time: 02h 22min 33s LR: 4.42743e-05\n",
      "2025-08-03 13:37:26,689 - INFO - Epoch 073: Avg. Loss: 1.3633e-02 Fit 5.0078e+00 Remaining Time: 02h 21min 31s LR: 4.37653e-05\n",
      "2025-08-03 13:38:28,708 - INFO - Epoch 074: Avg. Loss: 1.3628e-02 Fit 5.0065e+00 Remaining Time: 02h 20min 28s LR: 4.32378e-05\n",
      "2025-08-03 13:39:30,699 - INFO - Epoch 075: Avg. Loss: 1.3622e-02 Fit 5.0052e+00 Remaining Time: 02h 19min 25s LR: 4.26923e-05\n",
      "2025-08-03 13:40:32,741 - INFO - Epoch 076: Avg. Loss: 1.3635e-02 Fit 5.0042e+00 Remaining Time: 02h 18min 23s LR: 4.21295e-05\n",
      "2025-08-03 13:41:34,782 - INFO - Epoch 077: Avg. Loss: 1.3632e-02 Fit 5.0034e+00 Remaining Time: 02h 17min 20s LR: 4.15497e-05\n",
      "2025-08-03 13:42:36,802 - INFO - Epoch 078: Avg. Loss: 1.3625e-02 Fit 5.0032e+00 Remaining Time: 02h 16min 18s LR: 4.09537e-05\n",
      "2025-08-03 13:43:38,882 - INFO - Epoch 079: Avg. Loss: 1.3625e-02 Fit 5.0021e+00 Remaining Time: 02h 15min 16s LR: 4.03420e-05\n",
      "2025-08-03 13:44:40,943 - INFO - Epoch 080: Avg. Loss: 1.3625e-02 Fit 5.0016e+00 Remaining Time: 02h 14min 13s LR: 3.97152e-05\n",
      "2025-08-03 13:45:43,022 - INFO - Epoch 081: Avg. Loss: 1.3775e-02 Fit 5.1742e+00 Remaining Time: 02h 13min 11s LR: 3.90740e-05\n",
      "2025-08-03 13:46:45,109 - INFO - Epoch 082: Avg. Loss: 1.3833e-02 Fit 5.0845e+00 Remaining Time: 02h 12min 09s LR: 3.84189e-05\n",
      "2025-08-03 13:47:47,234 - INFO - Epoch 083: Avg. Loss: 1.3836e-02 Fit 5.0409e+00 Remaining Time: 02h 11min 06s LR: 3.77506e-05\n",
      "2025-08-03 13:48:49,313 - INFO - Epoch 084: Avg. Loss: 1.3847e-02 Fit 5.0191e+00 Remaining Time: 02h 10min 04s LR: 3.70698e-05\n",
      "2025-08-03 13:49:51,304 - INFO - Epoch 085: Avg. Loss: 1.3896e-02 Fit 5.0073e+00 Remaining Time: 02h 09min 02s LR: 3.63771e-05\n",
      "2025-08-03 13:50:53,368 - INFO - Epoch 086: Avg. Loss: 1.3922e-02 Fit 5.0005e+00 Remaining Time: 02h 07min 59s LR: 3.56732e-05\n",
      "2025-08-03 13:51:55,447 - INFO - Epoch 087: Avg. Loss: 1.3928e-02 Fit 4.9961e+00 Remaining Time: 02h 06min 57s LR: 3.49588e-05\n",
      "2025-08-03 13:52:57,478 - INFO - Epoch 088: Avg. Loss: 1.3930e-02 Fit 4.9941e+00 Remaining Time: 02h 05min 55s LR: 3.42347e-05\n",
      "2025-08-03 13:53:59,512 - INFO - Epoch 089: Avg. Loss: 1.3950e-02 Fit 4.9920e+00 Remaining Time: 02h 04min 53s LR: 3.35015e-05\n",
      "2025-08-03 13:55:01,485 - INFO - Epoch 090: Avg. Loss: 1.3980e-02 Fit 4.9901e+00 Remaining Time: 02h 03min 50s LR: 3.27600e-05\n",
      "2025-08-03 13:56:03,515 - INFO - Epoch 091: Avg. Loss: 1.3997e-02 Fit 4.9891e+00 Remaining Time: 02h 02min 48s LR: 3.20108e-05\n",
      "2025-08-03 13:57:05,531 - INFO - Epoch 092: Avg. Loss: 1.4011e-02 Fit 4.9881e+00 Remaining Time: 02h 01min 46s LR: 3.12548e-05\n",
      "2025-08-03 13:58:07,536 - INFO - Epoch 093: Avg. Loss: 1.4031e-02 Fit 4.9876e+00 Remaining Time: 02h 00min 43s LR: 3.04927e-05\n",
      "2025-08-03 13:59:09,551 - INFO - Epoch 094: Avg. Loss: 1.4054e-02 Fit 4.9870e+00 Remaining Time: 01h 59min 41s LR: 2.97252e-05\n",
      "2025-08-03 14:00:11,580 - INFO - Epoch 095: Avg. Loss: 1.4079e-02 Fit 4.9861e+00 Remaining Time: 01h 58min 39s LR: 2.89530e-05\n",
      "2025-08-03 14:01:13,660 - INFO - Epoch 096: Avg. Loss: 1.4120e-02 Fit 4.9854e+00 Remaining Time: 01h 57min 37s LR: 2.81771e-05\n",
      "2025-08-03 14:02:15,770 - INFO - Epoch 097: Avg. Loss: 1.4128e-02 Fit 4.9852e+00 Remaining Time: 01h 56min 35s LR: 2.73980e-05\n",
      "2025-08-03 14:03:17,869 - INFO - Epoch 098: Avg. Loss: 1.4130e-02 Fit 4.9845e+00 Remaining Time: 01h 55min 33s LR: 2.66166e-05\n",
      "2025-08-03 14:04:19,947 - INFO - Epoch 099: Avg. Loss: 1.4133e-02 Fit 4.9843e+00 Remaining Time: 01h 54min 31s LR: 2.58337e-05\n",
      "2025-08-03 14:05:21,988 - INFO - Epoch 100: Avg. Loss: 1.4139e-02 Fit 4.9836e+00 Remaining Time: 01h 53min 28s LR: 2.50500e-05\n",
      "2025-08-03 14:06:24,093 - INFO - Epoch 101: Avg. Loss: 1.4148e-02 Fit 4.9835e+00 Remaining Time: 01h 52min 26s LR: 2.42663e-05\n",
      "2025-08-03 14:07:26,179 - INFO - Epoch 102: Avg. Loss: 1.4154e-02 Fit 4.9826e+00 Remaining Time: 01h 51min 24s LR: 2.34834e-05\n",
      "2025-08-03 14:08:28,211 - INFO - Epoch 103: Avg. Loss: 1.4151e-02 Fit 4.9824e+00 Remaining Time: 01h 50min 22s LR: 2.27020e-05\n",
      "2025-08-03 14:09:30,279 - INFO - Epoch 104: Avg. Loss: 1.4147e-02 Fit 4.9819e+00 Remaining Time: 01h 49min 20s LR: 2.19229e-05\n",
      "2025-08-03 14:10:32,339 - INFO - Epoch 105: Avg. Loss: 1.4141e-02 Fit 4.9816e+00 Remaining Time: 01h 48min 18s LR: 2.11470e-05\n",
      "2025-08-03 14:11:34,428 - INFO - Epoch 106: Avg. Loss: 1.4131e-02 Fit 4.9809e+00 Remaining Time: 01h 47min 16s LR: 2.03748e-05\n",
      "2025-08-03 14:12:36,510 - INFO - Epoch 107: Avg. Loss: 1.4123e-02 Fit 4.9805e+00 Remaining Time: 01h 46min 14s LR: 1.96073e-05\n",
      "2025-08-03 14:13:38,507 - INFO - Epoch 108: Avg. Loss: 1.4127e-02 Fit 4.9802e+00 Remaining Time: 01h 45min 12s LR: 1.88452e-05\n",
      "2025-08-03 14:14:40,548 - INFO - Epoch 109: Avg. Loss: 1.4132e-02 Fit 4.9796e+00 Remaining Time: 01h 44min 10s LR: 1.80892e-05\n",
      "2025-08-03 14:15:42,594 - INFO - Epoch 110: Avg. Loss: 1.4133e-02 Fit 4.9792e+00 Remaining Time: 01h 43min 07s LR: 1.73400e-05\n",
      "2025-08-03 14:16:44,674 - INFO - Epoch 111: Avg. Loss: 1.4132e-02 Fit 4.9792e+00 Remaining Time: 01h 42min 05s LR: 1.65985e-05\n",
      "2025-08-03 14:17:46,714 - INFO - Epoch 112: Avg. Loss: 1.4131e-02 Fit 4.9790e+00 Remaining Time: 01h 41min 03s LR: 1.58653e-05\n",
      "2025-08-03 14:18:48,756 - INFO - Epoch 113: Avg. Loss: 1.4129e-02 Fit 4.9783e+00 Remaining Time: 01h 40min 01s LR: 1.51412e-05\n",
      "2025-08-03 14:19:50,818 - INFO - Epoch 114: Avg. Loss: 1.4124e-02 Fit 4.9778e+00 Remaining Time: 01h 38min 59s LR: 1.44268e-05\n",
      "2025-08-03 14:20:52,841 - INFO - Epoch 115: Avg. Loss: 1.4119e-02 Fit 4.9774e+00 Remaining Time: 01h 37min 57s LR: 1.37229e-05\n",
      "2025-08-03 14:21:54,900 - INFO - Epoch 116: Avg. Loss: 1.4114e-02 Fit 4.9768e+00 Remaining Time: 01h 36min 55s LR: 1.30302e-05\n",
      "2025-08-03 14:22:56,952 - INFO - Epoch 117: Avg. Loss: 1.4115e-02 Fit 4.9766e+00 Remaining Time: 01h 35min 53s LR: 1.23494e-05\n",
      "2025-08-03 14:23:58,994 - INFO - Epoch 118: Avg. Loss: 1.4113e-02 Fit 4.9764e+00 Remaining Time: 01h 34min 51s LR: 1.16811e-05\n",
      "2025-08-03 14:25:01,011 - INFO - Epoch 119: Avg. Loss: 1.4117e-02 Fit 4.9757e+00 Remaining Time: 01h 33min 49s LR: 1.10260e-05\n",
      "2025-08-03 14:26:03,021 - INFO - Epoch 120: Avg. Loss: 1.4122e-02 Fit 4.9759e+00 Remaining Time: 01h 32min 47s LR: 1.03848e-05\n",
      "2025-08-03 14:27:05,070 - INFO - Epoch 121: Avg. Loss: 1.4124e-02 Fit 4.9754e+00 Remaining Time: 01h 31min 45s LR: 9.75797e-06\n",
      "2025-08-03 14:28:07,098 - INFO - Epoch 122: Avg. Loss: 1.4128e-02 Fit 4.9754e+00 Remaining Time: 01h 30min 43s LR: 9.14627e-06\n",
      "2025-08-03 14:29:09,095 - INFO - Epoch 123: Avg. Loss: 1.4131e-02 Fit 4.9752e+00 Remaining Time: 01h 29min 41s LR: 8.55027e-06\n",
      "2025-08-03 14:30:11,112 - INFO - Epoch 124: Avg. Loss: 1.4133e-02 Fit 4.9750e+00 Remaining Time: 01h 28min 39s LR: 7.97055e-06\n",
      "2025-08-03 14:31:13,130 - INFO - Epoch 125: Avg. Loss: 1.4129e-02 Fit 4.9749e+00 Remaining Time: 01h 27min 37s LR: 7.40769e-06\n",
      "2025-08-03 14:32:15,173 - INFO - Epoch 126: Avg. Loss: 1.4125e-02 Fit 4.9746e+00 Remaining Time: 01h 26min 35s LR: 6.86223e-06\n",
      "2025-08-03 14:33:17,172 - INFO - Epoch 127: Avg. Loss: 1.4125e-02 Fit 4.9747e+00 Remaining Time: 01h 25min 33s LR: 6.33473e-06\n",
      "2025-08-03 14:34:19,206 - INFO - Epoch 128: Avg. Loss: 1.4127e-02 Fit 4.9741e+00 Remaining Time: 01h 24min 31s LR: 5.82569e-06\n",
      "2025-08-03 14:35:21,226 - INFO - Epoch 129: Avg. Loss: 1.4131e-02 Fit 4.9739e+00 Remaining Time: 01h 23min 29s LR: 5.33563e-06\n",
      "2025-08-03 14:36:23,248 - INFO - Epoch 130: Avg. Loss: 1.4135e-02 Fit 4.9740e+00 Remaining Time: 01h 22min 27s LR: 4.86503e-06\n",
      "2025-08-03 14:37:25,290 - INFO - Epoch 131: Avg. Loss: 1.4136e-02 Fit 4.9735e+00 Remaining Time: 01h 21min 25s LR: 4.41434e-06\n",
      "2025-08-03 14:38:27,294 - INFO - Epoch 132: Avg. Loss: 1.4135e-02 Fit 4.9723e+00 Remaining Time: 01h 20min 23s LR: 3.98402e-06\n",
      "2025-08-03 14:39:29,277 - INFO - Epoch 133: Avg. Loss: 1.4132e-02 Fit 4.9722e+00 Remaining Time: 01h 19min 21s LR: 3.57449e-06\n",
      "2025-08-03 14:40:31,304 - INFO - Epoch 134: Avg. Loss: 1.4131e-02 Fit 4.9722e+00 Remaining Time: 01h 18min 19s LR: 3.18615e-06\n",
      "2025-08-03 14:41:33,316 - INFO - Epoch 135: Avg. Loss: 1.4132e-02 Fit 4.9717e+00 Remaining Time: 01h 17min 18s LR: 2.81939e-06\n",
      "2025-08-03 14:42:35,367 - INFO - Epoch 136: Avg. Loss: 1.4133e-02 Fit 4.9716e+00 Remaining Time: 01h 16min 16s LR: 2.47457e-06\n",
      "2025-08-03 14:43:37,355 - INFO - Epoch 137: Avg. Loss: 1.4135e-02 Fit 4.9712e+00 Remaining Time: 01h 15min 14s LR: 2.15202e-06\n",
      "2025-08-03 14:44:39,340 - INFO - Epoch 138: Avg. Loss: 1.4134e-02 Fit 4.9713e+00 Remaining Time: 01h 14min 12s LR: 1.85208e-06\n",
      "2025-08-03 14:45:41,341 - INFO - Epoch 139: Avg. Loss: 1.4135e-02 Fit 4.9708e+00 Remaining Time: 01h 13min 10s LR: 1.57502e-06\n",
      "2025-08-03 14:46:43,326 - INFO - Epoch 140: Avg. Loss: 1.4137e-02 Fit 4.9702e+00 Remaining Time: 01h 12min 08s LR: 1.32114e-06\n",
      "2025-08-03 14:47:45,340 - INFO - Epoch 141: Avg. Loss: 1.4137e-02 Fit 4.9700e+00 Remaining Time: 01h 11min 06s LR: 1.09067e-06\n",
      "2025-08-03 14:48:47,247 - INFO - Epoch 142: Avg. Loss: 1.4140e-02 Fit 4.9700e+00 Remaining Time: 01h 10min 04s LR: 8.83850e-07\n",
      "2025-08-03 14:49:49,174 - INFO - Epoch 143: Avg. Loss: 1.4141e-02 Fit 4.9694e+00 Remaining Time: 01h 09min 02s LR: 7.00877e-07\n",
      "2025-08-03 14:50:51,178 - INFO - Epoch 144: Avg. Loss: 1.4142e-02 Fit 4.9696e+00 Remaining Time: 01h 08min 00s LR: 5.41933e-07\n",
      "2025-08-03 14:51:53,198 - INFO - Epoch 145: Avg. Loss: 1.4143e-02 Fit 4.9694e+00 Remaining Time: 01h 06min 58s LR: 4.07176e-07\n",
      "2025-08-03 14:52:55,244 - INFO - Epoch 146: Avg. Loss: 1.4140e-02 Fit 4.9689e+00 Remaining Time: 01h 05min 56s LR: 2.96738e-07\n",
      "2025-08-03 14:53:57,243 - INFO - Epoch 147: Avg. Loss: 1.4135e-02 Fit 4.9687e+00 Remaining Time: 01h 04min 54s LR: 2.10729e-07\n",
      "2025-08-03 14:54:59,245 - INFO - Epoch 148: Avg. Loss: 1.4134e-02 Fit 4.9685e+00 Remaining Time: 01h 03min 52s LR: 1.49233e-07\n",
      "2025-08-03 14:56:01,245 - INFO - Epoch 149: Avg. Loss: 1.4137e-02 Fit 4.9682e+00 Remaining Time: 01h 02min 51s LR: 1.12311e-07\n",
      "2025-08-03 14:57:03,267 - INFO - Epoch 150: Avg. Loss: 1.4139e-02 Fit 4.9679e+00 Remaining Time: 01h 01min 49s LR: 5.00000e-05\n",
      "2025-08-03 14:58:05,271 - INFO - Epoch 151: Avg. Loss: 1.4126e-02 Fit 4.9668e+00 Remaining Time: 01h 00min 47s LR: 4.99969e-05\n",
      "2025-08-03 14:59:07,270 - INFO - Epoch 152: Avg. Loss: 1.4134e-02 Fit 4.9653e+00 Remaining Time: 00h 59min 45s LR: 4.99877e-05\n",
      "2025-08-03 15:00:09,327 - INFO - Epoch 153: Avg. Loss: 1.4146e-02 Fit 4.9656e+00 Remaining Time: 00h 58min 43s LR: 4.99723e-05\n",
      "2025-08-03 15:01:11,355 - INFO - Epoch 154: Avg. Loss: 1.4161e-02 Fit 4.9651e+00 Remaining Time: 00h 57min 41s LR: 4.99508e-05\n",
      "2025-08-03 15:02:13,360 - INFO - Epoch 155: Avg. Loss: 1.4171e-02 Fit 4.9647e+00 Remaining Time: 00h 56min 39s LR: 4.99231e-05\n",
      "2025-08-03 15:03:15,370 - INFO - Epoch 156: Avg. Loss: 1.4178e-02 Fit 4.9642e+00 Remaining Time: 00h 55min 37s LR: 4.98893e-05\n",
      "2025-08-03 15:04:17,385 - INFO - Epoch 157: Avg. Loss: 1.4186e-02 Fit 4.9636e+00 Remaining Time: 00h 54min 36s LR: 4.98493e-05\n",
      "2025-08-03 15:05:19,401 - INFO - Epoch 158: Avg. Loss: 1.4197e-02 Fit 4.9633e+00 Remaining Time: 00h 53min 34s LR: 4.98033e-05\n",
      "2025-08-03 15:06:21,422 - INFO - Epoch 159: Avg. Loss: 1.4204e-02 Fit 4.9631e+00 Remaining Time: 00h 52min 32s LR: 4.97511e-05\n",
      "2025-08-03 15:07:23,417 - INFO - Epoch 160: Avg. Loss: 1.4201e-02 Fit 4.9619e+00 Remaining Time: 00h 51min 30s LR: 4.96928e-05\n",
      "2025-08-03 15:08:25,442 - INFO - Epoch 161: Avg. Loss: 1.4204e-02 Fit 4.9620e+00 Remaining Time: 00h 50min 28s LR: 4.96285e-05\n",
      "2025-08-03 15:09:27,426 - INFO - Epoch 162: Avg. Loss: 1.4196e-02 Fit 4.9615e+00 Remaining Time: 00h 49min 26s LR: 4.95581e-05\n",
      "2025-08-03 15:10:29,413 - INFO - Epoch 163: Avg. Loss: 1.4193e-02 Fit 4.9614e+00 Remaining Time: 00h 48min 24s LR: 4.94816e-05\n",
      "2025-08-03 15:11:31,437 - INFO - Epoch 164: Avg. Loss: 1.4208e-02 Fit 4.9612e+00 Remaining Time: 00h 47min 23s LR: 4.93991e-05\n",
      "2025-08-03 15:12:33,449 - INFO - Epoch 165: Avg. Loss: 1.4209e-02 Fit 4.9611e+00 Remaining Time: 00h 46min 21s LR: 4.93106e-05\n",
      "2025-08-03 15:13:35,484 - INFO - Epoch 166: Avg. Loss: 1.4211e-02 Fit 4.9600e+00 Remaining Time: 00h 45min 19s LR: 4.92161e-05\n",
      "2025-08-03 15:14:37,512 - INFO - Epoch 167: Avg. Loss: 1.4210e-02 Fit 4.9599e+00 Remaining Time: 00h 44min 17s LR: 4.91157e-05\n",
      "2025-08-03 15:15:39,510 - INFO - Epoch 168: Avg. Loss: 1.4211e-02 Fit 4.9594e+00 Remaining Time: 00h 43min 15s LR: 4.90093e-05\n",
      "2025-08-03 15:16:41,504 - INFO - Epoch 169: Avg. Loss: 1.4211e-02 Fit 4.9588e+00 Remaining Time: 00h 42min 13s LR: 4.88970e-05\n",
      "2025-08-03 15:17:43,525 - INFO - Epoch 170: Avg. Loss: 1.4211e-02 Fit 4.9581e+00 Remaining Time: 00h 41min 11s LR: 4.87789e-05\n",
      "2025-08-03 15:18:45,532 - INFO - Epoch 171: Avg. Loss: 1.4217e-02 Fit 4.9585e+00 Remaining Time: 00h 40min 10s LR: 4.86548e-05\n",
      "2025-08-03 15:19:47,545 - INFO - Epoch 172: Avg. Loss: 1.4221e-02 Fit 4.9578e+00 Remaining Time: 00h 39min 08s LR: 4.85250e-05\n",
      "2025-08-03 15:20:49,544 - INFO - Epoch 173: Avg. Loss: 1.4228e-02 Fit 4.9578e+00 Remaining Time: 00h 38min 06s LR: 4.83893e-05\n",
      "2025-08-03 15:21:51,613 - INFO - Epoch 174: Avg. Loss: 1.4228e-02 Fit 4.9570e+00 Remaining Time: 00h 37min 04s LR: 4.82479e-05\n",
      "2025-08-03 15:22:53,680 - INFO - Epoch 175: Avg. Loss: 1.4240e-02 Fit 4.9570e+00 Remaining Time: 00h 36min 02s LR: 4.81008e-05\n",
      "2025-08-03 15:23:55,793 - INFO - Epoch 176: Avg. Loss: 1.4245e-02 Fit 4.9571e+00 Remaining Time: 00h 35min 01s LR: 4.79480e-05\n",
      "2025-08-03 15:24:57,812 - INFO - Epoch 177: Avg. Loss: 1.4249e-02 Fit 4.9567e+00 Remaining Time: 00h 33min 59s LR: 4.77895e-05\n",
      "2025-08-03 15:25:59,874 - INFO - Epoch 178: Avg. Loss: 1.4256e-02 Fit 4.9562e+00 Remaining Time: 00h 32min 57s LR: 4.76254e-05\n",
      "2025-08-03 15:27:01,926 - INFO - Epoch 179: Avg. Loss: 1.4260e-02 Fit 4.9557e+00 Remaining Time: 00h 31min 55s LR: 4.74558e-05\n",
      "2025-08-03 15:28:03,941 - INFO - Epoch 180: Avg. Loss: 1.4273e-02 Fit 4.9556e+00 Remaining Time: 00h 30min 53s LR: 4.72806e-05\n",
      "2025-08-03 15:29:05,971 - INFO - Epoch 181: Avg. Loss: 1.4284e-02 Fit 4.9552e+00 Remaining Time: 00h 29min 51s LR: 4.71000e-05\n",
      "2025-08-03 15:30:07,975 - INFO - Epoch 182: Avg. Loss: 1.4294e-02 Fit 4.9546e+00 Remaining Time: 00h 28min 50s LR: 4.69139e-05\n",
      "2025-08-03 15:31:09,998 - INFO - Epoch 183: Avg. Loss: 1.4292e-02 Fit 4.9539e+00 Remaining Time: 00h 27min 48s LR: 4.67224e-05\n",
      "2025-08-03 15:32:12,009 - INFO - Epoch 184: Avg. Loss: 1.4290e-02 Fit 4.9532e+00 Remaining Time: 00h 26min 46s LR: 4.65255e-05\n",
      "2025-08-03 15:33:14,033 - INFO - Epoch 185: Avg. Loss: 1.4291e-02 Fit 4.9530e+00 Remaining Time: 00h 25min 44s LR: 4.63234e-05\n",
      "2025-08-03 15:34:16,077 - INFO - Epoch 186: Avg. Loss: 1.4296e-02 Fit 4.9526e+00 Remaining Time: 00h 24min 42s LR: 4.61160e-05\n",
      "2025-08-03 15:35:18,095 - INFO - Epoch 187: Avg. Loss: 1.4312e-02 Fit 4.9522e+00 Remaining Time: 00h 23min 41s LR: 4.59034e-05\n",
      "2025-08-03 15:36:20,127 - INFO - Epoch 188: Avg. Loss: 1.4327e-02 Fit 4.9515e+00 Remaining Time: 00h 22min 39s LR: 4.56857e-05\n",
      "2025-08-03 15:37:22,155 - INFO - Epoch 189: Avg. Loss: 1.4341e-02 Fit 4.9509e+00 Remaining Time: 00h 21min 37s LR: 4.54628e-05\n",
      "2025-08-03 15:38:24,224 - INFO - Epoch 190: Avg. Loss: 1.4342e-02 Fit 4.9509e+00 Remaining Time: 00h 20min 35s LR: 4.52350e-05\n",
      "2025-08-03 15:39:26,458 - INFO - Epoch 191: Avg. Loss: 1.4345e-02 Fit 4.9502e+00 Remaining Time: 00h 19min 33s LR: 4.50021e-05\n",
      "2025-08-03 15:40:28,587 - INFO - Epoch 192: Avg. Loss: 1.4353e-02 Fit 4.9497e+00 Remaining Time: 00h 18min 32s LR: 4.47644e-05\n",
      "2025-08-03 15:41:30,660 - INFO - Epoch 193: Avg. Loss: 1.4353e-02 Fit 4.9492e+00 Remaining Time: 00h 17min 30s LR: 4.45217e-05\n",
      "2025-08-03 15:42:32,724 - INFO - Epoch 194: Avg. Loss: 1.4357e-02 Fit 4.9485e+00 Remaining Time: 00h 16min 28s LR: 4.42743e-05\n",
      "2025-08-03 15:43:34,762 - INFO - Epoch 195: Avg. Loss: 1.4353e-02 Fit 4.9486e+00 Remaining Time: 00h 15min 26s LR: 4.40221e-05\n",
      "2025-08-03 15:44:36,836 - INFO - Epoch 196: Avg. Loss: 1.4359e-02 Fit 4.9487e+00 Remaining Time: 00h 14min 24s LR: 4.37653e-05\n",
      "2025-08-03 15:45:38,836 - INFO - Epoch 197: Avg. Loss: 1.4363e-02 Fit 4.9486e+00 Remaining Time: 00h 13min 23s LR: 4.35038e-05\n",
      "2025-08-03 15:46:40,813 - INFO - Epoch 198: Avg. Loss: 1.4370e-02 Fit 4.9480e+00 Remaining Time: 00h 12min 21s LR: 4.32378e-05\n",
      "2025-08-03 15:47:42,808 - INFO - Epoch 199: Avg. Loss: 1.4369e-02 Fit 4.9476e+00 Remaining Time: 00h 11min 19s LR: 4.29673e-05\n",
      "2025-08-03 15:48:44,840 - INFO - Epoch 200: Avg. Loss: 1.4390e-02 Fit 4.9472e+00 Remaining Time: 00h 10min 17s LR: 4.26923e-05\n",
      "2025-08-03 15:49:46,851 - INFO - Epoch 201: Avg. Loss: 1.4401e-02 Fit 4.9474e+00 Remaining Time: 00h 09min 16s LR: 4.24130e-05\n",
      "2025-08-03 15:50:48,856 - INFO - Epoch 202: Avg. Loss: 1.4384e-02 Fit 4.9466e+00 Remaining Time: 00h 08min 14s LR: 4.21295e-05\n",
      "2025-08-03 15:51:50,856 - INFO - Epoch 203: Avg. Loss: 1.4379e-02 Fit 4.9461e+00 Remaining Time: 00h 07min 12s LR: 4.18417e-05\n",
      "2025-08-03 15:52:52,876 - INFO - Epoch 204: Avg. Loss: 1.4379e-02 Fit 4.9459e+00 Remaining Time: 00h 06min 10s LR: 4.15497e-05\n",
      "2025-08-03 15:53:55,078 - INFO - Epoch 205: Avg. Loss: 1.4368e-02 Fit 4.9454e+00 Remaining Time: 00h 05min 08s LR: 4.12537e-05\n",
      "2025-08-03 15:54:57,106 - INFO - Epoch 206: Avg. Loss: 1.4361e-02 Fit 4.9450e+00 Remaining Time: 00h 04min 07s LR: 4.09537e-05\n",
      "2025-08-03 15:55:59,115 - INFO - Epoch 207: Avg. Loss: 1.4358e-02 Fit 4.9451e+00 Remaining Time: 00h 03min 05s LR: 4.06498e-05\n",
      "2025-08-03 15:57:01,108 - INFO - Epoch 208: Avg. Loss: 1.4349e-02 Fit 4.9444e+00 Remaining Time: 00h 02min 03s LR: 4.03420e-05\n",
      "2025-08-03 15:58:03,102 - INFO - Epoch 209: Avg. Loss: 1.4342e-02 Fit 4.9437e+00 Remaining Time: 00h 01min 01s LR: 4.00305e-05\n",
      "2025-08-03 15:59:05,096 - INFO - Epoch 210: Avg. Loss: 1.4338e-02 Fit 4.9442e+00 Remaining Time: 00h 00min 00s LR: 3.97152e-05\n"
     ]
    }
   ],
   "source": [
    "logger.info(f\"Training started on {device}\")\n",
    "loss_list: list = []\n",
    "total_time: float = 0.0\n",
    "\n",
    "for e in range(n_epochs):\n",
    "    total_loss: float = 0\n",
    "    start_time: float = time.time()\n",
    "\n",
    "    for b_idx, (audio, _) in enumerate(train_dataloader):\n",
    "        audio: Tensor = audio.to(device)\n",
    "        if audio.ndim == 2:\n",
    "            audio = audio.unsqueeze(1)\n",
    "        with torch.autocast(device):\n",
    "            x_recon, z_q, commit_loss, metrics = vq_vae(audio)\n",
    "            recon_loss = loss_fn(x_recon, audio)\n",
    "            loss: Tensor = recon_loss + commit_loss_weight * commit_loss\n",
    "        if loss.isnan():\n",
    "            break\n",
    "        fit = metrics[\"fit\"]\n",
    "        optimizer.zero_grad()\n",
    "        loss.backward()\n",
    "        optimizer.step()\n",
    "        total_loss += loss\n",
    "    else:\n",
    "        epoch_time = time.time() - start_time\n",
    "        total_time += epoch_time\n",
    "        remaining_time = int((total_time / (e + 1)) * (n_epochs - e - 1))\n",
    "        avg_loss = total_loss / len(train_dataloader)\n",
    "\n",
    "        scheduler.step()\n",
    "\n",
    "        logger.info(f\"Epoch {e + 1:03d}: Avg. Loss: {avg_loss:.4e} Fit {fit.item():.4e} Remaining Time: {remaining_time // 3600:02d}h {(remaining_time % 3600) // 60:02d}min {round(remaining_time % 60):02d}s LR: {optimizer.param_groups[0]['lr']:.5e}\")\n",
    "\n",
    "        if checkpoint_freq > 0 and (e + 1) % checkpoint_freq == 0:\n",
    "                checkpoint_path: str = f\"{full_model_path[:-4]}_epoch_{e + 1:03d}.pth\"\n",
    "                torch.save({\"vq_vae\": vq_vae.state_dict(), \"optim\": optimizer.state_dict(), \"epoch\": e + 1}, checkpoint_path)\n",
    "                if e + 1 != checkpoint_freq:\n",
    "                    last_path: str = f\"{full_model_path[:-4]}_epoch_{(e + 1) - checkpoint_freq:03d}.pth\"\n",
    "                    OS().del_if_exists(last_path)\n",
    "                logger.light_debug(f\"Checkpoint saved model to {checkpoint_path}\")\n",
    "        continue\n",
    "    break\n",
    "\n",
    "\n",
    "torch.save({\"vq_vae\": vq_vae.state_dict(), \"optim\": optimizer.state_dict(), \"epoch\": e + 1}, full_model_path)\n",
    "logger.light_debug(f\"Saved model to {full_model_path}\")\n",
    "\n",
    "if checkpoint_freq > 0:\n",
    "    checkpoint_path: str = f\"{full_model_path[:-4]}_epoch_{e + 1 - ((e + 1) % checkpoint_freq):03d}.pth\"\n",
    "    OS().del_if_exists(checkpoint_path)\n"
   ]
  },
  {
   "cell_type": "code",
   "execution_count": 13,
   "id": "7cb5ff65",
   "metadata": {},
   "outputs": [
    {
     "name": "stdout",
     "output_type": "stream",
     "text": [
      "torch.Size([48, 1, 262144])\n",
      "tensor([[ 217,  234,  697,  ...,   84, 1002,  322],\n",
      "        [ 770,  830,  343,  ...,   76,  546,  116],\n",
      "        [ 652,  420,  806,  ...,  655,  420,  655],\n",
      "        ...,\n",
      "        [ 415,  286,  996,  ...,  816,  548,  713],\n",
      "        [ 663,  450,  938,  ...,  297,  446,  268],\n",
      "        [ 296,  306,  395,  ...,  367,  661,  659]], device='cuda:0') {'fit': tensor(4.9289, device='cuda:0'), 'pn': tensor(0.5896, device='cuda:0')}\n",
      "(262144,)\n"
     ]
    },
    {
     "data": {
      "image/png": "[encoded data removed]",
      "text/plain": [
       "<Figure size 640x480 with 1 Axes>"
      ]
     },
     "metadata": {},
     "output_type": "display_data"
    }
   ],
   "source": [
    "vq_vae.eval()\n",
    "inp = next(iter(val_dataloader))[0].unsqueeze(1).to(device)\n",
    "print(inp.shape)\n",
    "with torch.no_grad():\n",
    "    output, q_z, commit_loss, metrics = vq_vae(inp)\n",
    "print(q_z, metrics)\n",
    "vq_vae.train()\n",
    "print(output[1][0].cpu().numpy().shape)\n",
    "AudioData(output[1][0].cpu().numpy()).save_audio_file(\"Results/VQVAE2_Test1.wav\")\n",
    "plt.plot(output[1][0].cpu().numpy())\n",
    "plt.show()"
   ]
  },
  {
   "cell_type": "code",
   "execution_count": 14,
   "id": "6cf1eddf",
   "metadata": {},
   "outputs": [],
   "source": [
    "def generate_latent_repr(vq_vae: nn.Module, data: Dataset, batch_size: int = 24, device: str = \"cpu\") -> Dataset:\n",
    "    data_loader = DataLoader(data, batch_size=batch_size)\n",
    "    converted_data = []\n",
    "    vq_vae.eval()\n",
    "    for b,_ in (data_loader):\n",
    "        _, q_z, _, _ = vq_vae(b.unsqueeze(1).to(device))\n",
    "        converted_data.append(q_z)\n",
    "    vq_vae.train()\n",
    "    new_data = torch.cat(converted_data, dim=0)\n",
    "    return AudioDataset(new_data, data_type=torch.long)"
   ]
  },
  {
   "cell_type": "code",
   "execution_count": 15,
   "id": "2e6eba75",
   "metadata": {},
   "outputs": [],
   "source": [
    "transposed_ds = generate_latent_repr(vq_vae, test_dataset, 24, device)\n",
    "transposed_dl = DataLoader(transposed_ds, batch_size, shuffle=False)"
   ]
  },
  {
   "cell_type": "code",
   "execution_count": 16,
   "id": "bc596f1e",
   "metadata": {},
   "outputs": [
    {
     "name": "stdout",
     "output_type": "stream",
     "text": [
      "torch.Size([48, 32768])\n"
     ]
    }
   ],
   "source": [
    "idx = 16\n",
    "inp = next(iter(transposed_dl))[0].to(device)\n",
    "inp_true = next(iter(test_dataloader))[0].unsqueeze(1).to(device)\n",
    "print(inp.shape)\n",
    "vq_vae.eval()\n",
    "with torch.no_grad():\n",
    "    outp = vq_vae.decode(inp)\n",
    "AudioData(inp_true[idx][0].cpu().numpy()).save_audio_file(\"Results/VQVAE2_true_{}.wav\".format(idx))\n",
    "AudioData(outp[idx][0].cpu().numpy()).save_audio_file(\"Results/VQVAE2_split_{}.wav\".format(idx))"
   ]
  },
  {
   "cell_type": "code",
   "execution_count": 18,
   "id": "2e92a9e4",
   "metadata": {},
   "outputs": [
    {
     "ename": "RuntimeError",
     "evalue": "CUDA error: device-side assert triggered\nCUDA kernel errors might be asynchronously reported at some other API call, so the stacktrace below might be incorrect.\nFor debugging consider passing CUDA_LAUNCH_BLOCKING=1.\nCompile with `TORCH_USE_CUDA_DSA` to enable device-side assertions.\n",
     "output_type": "error",
     "traceback": [
      "\u001b[0;31m---------------------------------------------------------------------------\u001b[0m",
      "\u001b[0;31mRuntimeError\u001b[0m                              Traceback (most recent call last)",
      "Cell \u001b[0;32mIn[18], line 4\u001b[0m\n\u001b[1;32m      2\u001b[0m n \u001b[38;5;241m=\u001b[39m \u001b[38;5;241m5000\u001b[39m\n\u001b[1;32m      3\u001b[0m vq_vae\u001b[38;5;241m.\u001b[39meval()\n\u001b[0;32m----> 4\u001b[0m inp \u001b[38;5;241m=\u001b[39m \u001b[38;5;28;43mnext\u001b[39;49m\u001b[43m(\u001b[49m\u001b[38;5;28;43miter\u001b[39;49m\u001b[43m(\u001b[49m\u001b[43mtest_dataloader\u001b[49m\u001b[43m)\u001b[49m\u001b[43m)\u001b[49m\u001b[43m[\u001b[49m\u001b[38;5;241;43m0\u001b[39;49m\u001b[43m]\u001b[49m\u001b[38;5;241;43m.\u001b[39;49m\u001b[43munsqueeze\u001b[49m\u001b[43m(\u001b[49m\u001b[38;5;241;43m1\u001b[39;49m\u001b[43m)\u001b[49m\u001b[38;5;241;43m.\u001b[39;49m\u001b[43mto\u001b[49m\u001b[43m(\u001b[49m\u001b[43mdevice\u001b[49m\u001b[43m)\u001b[49m\u001b[38;5;66;03m#next(iter(val_dataloader))[0].unsqueeze(1).to(device)\u001b[39;00m\n\u001b[1;32m      5\u001b[0m \u001b[38;5;28mprint\u001b[39m(inp\u001b[38;5;241m.\u001b[39mshape)\n\u001b[1;32m      6\u001b[0m \u001b[38;5;28;01mwith\u001b[39;00m torch\u001b[38;5;241m.\u001b[39mno_grad():\n",
      "\u001b[0;31mRuntimeError\u001b[0m: CUDA error: device-side assert triggered\nCUDA kernel errors might be asynchronously reported at some other API call, so the stacktrace below might be incorrect.\nFor debugging consider passing CUDA_LAUNCH_BLOCKING=1.\nCompile with `TORCH_USE_CUDA_DSA` to enable device-side assertions.\n"
     ]
    }
   ],
   "source": [
    "idx = 0\n",
    "n = 5000\n",
    "vq_vae.eval()\n",
    "inp = next(iter(test_dataloader))[0].unsqueeze(1).to(device)#next(iter(val_dataloader))[0].unsqueeze(1).to(device)\n",
    "print(inp.shape)\n",
    "with torch.no_grad():\n",
    "    output, q_z, commit_loss, metrics = vq_vae(inp)\n",
    "    q_z[idx, -n:] = torch.randint(low=0, high=2048, size=(n,))\n",
    "    print(q_z.shape)\n",
    "    outp = vq_vae.decode(q_z)\n",
    "\n",
    "print(f\"L1 Error True-Out: {np.sum(np.abs(inp[idx][0].cpu().numpy() - output[idx][0].cpu().numpy())):.3e} Out-Split Out:{np.sum(np.abs(outp[idx][0].cpu().numpy() - output[idx][0].cpu().numpy())):.3e}\")\n",
    "#AudioData(inp[idx][0].cpu().numpy()).save_audio_file(\"Results/VQVAE2_Test_inp_{}.wav\".format(idx))\n",
    "#AudioData(output[idx][0].cpu().numpy()).save_audio_file(\"Results/VQVAE2_Test_out_{}.wav\".format(idx))\n",
    "#AudioData(outp[idx][0].cpu().numpy()).save_audio_file(\"Results/VQVAE2_Test_out_split_{}.wav\".format(idx))\n",
    "plt.plot(inp[idx][0].cpu().numpy())\n",
    "plt.show()\n",
    "plt.plot(output[idx][0].cpu().numpy())\n",
    "plt.show()\n",
    "plt.plot(outp[idx][0].cpu().numpy())\n",
    "plt.show()"
   ]
  }
 ],
 "metadata": {
  "kernelspec": {
   "display_name": "Python 3 (ipykernel)",
   "language": "python",
   "name": "python3"
  }
 },
 "nbformat": 4,
 "nbformat_minor": 5
}
