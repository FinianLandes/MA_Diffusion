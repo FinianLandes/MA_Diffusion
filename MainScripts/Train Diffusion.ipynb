{
 "cells": [
  {
   "cell_type": "markdown",
   "metadata": {},
   "source": [
    "# Train Diffusion Model\n",
    "### Imports"
   ]
  },
  {
   "cell_type": "code",
   "execution_count": 1,
   "metadata": {},
   "outputs": [],
   "source": [
    "try: \n",
    "    import librosa\n",
    "except:\n",
    "    !pip install librosa\n",
    "\n",
    "\n",
    "#Set Dir \n",
    "import sys, os\n",
    "sys.path.append(os.path.abspath('..'))\n",
    "\n",
    "# Torch\n",
    "import torch\n",
    "from torch import nn, Tensor\n",
    "from torch.utils.data import DataLoader\n",
    "import torch.optim as optim\n",
    "\n",
    "# Utils\n",
    "import numpy as np\n",
    "from numpy import ndarray\n",
    "import logging\n",
    "\n",
    "# Base Scripts\n",
    "from Libraries.U_Net import *\n",
    "from Libraries.Diffusion import *\n",
    "from Libraries.Utils import *\n",
    "from MainScripts.Conf import conf"
   ]
  },
  {
   "cell_type": "markdown",
   "metadata": {},
   "source": [
    "### Config\n",
    "General"
   ]
  },
  {
   "cell_type": "code",
   "execution_count": 2,
   "metadata": {},
   "outputs": [],
   "source": [
    "remote_kernel: bool = True\n",
    "\n",
    "logging_level: int = LIGHT_DEBUG #logging.INFO\n",
    "model_name: str = \"diffusion_v19\"\n",
    "full_model_path: str = path_to_remote_path(\"{}/{}\".format(conf[\"paths\"].model_path, model_name + \".pth\"), remote_kernel)\n",
    "checkpoint_freq: int = 10 #0 for no checkpoint saving\n",
    "training_data_name: str = \"training_full_low_res\"\n",
    "\n",
    "device = \"cuda\" if torch.cuda.is_available() else \"cpu\"\n",
    "restart_training: bool = True #If True and model already exists optimizer and lr_scheduler are reset\n",
    "learning_rate: float = 5e-4 #Starting lr/first lr for Threshold Scheduler\n",
    "epochs: int = 300\n",
    "n_training_samples: int = 1280\n",
    "\n",
    "logging.basicConfig(level=logging_level, format='%(asctime)s - %(levelname)s - %(message)s')\n",
    "logger: logging.Logger = logging.getLogger(__name__)"
   ]
  },
  {
   "cell_type": "markdown",
   "metadata": {},
   "source": [
    "### Data Loading"
   ]
  },
  {
   "cell_type": "code",
   "execution_count": 3,
   "metadata": {},
   "outputs": [
    {
     "name": "stderr",
     "output_type": "stream",
     "text": [
      "2025-03-25 09:51:26,258 - LIGHT_DEBUG - Ndarray loaded from Data/training_full_low_res.npy of shape: (7087, 224, 416)\n",
      "2025-03-25 09:51:26,500 - INFO - Data loaded with shape: (1280, 224, 416)\n"
     ]
    }
   ],
   "source": [
    "file: ndarray = load_training_data(path_to_remote_path(\"{}/{}\".format(conf[\"paths\"].data_path, training_data_name + \".npy\"), remote_kernel))[:n_training_samples, ...]\n",
    "data_loader = create_dataloader(Audio_Data(file), conf[\"model\"].batch_size)\n",
    "logger.info(f\"Data loaded with shape: {file.shape}\")"
   ]
  },
  {
   "cell_type": "markdown",
   "metadata": {},
   "source": [
    "### Model Creation\n",
    "U-Net"
   ]
  },
  {
   "cell_type": "code",
   "execution_count": 4,
   "metadata": {},
   "outputs": [
    {
     "name": "stderr",
     "output_type": "stream",
     "text": [
      "2025-03-25 09:51:27,691 - INFO - Model diffusion_v19 created with 17288545 Parameters\n"
     ]
    }
   ],
   "source": [
    "u_net = Conv_U_NET(in_channels=1,\n",
    "                    time_embed_dim=conf[\"model\"].time_embed_dim, \n",
    "                    n_starting_filters=conf[\"model\"].n_starting_filters, \n",
    "                    n_downsamples=conf[\"model\"].n_downsamples, \n",
    "                    activation=nn.ELU(), \n",
    "                    device=device,\n",
    "                    conditional_norm=False\n",
    "                ).to(device)\n",
    "\n",
    "optimizer = optim.AdamW(u_net.parameters(), lr=learning_rate)\n",
    "#scheduler = Threshold_LR(optimizer, [1, 0.1, 0.09, 0.85, 0.08, 0.07], [learning_rate, 1e-4, 1e-5, 5e-6, 1e-6, 1e-7])\n",
    "scheduler = optim.lr_scheduler.CosineAnnealingLR(optimizer, T_max=epochs)\n",
    "start_epoch: int = 0\n",
    "if os.path.exists(full_model_path):\n",
    "    model = torch.load(full_model_path, map_location=device)\n",
    "    u_net.load_state_dict(model[\"model\"])\n",
    "    if not restart_training:\n",
    "        optimizer.load_state_dict(model[\"optim\"])\n",
    "        scheduler.load_state_dict(model[\"scheduler\"])\n",
    "        start_epoch = model.get(\"epoch\", 0)\n",
    "    logger.info(f\"Model {model_name} loaded with {count_parameters(u_net)} Parameters\")\n",
    "else: \n",
    "    logger.info(f\"Model {model_name} created with {count_parameters(u_net)} Parameters\")\n",
    "\n"
   ]
  },
  {
   "cell_type": "markdown",
   "metadata": {},
   "source": [
    "Diffusion"
   ]
  },
  {
   "cell_type": "code",
   "execution_count": 5,
   "metadata": {},
   "outputs": [],
   "source": [
    "diffusion = Diffusion(model=u_net, \n",
    "                        noise_steps=conf[\"model\"].diffusion_timesteps, \n",
    "                        noise_schedule=\"cosine\", \n",
    "                        input_dim=[conf[\"model\"].batch_size, 1, file.shape[-2], file.shape[-1]],\n",
    "                        device=device\n",
    "                    )\n",
    "\n",
    "#diffusion.visualize_diffusion_steps(x=Tensor(file[:100]), n_spectograms=10)"
   ]
  },
  {
   "cell_type": "markdown",
   "metadata": {},
   "source": [
    "### Train"
   ]
  },
  {
   "cell_type": "code",
   "execution_count": 6,
   "metadata": {},
   "outputs": [
    {
     "name": "stderr",
     "output_type": "stream",
     "text": [
      "2025-03-25 09:51:27,980 - INFO - Training started on cuda\n"
     ]
    },
    {
     "name": "stdout",
     "output_type": "stream",
     "text": [
      "2025-03-25 09:53:21,000 - LIGHT_DEBUG - Batch 80/80 Pred noise min/max: -0.03679, 0.03354 std/mean: 0.31789, -0.00074 Real noise min/max: -0.07159, 0.07359 std/mean: 0.99997, 0.00019 \n"
     ]
    },
    {
     "name": "stderr",
     "output_type": "stream",
     "text": [
      "2025-03-25 09:53:21,800 - INFO - Epoch 001: Avg. Loss: 7.68800e-01 Remaining Time: 09h 27min 10s LR: 4.99986e-04 \n"
     ]
    },
    {
     "name": "stdout",
     "output_type": "stream",
     "text": [
      "2025-03-25 09:55:15,000 - LIGHT_DEBUG - Batch 80/80 Pred noise min/max: -0.04399, 0.04639 std/mean: 0.52764, -0.00022 Real noise min/max: -0.07351, 0.07044 std/mean: 0.99990, 0.00005 \n"
     ]
    },
    {
     "name": "stderr",
     "output_type": "stream",
     "text": [
      "2025-03-25 09:55:15,847 - INFO - Epoch 002: Avg. Loss: 4.94908e-01 Remaining Time: 09h 25min 50s LR: 4.99945e-04 \n"
     ]
    },
    {
     "name": "stdout",
     "output_type": "stream",
     "text": [
      "2025-03-25 09:57:08,000 - LIGHT_DEBUG - Batch 80/80 Pred noise min/max: -0.05371, 0.04885 std/mean: 0.63822, -0.00046 Real noise min/max: -0.07532, 0.06847 std/mean: 1.00006, 0.00001  \n"
     ]
    },
    {
     "name": "stderr",
     "output_type": "stream",
     "text": [
      "2025-03-25 09:57:08,840 - INFO - Epoch 003: Avg. Loss: 3.60575e-01 Remaining Time: 09h 22min 24s LR: 4.99877e-04 \n"
     ]
    },
    {
     "name": "stdout",
     "output_type": "stream",
     "text": [
      "2025-03-25 09:59:01,000 - LIGHT_DEBUG - Batch 80/80 Pred noise min/max: -0.06187, 0.05825 std/mean: 0.71500, 0.00240 Real noise min/max: -0.07349, 0.07346 std/mean: 0.99999, 0.00001   \n"
     ]
    },
    {
     "name": "stderr",
     "output_type": "stream",
     "text": [
      "2025-03-25 09:59:01,752 - INFO - Epoch 004: Avg. Loss: 2.93993e-01 Remaining Time: 09h 19min 38s LR: 4.99781e-04 \n"
     ]
    },
    {
     "name": "stdout",
     "output_type": "stream",
     "text": [
      "2025-03-25 10:00:55,000 - LIGHT_DEBUG - Batch 80/80 Pred noise min/max: -0.06831, 0.07134 std/mean: 0.77947, -0.00251 Real noise min/max: -0.07253, 0.07185 std/mean: 1.00006, -0.00009 \n"
     ]
    },
    {
     "name": "stderr",
     "output_type": "stream",
     "text": [
      "2025-03-25 10:00:55,162 - INFO - Epoch 005: Avg. Loss: 2.54148e-01 Remaining Time: 09h 17min 43s LR: 4.99657e-04 \n"
     ]
    },
    {
     "name": "stdout",
     "output_type": "stream",
     "text": [
      "2025-03-25 10:02:50,000 - LIGHT_DEBUG - Batch 80/80 Pred noise min/max: -0.07017, 0.07109 std/mean: 0.81871, 0.00072 Real noise min/max: -0.07790, 0.07085 std/mean: 1.00012, 0.00008   \n"
     ]
    },
    {
     "name": "stderr",
     "output_type": "stream",
     "text": [
      "2025-03-25 10:02:50,199 - INFO - Epoch 006: Avg. Loss: 2.26894e-01 Remaining Time: 09h 17min 08s LR: 4.99507e-04 \n"
     ]
    },
    {
     "name": "stdout",
     "output_type": "stream",
     "text": [
      "2025-03-25 10:04:42,000 - LIGHT_DEBUG - Batch 80/80 Pred noise min/max: -0.07930, 0.07075 std/mean: 0.85751, -0.00102 Real noise min/max: -0.07159, 0.07633 std/mean: 1.00003, -0.00009 \n"
     ]
    },
    {
     "name": "stderr",
     "output_type": "stream",
     "text": [
      "2025-03-25 10:04:42,956 - INFO - Epoch 007: Avg. Loss: 1.92989e-01 Remaining Time: 09h 14min 34s LR: 4.99329e-04 \n"
     ]
    },
    {
     "name": "stdout",
     "output_type": "stream",
     "text": [
      "2025-03-25 10:06:35,000 - LIGHT_DEBUG - Batch 80/80 Pred noise min/max: -0.07456, 0.07378 std/mean: 0.86536, -0.00084 Real noise min/max: -0.07274, 0.06863 std/mean: 0.99999, 0.00003  \n"
     ]
    },
    {
     "name": "stderr",
     "output_type": "stream",
     "text": [
      "2025-03-25 10:06:35,328 - INFO - Epoch 008: Avg. Loss: 2.00545e-01 Remaining Time: 09h 11min 57s LR: 4.99123e-04 \n"
     ]
    },
    {
     "name": "stdout",
     "output_type": "stream",
     "text": [
      "2025-03-25 10:08:30,000 - LIGHT_DEBUG - Batch 80/80 Pred noise min/max: -0.07422, 0.07354 std/mean: 0.86531, -0.00010 Real noise min/max: -0.07583, 0.07233 std/mean: 0.99998, -0.00010 \n"
     ]
    },
    {
     "name": "stderr",
     "output_type": "stream",
     "text": [
      "2025-03-25 10:08:30,378 - INFO - Epoch 009: Avg. Loss: 2.00897e-01 Remaining Time: 09h 10min 56s LR: 4.98890e-04 \n"
     ]
    },
    {
     "name": "stdout",
     "output_type": "stream",
     "text": [
      "2025-03-25 10:10:23,000 - LIGHT_DEBUG - Batch 80/80 Pred noise min/max: -0.07095, 0.07593 std/mean: 0.86951, -0.00024 Real noise min/max: -0.07022, 0.07146 std/mean: 1.00002, 0.00005  \n"
     ]
    },
    {
     "name": "stderr",
     "output_type": "stream",
     "text": [
      "2025-03-25 10:10:23,808 - INFO - Epoch 010: Avg. Loss: 2.02413e-01 Remaining Time: 09h 08min 58s LR: 4.98630e-04 \n",
      "2025-03-25 10:10:24,134 - LIGHT_DEBUG - Checkpoint saved model to Models/diffusion_v19_epoch_010.pth\n"
     ]
    },
    {
     "name": "stdout",
     "output_type": "stream",
     "text": [
      "2025-03-25 10:12:16,000 - LIGHT_DEBUG - Batch 80/80 Pred noise min/max: -0.08242, 0.07368 std/mean: 0.88622, -0.00016 Real noise min/max: -0.07170, 0.06739 std/mean: 1.00004, 0.00007  \n"
     ]
    },
    {
     "name": "stderr",
     "output_type": "stream",
     "text": [
      "2025-03-25 10:12:16,367 - INFO - Epoch 011: Avg. Loss: 1.88268e-01 Remaining Time: 09h 06min 29s LR: 4.98343e-04 \n"
     ]
    },
    {
     "name": "stdout",
     "output_type": "stream",
     "text": [
      "2025-03-25 10:14:10,000 - LIGHT_DEBUG - Batch 80/80 Pred noise min/max: -0.07817, 0.07222 std/mean: 0.88756, -0.00052 Real noise min/max: -0.07405, 0.06680 std/mean: 1.00020, 0.00000  \n"
     ]
    },
    {
     "name": "stderr",
     "output_type": "stream",
     "text": [
      "2025-03-25 10:14:10,364 - INFO - Epoch 012: Avg. Loss: 1.84435e-01 Remaining Time: 09h 04min 48s LR: 4.98029e-04 \n"
     ]
    },
    {
     "name": "stdout",
     "output_type": "stream",
     "text": [
      "2025-03-25 10:16:02,000 - LIGHT_DEBUG - Batch 80/80 Pred noise min/max: -0.07852, 0.07979 std/mean: 0.89452, -0.00016 Real noise min/max: -0.07129, 0.07130 std/mean: 0.99995, -0.00005 \n"
     ]
    },
    {
     "name": "stderr",
     "output_type": "stream",
     "text": [
      "2025-03-25 10:16:02,748 - INFO - Epoch 013: Avg. Loss: 1.84643e-01 Remaining Time: 09h 02min 30s LR: 4.97687e-04 \n"
     ]
    },
    {
     "name": "stdout",
     "output_type": "stream",
     "text": [
      "2025-03-25 10:17:55,000 - LIGHT_DEBUG - Batch 80/80 Pred noise min/max: -0.07432, 0.07817 std/mean: 0.89180, -0.00076 Real noise min/max: -0.06832, 0.07383 std/mean: 0.99990, 0.00010  \n"
     ]
    },
    {
     "name": "stderr",
     "output_type": "stream",
     "text": [
      "2025-03-25 10:17:55,536 - INFO - Epoch 014: Avg. Loss: 1.89872e-01 Remaining Time: 09h 00min 24s LR: 4.97318e-04 \n"
     ]
    },
    {
     "name": "stdout",
     "output_type": "stream",
     "text": [
      "2025-03-25 10:19:46,000 - LIGHT_DEBUG - Batch 80/80 Pred noise min/max: -0.08394, 0.07651 std/mean: 0.89399, 0.00032 Real noise min/max: -0.07500, 0.07039 std/mean: 0.99998, -0.00000  \n"
     ]
    },
    {
     "name": "stderr",
     "output_type": "stream",
     "text": [
      "2025-03-25 10:19:46,615 - INFO - Epoch 015: Avg. Loss: 1.88127e-01 Remaining Time: 08h 57min 47s LR: 4.96922e-04 \n"
     ]
    },
    {
     "name": "stdout",
     "output_type": "stream",
     "text": [
      "2025-03-25 10:21:39,000 - LIGHT_DEBUG - Batch 80/80 Pred noise min/max: -0.07280, 0.08018 std/mean: 0.89699, 0.00045 Real noise min/max: -0.06948, 0.07199 std/mean: 0.99999, 0.00010   \n"
     ]
    },
    {
     "name": "stderr",
     "output_type": "stream",
     "text": [
      "2025-03-25 10:21:39,327 - INFO - Epoch 016: Avg. Loss: 1.84797e-01 Remaining Time: 08h 55min 45s LR: 4.96499e-04 \n"
     ]
    },
    {
     "name": "stdout",
     "output_type": "stream",
     "text": [
      "2025-03-25 10:23:30,000 - LIGHT_DEBUG - Batch 80/80 Pred noise min/max: -0.07798, 0.07437 std/mean: 0.89749, -0.00056 Real noise min/max: -0.07364, 0.07382 std/mean: 0.99991, 0.00001  \n"
     ]
    },
    {
     "name": "stderr",
     "output_type": "stream",
     "text": [
      "2025-03-25 10:23:30,203 - INFO - Epoch 017: Avg. Loss: 1.84803e-01 Remaining Time: 08h 53min 13s LR: 4.96049e-04 \n"
     ]
    },
    {
     "name": "stdout",
     "output_type": "stream",
     "text": [
      "2025-03-25 10:25:20,000 - LIGHT_DEBUG - Batch 80/80 Pred noise min/max: -0.07842, 0.07646 std/mean: 0.90905, 0.00030 Real noise min/max: -0.06828, 0.07342 std/mean: 1.00011, 0.00013   \n"
     ]
    },
    {
     "name": "stderr",
     "output_type": "stream",
     "text": [
      "2025-03-25 10:25:20,594 - INFO - Epoch 018: Avg. Loss: 1.73485e-01 Remaining Time: 08h 50min 38s LR: 4.95572e-04 \n"
     ]
    },
    {
     "name": "stdout",
     "output_type": "stream",
     "text": [
      "2025-03-25 10:27:15,000 - LIGHT_DEBUG - Batch 80/80 Pred noise min/max: -0.07856, 0.07510 std/mean: 0.90363, 0.00050 Real noise min/max: -0.07229, 0.07189 std/mean: 1.00001, 0.00006   \n"
     ]
    },
    {
     "name": "stderr",
     "output_type": "stream",
     "text": [
      "2025-03-25 10:27:15,638 - INFO - Epoch 019: Avg. Loss: 1.79620e-01 Remaining Time: 08h 49min 17s LR: 4.95068e-04 \n"
     ]
    },
    {
     "name": "stdout",
     "output_type": "stream",
     "text": [
      "2025-03-25 10:29:06,000 - LIGHT_DEBUG - Batch 80/80 Pred noise min/max: -0.08174, 0.08564 std/mean: 0.91309, -0.00021 Real noise min/max: -0.07158, 0.08172 std/mean: 0.99993, -0.00010 \n"
     ]
    },
    {
     "name": "stderr",
     "output_type": "stream",
     "text": [
      "2025-03-25 10:29:06,436 - INFO - Epoch 020: Avg. Loss: 1.61787e-01 Remaining Time: 08h 46min 53s LR: 4.94537e-04 \n",
      "2025-03-25 10:29:06,760 - LIGHT_DEBUG - Models/diffusion_v19_epoch_010.pth deleted\n",
      "2025-03-25 10:29:06,761 - LIGHT_DEBUG - Checkpoint saved model to Models/diffusion_v19_epoch_020.pth\n"
     ]
    },
    {
     "name": "stdout",
     "output_type": "stream",
     "text": [
      "2025-03-25 10:31:00,000 - LIGHT_DEBUG - Batch 80/80 Pred noise min/max: -0.07715, 0.07729 std/mean: 0.91884, -0.00013 Real noise min/max: -0.07191, 0.06783 std/mean: 0.99998, 0.00008  \n"
     ]
    },
    {
     "name": "stderr",
     "output_type": "stream",
     "text": [
      "2025-03-25 10:31:00,223 - INFO - Epoch 021: Avg. Loss: 1.57488e-01 Remaining Time: 08h 45min 07s LR: 4.93979e-04 \n"
     ]
    },
    {
     "name": "stdout",
     "output_type": "stream",
     "text": [
      "2025-03-25 10:32:52,000 - LIGHT_DEBUG - Batch 80/80 Pred noise min/max: -0.07705, 0.07549 std/mean: 0.92025, -0.00085 Real noise min/max: -0.06923, 0.07367 std/mean: 0.99992, -0.00007 \n"
     ]
    },
    {
     "name": "stderr",
     "output_type": "stream",
     "text": [
      "2025-03-25 10:32:52,455 - INFO - Epoch 022: Avg. Loss: 1.52127e-01 Remaining Time: 08h 43min 05s LR: 4.93395e-04 \n"
     ]
    },
    {
     "name": "stdout",
     "output_type": "stream",
     "text": [
      "2025-03-25 10:34:44,000 - LIGHT_DEBUG - Batch 80/80 Pred noise min/max: -0.08071, 0.07910 std/mean: 0.91121, 0.00011 Real noise min/max: -0.07587, 0.06923 std/mean: 0.99995, 0.00009   \n"
     ]
    },
    {
     "name": "stderr",
     "output_type": "stream",
     "text": [
      "2025-03-25 10:34:44,621 - INFO - Epoch 023: Avg. Loss: 1.70697e-01 Remaining Time: 08h 41min 04s LR: 4.92784e-04 \n"
     ]
    },
    {
     "name": "stdout",
     "output_type": "stream",
     "text": [
      "2025-03-25 10:36:39,000 - LIGHT_DEBUG - Batch 80/80 Pred noise min/max: -0.07603, 0.07930 std/mean: 0.91658, -0.00012 Real noise min/max: -0.07123, 0.06986 std/mean: 1.00009, 0.00005  \n"
     ]
    },
    {
     "name": "stderr",
     "output_type": "stream",
     "text": [
      "2025-03-25 10:36:39,177 - INFO - Epoch 024: Avg. Loss: 1.58220e-01 Remaining Time: 08h 39min 30s LR: 4.92146e-04 \n"
     ]
    },
    {
     "name": "stdout",
     "output_type": "stream",
     "text": [
      "2025-03-25 10:38:33,000 - LIGHT_DEBUG - Batch 80/80 Pred noise min/max: -0.07339, 0.07744 std/mean: 0.92223, 0.00034 Real noise min/max: -0.07079, 0.06990 std/mean: 1.00001, 0.00008  \n"
     ]
    },
    {
     "name": "stderr",
     "output_type": "stream",
     "text": [
      "2025-03-25 10:38:33,075 - INFO - Epoch 025: Avg. Loss: 1.48482e-01 Remaining Time: 08h 37min 48s LR: 4.91481e-04 \n"
     ]
    },
    {
     "name": "stdout",
     "output_type": "stream",
     "text": [
      "2025-03-25 10:40:26,000 - LIGHT_DEBUG - Batch 80/80 Pred noise min/max: -0.07705, 0.07393 std/mean: 0.91550, 0.00007 Real noise min/max: -0.07055, 0.06763 std/mean: 1.00001, 0.00011   \n"
     ]
    },
    {
     "name": "stderr",
     "output_type": "stream",
     "text": [
      "2025-03-25 10:40:26,110 - INFO - Epoch 026: Avg. Loss: 1.62340e-01 Remaining Time: 08h 35min 55s LR: 4.90791e-04 \n"
     ]
    },
    {
     "name": "stdout",
     "output_type": "stream",
     "text": [
      "2025-03-25 10:42:19,000 - LIGHT_DEBUG - Batch 80/80 Pred noise min/max: -0.08359, 0.07788 std/mean: 0.92760, -0.00007 Real noise min/max: -0.07710, 0.07062 std/mean: 1.00001, 0.00008  \n"
     ]
    },
    {
     "name": "stderr",
     "output_type": "stream",
     "text": [
      "2025-03-25 10:42:19,924 - INFO - Epoch 027: Avg. Loss: 1.41667e-01 Remaining Time: 08h 34min 11s LR: 4.90073e-04 \n"
     ]
    },
    {
     "name": "stdout",
     "output_type": "stream",
     "text": [
      "2025-03-25 10:44:12,000 - LIGHT_DEBUG - Batch 80/80 Pred noise min/max: -0.07686, 0.07490 std/mean: 0.91639, 0.00008 Real noise min/max: -0.07188, 0.07012 std/mean: 1.00012, -0.00017  \n"
     ]
    },
    {
     "name": "stderr",
     "output_type": "stream",
     "text": [
      "2025-03-25 10:44:12,140 - INFO - Epoch 028: Avg. Loss: 1.53188e-01 Remaining Time: 08h 32min 10s LR: 4.89330e-04 \n"
     ]
    },
    {
     "name": "stdout",
     "output_type": "stream",
     "text": [
      "2025-03-25 10:46:03,000 - LIGHT_DEBUG - Batch 80/80 Pred noise min/max: -0.07554, 0.07480 std/mean: 0.93059, -0.00009 Real noise min/max: -0.07426, 0.07252 std/mean: 0.99992, -0.00002 \n"
     ]
    },
    {
     "name": "stderr",
     "output_type": "stream",
     "text": [
      "2025-03-25 10:46:03,848 - INFO - Epoch 029: Avg. Loss: 1.38485e-01 Remaining Time: 08h 30min 05s LR: 4.88560e-04 \n"
     ]
    },
    {
     "name": "stdout",
     "output_type": "stream",
     "text": [
      "2025-03-25 10:47:53,000 - LIGHT_DEBUG - Batch 80/80 Pred noise min/max: -0.07671, 0.07349 std/mean: 0.91947, 0.00017 Real noise min/max: -0.07307, 0.06879 std/mean: 1.00006, 0.00016   \n"
     ]
    },
    {
     "name": "stderr",
     "output_type": "stream",
     "text": [
      "2025-03-25 10:47:53,900 - INFO - Epoch 030: Avg. Loss: 1.49709e-01 Remaining Time: 08h 27min 46s LR: 4.87764e-04 \n",
      "2025-03-25 10:47:54,219 - LIGHT_DEBUG - Models/diffusion_v19_epoch_020.pth deleted\n",
      "2025-03-25 10:47:54,219 - LIGHT_DEBUG - Checkpoint saved model to Models/diffusion_v19_epoch_030.pth\n"
     ]
    },
    {
     "name": "stdout",
     "output_type": "stream",
     "text": [
      "2025-03-25 10:49:46,000 - LIGHT_DEBUG - Batch 80/80 Pred noise min/max: -0.07236, 0.07373 std/mean: 0.91791, -0.00049 Real noise min/max: -0.06990, 0.07181 std/mean: 0.99997, 0.00007  \n"
     ]
    },
    {
     "name": "stderr",
     "output_type": "stream",
     "text": [
      "2025-03-25 10:49:46,041 - INFO - Epoch 031: Avg. Loss: 1.54552e-01 Remaining Time: 08h 25min 45s LR: 4.86942e-04 \n"
     ]
    },
    {
     "name": "stdout",
     "output_type": "stream",
     "text": [
      "2025-03-25 10:51:40,000 - LIGHT_DEBUG - Batch 80/80 Pred noise min/max: -0.08052, 0.07500 std/mean: 0.92538, 0.00022 Real noise min/max: -0.07224, 0.07359 std/mean: 0.99995, -0.00016  \n"
     ]
    },
    {
     "name": "stderr",
     "output_type": "stream",
     "text": [
      "2025-03-25 10:51:40,259 - INFO - Epoch 032: Avg. Loss: 1.44198e-01 Remaining Time: 08h 24min 04s LR: 4.86094e-04 \n"
     ]
    },
    {
     "name": "stdout",
     "output_type": "stream",
     "text": [
      "2025-03-25 10:53:34,000 - LIGHT_DEBUG - Batch 80/80 Pred noise min/max: -0.07266, 0.08247 std/mean: 0.91813, -0.00002 Real noise min/max: -0.07373, 0.07503 std/mean: 1.00001, -0.00002 \n"
     ]
    },
    {
     "name": "stderr",
     "output_type": "stream",
     "text": [
      "2025-03-25 10:53:34,268 - INFO - Epoch 033: Avg. Loss: 1.56584e-01 Remaining Time: 08h 22min 20s LR: 4.85220e-04 \n"
     ]
    },
    {
     "name": "stdout",
     "output_type": "stream",
     "text": [
      "2025-03-25 10:55:25,000 - LIGHT_DEBUG - Batch 80/80 Pred noise min/max: -0.07544, 0.07305 std/mean: 0.92800, -0.00053 Real noise min/max: -0.07114, 0.06910 std/mean: 1.00005, -0.00009 \n"
     ]
    },
    {
     "name": "stderr",
     "output_type": "stream",
     "text": [
      "2025-03-25 10:55:25,406 - INFO - Epoch 034: Avg. Loss: 1.37235e-01 Remaining Time: 08h 20min 14s LR: 4.84320e-04 \n"
     ]
    },
    {
     "name": "stdout",
     "output_type": "stream",
     "text": [
      "2025-03-25 10:57:19,000 - LIGHT_DEBUG - Batch 80/80 Pred noise min/max: -0.07046, 0.08027 std/mean: 0.93023, 0.00041 Real noise min/max: -0.07030, 0.07175 std/mean: 1.00001, 0.00010   \n"
     ]
    },
    {
     "name": "stderr",
     "output_type": "stream",
     "text": [
      "2025-03-25 10:57:19,343 - INFO - Epoch 035: Avg. Loss: 1.39588e-01 Remaining Time: 08h 18min 29s LR: 4.83395e-04 \n"
     ]
    },
    {
     "name": "stdout",
     "output_type": "stream",
     "text": [
      "2025-03-25 10:59:14,000 - LIGHT_DEBUG - Batch 80/80 Pred noise min/max: -0.07681, 0.07109 std/mean: 0.92559, 0.00036 Real noise min/max: -0.07211, 0.06867 std/mean: 0.99983, -0.00001  \n"
     ]
    },
    {
     "name": "stderr",
     "output_type": "stream",
     "text": [
      "2025-03-25 10:59:14,082 - INFO - Epoch 036: Avg. Loss: 1.39131e-01 Remaining Time: 08h 16min 50s LR: 4.82444e-04 \n"
     ]
    },
    {
     "name": "stdout",
     "output_type": "stream",
     "text": [
      "2025-03-25 11:01:09,000 - LIGHT_DEBUG - Batch 80/80 Pred noise min/max: -0.07197, 0.07202 std/mean: 0.93076, -0.00038 Real noise min/max: -0.07084, 0.06888 std/mean: 0.99992, 0.00013  \n"
     ]
    },
    {
     "name": "stderr",
     "output_type": "stream",
     "text": [
      "2025-03-25 11:01:09,127 - INFO - Epoch 037: Avg. Loss: 1.32549e-01 Remaining Time: 08h 15min 12s LR: 4.81468e-04 \n"
     ]
    },
    {
     "name": "stdout",
     "output_type": "stream",
     "text": [
      "2025-03-25 11:03:03,000 - LIGHT_DEBUG - Batch 80/80 Pred noise min/max: -0.07227, 0.07393 std/mean: 0.93154, 0.00036 Real noise min/max: -0.07020, 0.06979 std/mean: 1.00015, 0.00009   \n"
     ]
    },
    {
     "name": "stderr",
     "output_type": "stream",
     "text": [
      "2025-03-25 11:03:03,636 - INFO - Epoch 038: Avg. Loss: 1.36620e-01 Remaining Time: 08h 13min 30s LR: 4.80466e-04 \n"
     ]
    },
    {
     "name": "stdout",
     "output_type": "stream",
     "text": [
      "2025-03-25 11:04:57,000 - LIGHT_DEBUG - Batch 80/80 Pred noise min/max: -0.07397, 0.06982 std/mean: 0.93386, -0.00053 Real noise min/max: -0.06889, 0.06764 std/mean: 1.00006, -0.00004 \n"
     ]
    },
    {
     "name": "stderr",
     "output_type": "stream",
     "text": [
      "2025-03-25 11:04:57,404 - INFO - Epoch 039: Avg. Loss: 1.22441e-01 Remaining Time: 08h 11min 42s LR: 4.79439e-04 \n"
     ]
    },
    {
     "name": "stdout",
     "output_type": "stream",
     "text": [
      "2025-03-25 11:06:49,000 - LIGHT_DEBUG - Batch 80/80 Pred noise min/max: -0.07412, 0.07378 std/mean: 0.92855, 0.00023 Real noise min/max: -0.06840, 0.07160 std/mean: 0.99996, 0.00002   \n"
     ]
    },
    {
     "name": "stderr",
     "output_type": "stream",
     "text": [
      "2025-03-25 11:06:49,998 - INFO - Epoch 040: Avg. Loss: 1.40466e-01 Remaining Time: 08h 09min 46s LR: 4.78386e-04 \n",
      "2025-03-25 11:06:50,362 - LIGHT_DEBUG - Models/diffusion_v19_epoch_030.pth deleted\n",
      "2025-03-25 11:06:50,362 - LIGHT_DEBUG - Checkpoint saved model to Models/diffusion_v19_epoch_040.pth\n"
     ]
    },
    {
     "name": "stdout",
     "output_type": "stream",
     "text": [
      "2025-03-25 11:08:44,000 - LIGHT_DEBUG - Batch 80/80 Pred noise min/max: -0.07090, 0.07187 std/mean: 0.92393, 0.00014 Real noise min/max: -0.07114, 0.06901 std/mean: 1.00007, 0.00013   \n"
     ]
    },
    {
     "name": "stderr",
     "output_type": "stream",
     "text": [
      "2025-03-25 11:08:44,804 - INFO - Epoch 041: Avg. Loss: 1.45952e-01 Remaining Time: 08h 08min 02s LR: 4.77309e-04 \n"
     ]
    },
    {
     "name": "stdout",
     "output_type": "stream",
     "text": [
      "2025-03-25 11:10:39,000 - LIGHT_DEBUG - Batch 80/80 Pred noise min/max: -0.07017, 0.07734 std/mean: 0.92287, -0.00038 Real noise min/max: -0.07120, 0.07443 std/mean: 0.99990, -0.00003 \n"
     ]
    },
    {
     "name": "stderr",
     "output_type": "stream",
     "text": [
      "2025-03-25 11:10:39,205 - INFO - Epoch 042: Avg. Loss: 1.46553e-01 Remaining Time: 08h 06min 17s LR: 4.76207e-04 \n"
     ]
    },
    {
     "name": "stdout",
     "output_type": "stream",
     "text": [
      "2025-03-25 11:12:32,000 - LIGHT_DEBUG - Batch 80/80 Pred noise min/max: -0.07671, 0.07187 std/mean: 0.92918, -0.00015 Real noise min/max: -0.07052, 0.06946 std/mean: 0.99998, -0.00017 \n"
     ]
    },
    {
     "name": "stderr",
     "output_type": "stream",
     "text": [
      "2025-03-25 11:12:32,768 - INFO - Epoch 043: Avg. Loss: 1.37487e-01 Remaining Time: 08h 04min 27s LR: 4.75080e-04 \n"
     ]
    },
    {
     "name": "stdout",
     "output_type": "stream",
     "text": [
      "2025-03-25 11:14:26,000 - LIGHT_DEBUG - Batch 80/80 Pred noise min/max: -0.07861, 0.07046 std/mean: 0.93102, 0.00054 Real noise min/max: -0.07303, 0.07053 std/mean: 1.00010, -0.00008  \n"
     ]
    },
    {
     "name": "stderr",
     "output_type": "stream",
     "text": [
      "2025-03-25 11:14:26,872 - INFO - Epoch 044: Avg. Loss: 1.29943e-01 Remaining Time: 08h 02min 39s LR: 4.73928e-04 \n"
     ]
    },
    {
     "name": "stdout",
     "output_type": "stream",
     "text": [
      "2025-03-25 11:16:19,000 - LIGHT_DEBUG - Batch 80/80 Pred noise min/max: -0.07153, 0.07236 std/mean: 0.93045, -0.00050 Real noise min/max: -0.06968, 0.07437 std/mean: 1.00001, -0.00000 \n"
     ]
    },
    {
     "name": "stderr",
     "output_type": "stream",
     "text": [
      "2025-03-25 11:16:19,416 - INFO - Epoch 045: Avg. Loss: 1.35085e-01 Remaining Time: 08h 00min 43s LR: 4.72752e-04 \n"
     ]
    },
    {
     "name": "stdout",
     "output_type": "stream",
     "text": [
      "2025-03-25 11:17:24,000 - LIGHT_DEBUG - Batch 45/80 Pred noise min/max: -0.12196, 0.13229 std/mean: 0.92922, -0.00070 Real noise min/max: -0.12874, 0.13922 std/mean: 1.00000, 0.00005  "
     ]
    },
    {
     "ename": "",
     "evalue": "",
     "output_type": "error",
     "traceback": [
      "\u001b[1;31mFailed to connect to the remote Jupyter Server 'https://n5eqftxbeq.clg07azjl.paperspacegradient.com/'. Verify the server is running and reachable."
     ]
    }
   ],
   "source": [
    "x = diffusion.train(epochs=epochs, \n",
    "                    data_loader=data_loader, \n",
    "                    loss_function=nn.MSELoss(),\n",
    "                    optimizer=optimizer, \n",
    "                    lr_scheduler=scheduler, \n",
    "                    gradient_accum=conf[\"model\"].gradient_accum,\n",
    "                    checkpoint_freq=checkpoint_freq, \n",
    "                    model_path=full_model_path, \n",
    "                    start_epoch=start_epoch,\n",
    "                    patience=100\n",
    "                )\n",
    "scatter_plot(x)"
   ]
  }
 ],
 "metadata": {
  "kernelspec": {
   "display_name": "Python 3 (ipykernel)",
   "language": "python",
   "name": "python3"
  }
 },
 "nbformat": 4,
 "nbformat_minor": 2
}
