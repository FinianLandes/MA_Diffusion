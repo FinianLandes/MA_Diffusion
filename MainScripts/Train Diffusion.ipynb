{
 "cells": [
  {
   "cell_type": "markdown",
   "metadata": {},
   "source": [
    "# Train Diffusion Model\n",
    "### Imports"
   ]
  },
  {
   "cell_type": "code",
   "execution_count": 1,
   "metadata": {},
   "outputs": [],
   "source": [
    "try: \n",
    "    import librosa\n",
    "except:\n",
    "    !pip install librosa\n",
    "\n",
    "\n",
    "#Set Dir \n",
    "import sys, os\n",
    "sys.path.append(os.path.abspath('..'))\n",
    "\n",
    "# Torch\n",
    "import torch\n",
    "from torch import nn, Tensor\n",
    "from torch.utils.data import DataLoader\n",
    "import torch.optim as optim\n",
    "\n",
    "# Utils\n",
    "import numpy as np\n",
    "from numpy import ndarray\n",
    "import logging\n",
    "\n",
    "# Base Scripts\n",
    "from Libraries.U_Net import *\n",
    "from Libraries.Diffusion import *\n",
    "from Libraries.Utils import *\n",
    "from MainScripts.Conf import conf"
   ]
  },
  {
   "cell_type": "markdown",
   "metadata": {},
   "source": [
    "### Config\n",
    "General"
   ]
  },
  {
   "cell_type": "code",
   "execution_count": 2,
   "metadata": {},
   "outputs": [],
   "source": [
    "remote_kernel: bool = True\n",
    "\n",
    "logging_level: int = logging.INFO\n",
    "model_name: str = \"diffusion_v6\"\n",
    "full_model_path: str = path_to_remote_path(\"{}/{}\".format(conf[\"paths\"].model_path, model_name + \".pth\"), remote_kernel)\n",
    "checkpoint_freq: int = 10 #0 for no checkpoint saving\n",
    "training_data_name: str = \"training_full_low_res\"\n",
    "\n",
    "device = \"cuda\" if torch.cuda.is_available() else \"cpu\"\n",
    "restart_training: bool = True #If True and model already exists optimizer and lr_scheduler are reset\n",
    "learning_rate: float = 5e-4\n",
    "epochs: int = 100\n",
    "n_training_samples: int = 2000\n",
    "\n",
    "logging.basicConfig(level=logging_level, format='%(asctime)s - %(levelname)s - %(message)s')\n",
    "logger: logging.Logger = logging.getLogger(__name__)"
   ]
  },
  {
   "cell_type": "markdown",
   "metadata": {},
   "source": [
    "### Data Loading"
   ]
  },
  {
   "cell_type": "code",
   "execution_count": 3,
   "metadata": {},
   "outputs": [
    {
     "name": "stderr",
     "output_type": "stream",
     "text": [
      "2025-03-16 09:54:09,324 - INFO - Data loaded with shape: (2000, 224, 416)\n"
     ]
    }
   ],
   "source": [
    "file: ndarray = load_training_data(path_to_remote_path(\"{}/{}\".format(conf[\"paths\"].data_path, training_data_name + \".npy\"), remote_kernel))[:n_training_samples, ...]\n",
    "data_loader = create_dataloader(Audio_Data(file), conf[\"model\"].batch_size)\n",
    "logger.info(f\"Data loaded with shape: {file.shape}\")"
   ]
  },
  {
   "cell_type": "markdown",
   "metadata": {},
   "source": [
    "### Model Creation\n",
    "U-Net"
   ]
  },
  {
   "cell_type": "code",
   "execution_count": 4,
   "metadata": {},
   "outputs": [
    {
     "name": "stderr",
     "output_type": "stream",
     "text": [
      "2025-03-16 09:54:11,282 - INFO - Model diffusion_v6 created with 69306945 Parameters\n"
     ]
    }
   ],
   "source": [
    "u_net = Conv_U_NET(in_channels=1,\n",
    "                    time_embed_dim=conf[\"model\"].time_embed_dim, \n",
    "                    n_starting_filters=conf[\"model\"].n_starting_filters, \n",
    "                    n_downsamples=conf[\"model\"].n_downsamples, \n",
    "                    activation=nn.SiLU(), \n",
    "                    device=device\n",
    "                ).to(device)\n",
    "\n",
    "optimizer = optim.AdamW(u_net.parameters(), lr=learning_rate)\n",
    "scheduler = optim.lr_scheduler.ReduceLROnPlateau(optimizer, \"min\", factor=0.8, patience=5, threshold=0, threshold_mode=\"rel\", cooldown=0,min_lr=1e-6)\n",
    "start_epoch: int = 0\n",
    "\n",
    "if os.path.exists(full_model_path):\n",
    "    model = torch.load(full_model_path, map_location=device)\n",
    "    u_net.load_state_dict(model[\"model\"])\n",
    "    if not restart_training:\n",
    "        optimizer.load_state_dict(model[\"optim\"])\n",
    "        scheduler.load_state_dict(model[\"scheduler\"])\n",
    "        start_epoch = model.get(\"epoch\", 0)\n",
    "    logger.info(f\"Model {model_name} loaded with {count_parameters(u_net)} Parameters\")\n",
    "else: \n",
    "    logger.info(f\"Model {model_name} created with {count_parameters(u_net)} Parameters\")"
   ]
  },
  {
   "cell_type": "markdown",
   "metadata": {},
   "source": [
    "Diffusion"
   ]
  },
  {
   "cell_type": "code",
   "execution_count": 5,
   "metadata": {},
   "outputs": [],
   "source": [
    "diffusion = Diffusion(model=u_net, \n",
    "                        noise_steps=conf[\"model\"].diffusion_timesteps, \n",
    "                        noise_schedule=\"linear\", \n",
    "                        input_dim=[conf[\"model\"].batch_size, 1, file.shape[-2], file.shape[-1]],\n",
    "                        device=device\n",
    "                    )\n",
    "\n",
    "#diffusion.visualize_diffusion_steps(x=torch.Tensor(file[:1]), noise_schedule=noise_schedule, device=device, n_spectograms=5)"
   ]
  },
  {
   "cell_type": "markdown",
   "metadata": {},
   "source": [
    "### Train"
   ]
  },
  {
   "cell_type": "code",
   "execution_count": 6,
   "metadata": {},
   "outputs": [
    {
     "name": "stderr",
     "output_type": "stream",
     "text": [
      "2025-03-16 09:54:11,494 - INFO - Training started on cuda\n",
      "2025-03-16 09:57:22,751 - INFO - Epoch 001: Avg. Loss: 1.04453e+00 Remaining Time: 05h 15min 34s LR: 5.00000e-04\n",
      "2025-03-16 10:00:40,847 - INFO - Epoch 002: Avg. Loss: 8.80137e-01 Remaining Time: 05h 17min 58s LR: 5.00000e-04\n",
      "2025-03-16 10:04:03,407 - INFO - Epoch 003: Avg. Loss: 7.53109e-01 Remaining Time: 05h 18min 58s LR: 5.00000e-04\n",
      "2025-03-16 10:07:27,704 - INFO - Epoch 004: Avg. Loss: 6.80351e-01 Remaining Time: 05h 18min 28s LR: 5.00000e-04\n",
      "2025-03-16 10:10:48,837 - INFO - Epoch 005: Avg. Loss: 6.19488e-01 Remaining Time: 05h 15min 49s LR: 5.00000e-04\n",
      "2025-03-16 10:14:11,304 - INFO - Epoch 006: Avg. Loss: 5.51329e-01 Remaining Time: 05h 13min 16s LR: 5.00000e-04\n",
      "2025-03-16 10:17:33,573 - INFO - Epoch 007: Avg. Loss: 4.57786e-01 Remaining Time: 05h 10min 27s LR: 5.00000e-04\n",
      "2025-03-16 10:20:56,013 - INFO - Epoch 008: Avg. Loss: 3.89024e-01 Remaining Time: 05h 07min 31s LR: 5.00000e-04\n",
      "2025-03-16 10:24:19,667 - INFO - Epoch 009: Avg. Loss: 3.33108e-01 Remaining Time: 05h 04min 42s LR: 5.00000e-04\n",
      "2025-03-16 10:27:40,631 - INFO - Epoch 010: Avg. Loss: 2.87836e-01 Remaining Time: 05h 01min 22s LR: 5.00000e-04\n",
      "2025-03-16 10:31:03,918 - INFO - Epoch 011: Avg. Loss: 2.60876e-01 Remaining Time: 04h 58min 09s LR: 5.00000e-04\n",
      "2025-03-16 10:34:25,177 - INFO - Epoch 012: Avg. Loss: 2.42927e-01 Remaining Time: 04h 54min 50s LR: 5.00000e-04\n",
      "2025-03-16 10:37:46,253 - INFO - Epoch 013: Avg. Loss: 2.14572e-01 Remaining Time: 04h 51min 29s LR: 5.00000e-04\n",
      "2025-03-16 10:41:08,093 - INFO - Epoch 014: Avg. Loss: 2.06404e-01 Remaining Time: 04h 48min 13s LR: 5.00000e-04\n",
      "2025-03-16 10:44:30,274 - INFO - Epoch 015: Avg. Loss: 1.94994e-01 Remaining Time: 04h 44min 58s LR: 5.00000e-04\n",
      "2025-03-16 10:47:52,152 - INFO - Epoch 016: Avg. Loss: 1.77690e-01 Remaining Time: 04h 41min 41s LR: 5.00000e-04\n",
      "2025-03-16 10:51:14,503 - INFO - Epoch 017: Avg. Loss: 1.74107e-01 Remaining Time: 04h 38min 25s LR: 5.00000e-04\n",
      "2025-03-16 10:54:35,896 - INFO - Epoch 018: Avg. Loss: 1.68255e-01 Remaining Time: 04h 35min 04s LR: 5.00000e-04\n",
      "2025-03-16 10:57:56,689 - INFO - Epoch 019: Avg. Loss: 1.57320e-01 Remaining Time: 04h 31min 41s LR: 5.00000e-04\n",
      "2025-03-16 11:01:17,312 - INFO - Epoch 020: Avg. Loss: 1.48225e-01 Remaining Time: 04h 28min 17s LR: 5.00000e-04\n",
      "2025-03-16 11:04:41,127 - INFO - Epoch 021: Avg. Loss: 1.55780e-01 Remaining Time: 04h 25min 01s LR: 5.00000e-04\n",
      "2025-03-16 11:08:01,315 - INFO - Epoch 022: Avg. Loss: 1.47607e-01 Remaining Time: 04h 21min 36s LR: 5.00000e-04\n",
      "2025-03-16 11:11:20,445 - INFO - Epoch 023: Avg. Loss: 1.38673e-01 Remaining Time: 04h 18min 07s LR: 5.00000e-04\n",
      "2025-03-16 11:14:40,598 - INFO - Epoch 024: Avg. Loss: 1.44633e-01 Remaining Time: 04h 14min 43s LR: 5.00000e-04\n",
      "2025-03-16 11:17:59,149 - INFO - Epoch 025: Avg. Loss: 1.42629e-01 Remaining Time: 04h 11min 14s LR: 5.00000e-04\n",
      "2025-03-16 11:21:18,237 - INFO - Epoch 026: Avg. Loss: 1.39202e-01 Remaining Time: 04h 07min 48s LR: 5.00000e-04\n",
      "2025-03-16 11:24:38,142 - INFO - Epoch 027: Avg. Loss: 1.33863e-01 Remaining Time: 04h 04min 24s LR: 5.00000e-04\n",
      "2025-03-16 11:27:59,254 - INFO - Epoch 028: Avg. Loss: 1.34946e-01 Remaining Time: 04h 01min 04s LR: 5.00000e-04\n",
      "2025-03-16 11:31:19,507 - INFO - Epoch 029: Avg. Loss: 1.26874e-01 Remaining Time: 03h 57min 41s LR: 5.00000e-04\n",
      "2025-03-16 11:34:41,528 - INFO - Epoch 030: Avg. Loss: 1.27388e-01 Remaining Time: 03h 54min 23s LR: 5.00000e-04\n",
      "2025-03-16 11:38:02,450 - INFO - Epoch 031: Avg. Loss: 1.25494e-01 Remaining Time: 03h 50min 59s LR: 5.00000e-04\n",
      "2025-03-16 11:41:20,683 - INFO - Epoch 032: Avg. Loss: 1.27601e-01 Remaining Time: 03h 47min 33s LR: 5.00000e-04\n",
      "2025-03-16 11:44:40,121 - INFO - Epoch 033: Avg. Loss: 1.31273e-01 Remaining Time: 03h 44min 09s LR: 5.00000e-04\n",
      "2025-03-16 11:47:59,107 - INFO - Epoch 034: Avg. Loss: 1.18765e-01 Remaining Time: 03h 40min 45s LR: 5.00000e-04\n",
      "2025-03-16 11:51:18,646 - INFO - Epoch 035: Avg. Loss: 1.11974e-01 Remaining Time: 03h 37min 22s LR: 5.00000e-04\n",
      "2025-03-16 11:54:37,220 - INFO - Epoch 036: Avg. Loss: 1.18962e-01 Remaining Time: 03h 33min 58s LR: 5.00000e-04\n",
      "2025-03-16 11:57:57,735 - INFO - Epoch 037: Avg. Loss: 1.12150e-01 Remaining Time: 03h 30min 37s LR: 5.00000e-04\n",
      "2025-03-16 12:01:16,680 - INFO - Epoch 038: Avg. Loss: 1.26324e-01 Remaining Time: 03h 27min 14s LR: 5.00000e-04\n",
      "2025-03-16 12:04:36,540 - INFO - Epoch 039: Avg. Loss: 1.12293e-01 Remaining Time: 03h 23min 52s LR: 5.00000e-04\n",
      "2025-03-16 12:07:55,702 - INFO - Epoch 040: Avg. Loss: 1.10937e-01 Remaining Time: 03h 20min 30s LR: 5.00000e-04\n",
      "2025-03-16 12:11:14,240 - INFO - Epoch 041: Avg. Loss: 1.19435e-01 Remaining Time: 03h 17min 04s LR: 5.00000e-04\n",
      "2025-03-16 12:14:34,374 - INFO - Epoch 042: Avg. Loss: 1.07173e-01 Remaining Time: 03h 13min 44s LR: 5.00000e-04\n",
      "2025-03-16 12:17:54,391 - INFO - Epoch 043: Avg. Loss: 1.14674e-01 Remaining Time: 03h 10min 23s LR: 5.00000e-04\n",
      "2025-03-16 12:21:14,814 - INFO - Epoch 044: Avg. Loss: 1.14124e-01 Remaining Time: 03h 07min 02s LR: 5.00000e-04\n",
      "2025-03-16 12:24:33,039 - INFO - Epoch 045: Avg. Loss: 1.11056e-01 Remaining Time: 03h 03min 39s LR: 5.00000e-04\n",
      "2025-03-16 12:27:47,928 - INFO - Epoch 046: Avg. Loss: 8.39759e-01 Remaining Time: 03h 00min 12s LR: 5.00000e-04\n",
      "2025-03-16 12:31:00,305 - INFO - Epoch 047: Avg. Loss: 1.00008e+00 Remaining Time: 02h 56min 43s LR: 5.00000e-04\n",
      "2025-03-16 12:34:10,972 - INFO - Epoch 048: Avg. Loss: 9.99972e-01 Remaining Time: 02h 53min 13s LR: 4.00000e-04\n",
      "2025-03-16 12:37:21,746 - INFO - Epoch 049: Avg. Loss: 9.99981e-01 Remaining Time: 02h 49min 44s LR: 4.00000e-04\n",
      "2025-03-16 12:40:30,799 - INFO - Epoch 050: Avg. Loss: 9.99936e-01 Remaining Time: 02h 46min 13s LR: 4.00000e-04\n",
      "2025-03-16 12:43:43,055 - INFO - Epoch 051: Avg. Loss: 9.99760e-01 Remaining Time: 02h 42min 46s LR: 4.00000e-04\n",
      "2025-03-16 12:46:53,396 - INFO - Epoch 052: Avg. Loss: 9.99751e-01 Remaining Time: 02h 39min 18s LR: 4.00000e-04\n",
      "2025-03-16 12:50:06,978 - INFO - Epoch 053: Avg. Loss: 9.99298e-01 Remaining Time: 02h 35min 54s LR: 4.00000e-04\n",
      "2025-03-16 12:53:21,265 - INFO - Epoch 054: Avg. Loss: 9.99318e-01 Remaining Time: 02h 32min 31s LR: 3.20000e-04\n",
      "2025-03-16 12:56:35,850 - INFO - Epoch 055: Avg. Loss: 9.95850e-01 Remaining Time: 02h 29min 08s LR: 3.20000e-04\n",
      "2025-03-16 12:59:53,401 - INFO - Epoch 056: Avg. Loss: 9.85919e-01 Remaining Time: 02h 25min 49s LR: 3.20000e-04\n",
      "2025-03-16 13:03:09,576 - INFO - Epoch 057: Avg. Loss: 9.98874e-01 Remaining Time: 02h 22min 28s LR: 3.20000e-04\n",
      "2025-03-16 13:06:27,454 - INFO - Epoch 058: Avg. Loss: 9.92955e-01 Remaining Time: 02h 19min 08s LR: 3.20000e-04\n",
      "2025-03-16 13:09:46,143 - INFO - Epoch 059: Avg. Loss: 8.96181e-01 Remaining Time: 02h 15min 49s LR: 3.20000e-04\n",
      "2025-03-16 13:13:06,667 - INFO - Epoch 060: Avg. Loss: 7.56397e-01 Remaining Time: 02h 12min 32s LR: 2.56000e-04\n",
      "2025-03-16 13:16:27,553 - INFO - Epoch 061: Avg. Loss: 6.51923e-01 Remaining Time: 02h 09min 13s LR: 2.56000e-04\n",
      "2025-03-16 13:19:47,852 - INFO - Early stopping at epoch 62: Loss has not improved for 20 epochs\n"
     ]
    },
    {
     "data": {
      "image/png": "[encoded data removed]",
      "text/plain": [
       "<Figure size 640x480 with 1 Axes>"
      ]
     },
     "metadata": {},
     "output_type": "display_data"
    }
   ],
   "source": [
    "x = diffusion.train(epochs=epochs, \n",
    "                    data_loader=data_loader, \n",
    "                    loss_function=nn.MSELoss(),\n",
    "                    optimizer=optimizer, \n",
    "                    lr_scheduler=scheduler, \n",
    "                    gradient_accum=conf[\"model\"].gradient_accum,\n",
    "                    checkpoint_freq=checkpoint_freq, \n",
    "                    model_path=full_model_path, \n",
    "                    start_epoch=start_epoch\n",
    "                )\n",
    "scatter_plot(x)"
   ]
  }
 ],
 "metadata": {
  "kernelspec": {
   "display_name": "Python 3 (ipykernel)",
   "language": "python",
   "name": "python3"
  }
 },
 "nbformat": 4,
 "nbformat_minor": 2
}
