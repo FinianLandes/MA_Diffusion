{
 "cells": [
  {
   "cell_type": "markdown",
   "metadata": {},
   "source": [
    "# Train Diffusion Model\n",
    "### Imports"
   ]
  },
  {
   "cell_type": "code",
   "execution_count": 1,
   "metadata": {},
   "outputs": [],
   "source": [
    "#!pip install librosa\n",
    "\n",
    "#Set Dir \n",
    "import sys, os\n",
    "sys.path.append(os.path.abspath('..'))\n",
    "\n",
    "# Torch\n",
    "import torch\n",
    "from torch import nn, Tensor\n",
    "from torch.utils.data import DataLoader\n",
    "import torch.optim as optim\n",
    "#from torchsummary import summary\n",
    "# Utils\n",
    "import numpy as np\n",
    "from numpy import ndarray\n",
    "import logging\n",
    "\n",
    "# Base Scripts\n",
    "from Libraries.U_Net import *\n",
    "from Libraries.Diffusion import *\n",
    "from Libraries.Utils import *\n",
    "from MainScripts.Conf import *"
   ]
  },
  {
   "cell_type": "markdown",
   "metadata": {},
   "source": [
    "### Config\n",
    "General"
   ]
  },
  {
   "cell_type": "code",
   "execution_count": 2,
   "metadata": {},
   "outputs": [],
   "source": [
    "remote_kernel: bool = True\n",
    "\n",
    "logging_level: int = logging.INFO\n",
    "model_name: str = \"diffusion_v3\"\n",
    "model_path: str = path_to_remote_path(f\"{MODEL_PATH}/{model_name}.pth\", remote_kernel)\n",
    "checkpoint_freq: int = 5 #0 for no checkpoint saving\n",
    "training_data_name: str = \"training_full_low_res\"\n",
    "\n",
    "device = \"cuda\" if torch.cuda.is_available() else \"cpu\"\n",
    "\n",
    "batch_size: int = 8\n",
    "epochs: int = 100\n",
    "diffusion_timesteps: int = 500\n",
    "n_training_samples: int = 1280\n",
    "\n",
    "logging.basicConfig(level=logging_level, format='%(asctime)s - %(levelname)s - %(message)s')\n",
    "logger: logging.Logger = logging.getLogger(__name__)"
   ]
  },
  {
   "cell_type": "markdown",
   "metadata": {},
   "source": [
    "U-Net"
   ]
  },
  {
   "cell_type": "code",
   "execution_count": 3,
   "metadata": {},
   "outputs": [],
   "source": [
    "learning_rate: float = 1e-4\n",
    "n_starting_filters: int = 24\n",
    "n_downsamples: int = 3\n",
    "time_embed_dim: int = 128\n",
    "n_starting_attention_size: int = 32\n"
   ]
  },
  {
   "cell_type": "markdown",
   "metadata": {},
   "source": [
    "### Data Loading"
   ]
  },
  {
   "cell_type": "code",
   "execution_count": 4,
   "metadata": {},
   "outputs": [],
   "source": [
    "file: ndarray = load_training_data(path_to_remote_path(f\"{DATA_PATH}/{training_data_name}.npy\", remote_kernel))[:n_training_samples, ...]"
   ]
  },
  {
   "cell_type": "code",
   "execution_count": 5,
   "metadata": {},
   "outputs": [
    {
     "name": "stderr",
     "output_type": "stream",
     "text": [
      "2025-03-06 20:10:06,807 - INFO - Data loaded with shape: (1280, 224, 416)\n"
     ]
    }
   ],
   "source": [
    "data_loader = create_dataloader(Audio_Data(file), batch_size)\n",
    "logger.info(f\"Data loaded with shape: {file.shape}\")"
   ]
  },
  {
   "cell_type": "markdown",
   "metadata": {},
   "source": [
    "### Model Creation\n",
    "U-Net"
   ]
  },
  {
   "cell_type": "code",
   "execution_count": 6,
   "metadata": {},
   "outputs": [
    {
     "name": "stderr",
     "output_type": "stream",
     "text": [
      "2025-03-06 20:10:11,531 - INFO - Model diffusion_v3 created with 9743665 Parameters\n"
     ]
    }
   ],
   "source": [
    "u_net = Conv_U_NET(in_channels=1, time_embed_dim=time_embed_dim, n_starting_filters=n_starting_filters, n_downsamples=n_downsamples, activation=nn.GELU(), device=device).to(device)\n",
    "if os.path.exists(model_path):\n",
    "    u_net.load_state_dict(torch.load(model_path, weights_only=False, map_location=device))\n",
    "    logger.info(f\"Model {model_name} loaded with {count_parameters(u_net)} Parameters\")\n",
    "else: \n",
    "    logger.info(f\"Model {model_name} created with {count_parameters(u_net)} Parameters\")\n",
    "\n",
    "optimizer = optim.AdamW(u_net.parameters(), lr=learning_rate, weight_decay=0.001)\n",
    "scheduler = optim.lr_scheduler.CosineAnnealingLR(optimizer, T_max=epochs, eta_min=1e-8)\n"
   ]
  },
  {
   "cell_type": "code",
   "execution_count": 7,
   "metadata": {},
   "outputs": [
    {
     "name": "stdout",
     "output_type": "stream",
     "text": [
      " (Conv_U_NET): {device(type='cuda', index=0)}\n",
      "inp_lay (Conv2d): {device(type='cuda', index=0)}\n",
      "encoder (ModuleList): {device(type='cuda', index=0)}\n",
      "encoder.0 (ModuleList): {device(type='cuda', index=0)}\n",
      "encoder.0.0 (Down): {device(type='cuda', index=0)}\n",
      "encoder.0.0.seq (Sequential): {device(type='cuda', index=0)}\n",
      "encoder.0.0.seq.0 (MaxPool2d): set()\n",
      "encoder.0.0.seq.1 (DoubleConv): {device(type='cuda', index=0)}\n",
      "encoder.0.0.seq.1.activation (GELU): set()\n",
      "encoder.0.0.seq.1.seq (Sequential): {device(type='cuda', index=0)}\n",
      "encoder.0.0.seq.1.seq.0 (Conv2d): {device(type='cuda', index=0)}\n",
      "encoder.0.0.seq.1.seq.1 (GroupNorm): {device(type='cuda', index=0)}\n",
      "encoder.0.0.seq.1.seq.3 (Conv2d): {device(type='cuda', index=0)}\n",
      "encoder.0.0.seq.1.seq.4 (GroupNorm): {device(type='cuda', index=0)}\n",
      "encoder.0.0.seq.2 (DoubleConv): {device(type='cuda', index=0)}\n",
      "encoder.0.0.seq.2.seq (Sequential): {device(type='cuda', index=0)}\n",
      "encoder.0.0.seq.2.seq.0 (Conv2d): {device(type='cuda', index=0)}\n",
      "encoder.0.0.seq.2.seq.1 (GroupNorm): {device(type='cuda', index=0)}\n",
      "encoder.0.0.seq.2.seq.3 (Conv2d): {device(type='cuda', index=0)}\n",
      "encoder.0.0.seq.2.seq.4 (GroupNorm): {device(type='cuda', index=0)}\n",
      "encoder.0.0.time_seq (Sequential): {device(type='cuda', index=0)}\n",
      "encoder.0.0.time_seq.0 (SiLU): set()\n",
      "encoder.0.0.time_seq.1 (Linear): {device(type='cuda', index=0)}\n",
      "encoder.0.1 (DoubleConv): {device(type='cuda', index=0)}\n",
      "encoder.0.1.seq (Sequential): {device(type='cuda', index=0)}\n",
      "encoder.0.1.seq.0 (Conv2d): {device(type='cuda', index=0)}\n",
      "encoder.0.1.seq.1 (GroupNorm): {device(type='cuda', index=0)}\n",
      "encoder.0.1.seq.3 (Conv2d): {device(type='cuda', index=0)}\n",
      "encoder.0.1.seq.4 (GroupNorm): {device(type='cuda', index=0)}\n",
      "encoder.1 (ModuleList): {device(type='cuda', index=0)}\n",
      "encoder.1.0 (Down): {device(type='cuda', index=0)}\n",
      "encoder.1.0.seq (Sequential): {device(type='cuda', index=0)}\n",
      "encoder.1.0.seq.0 (MaxPool2d): set()\n",
      "encoder.1.0.seq.1 (DoubleConv): {device(type='cuda', index=0)}\n",
      "encoder.1.0.seq.1.seq (Sequential): {device(type='cuda', index=0)}\n",
      "encoder.1.0.seq.1.seq.0 (Conv2d): {device(type='cuda', index=0)}\n",
      "encoder.1.0.seq.1.seq.1 (GroupNorm): {device(type='cuda', index=0)}\n",
      "encoder.1.0.seq.1.seq.3 (Conv2d): {device(type='cuda', index=0)}\n",
      "encoder.1.0.seq.1.seq.4 (GroupNorm): {device(type='cuda', index=0)}\n",
      "encoder.1.0.seq.2 (DoubleConv): {device(type='cuda', index=0)}\n",
      "encoder.1.0.seq.2.seq (Sequential): {device(type='cuda', index=0)}\n",
      "encoder.1.0.seq.2.seq.0 (Conv2d): {device(type='cuda', index=0)}\n",
      "encoder.1.0.seq.2.seq.1 (GroupNorm): {device(type='cuda', index=0)}\n",
      "encoder.1.0.seq.2.seq.3 (Conv2d): {device(type='cuda', index=0)}\n",
      "encoder.1.0.seq.2.seq.4 (GroupNorm): {device(type='cuda', index=0)}\n",
      "encoder.1.0.time_seq (Sequential): {device(type='cuda', index=0)}\n",
      "encoder.1.0.time_seq.0 (SiLU): set()\n",
      "encoder.1.0.time_seq.1 (Linear): {device(type='cuda', index=0)}\n",
      "encoder.1.1 (DoubleConv): {device(type='cuda', index=0)}\n",
      "encoder.1.1.seq (Sequential): {device(type='cuda', index=0)}\n",
      "encoder.1.1.seq.0 (Conv2d): {device(type='cuda', index=0)}\n",
      "encoder.1.1.seq.1 (GroupNorm): {device(type='cuda', index=0)}\n",
      "encoder.1.1.seq.3 (Conv2d): {device(type='cuda', index=0)}\n",
      "encoder.1.1.seq.4 (GroupNorm): {device(type='cuda', index=0)}\n",
      "encoder.2 (ModuleList): {device(type='cuda', index=0)}\n",
      "encoder.2.0 (Down): {device(type='cuda', index=0)}\n",
      "encoder.2.0.seq (Sequential): {device(type='cuda', index=0)}\n",
      "encoder.2.0.seq.0 (MaxPool2d): set()\n",
      "encoder.2.0.seq.1 (DoubleConv): {device(type='cuda', index=0)}\n",
      "encoder.2.0.seq.1.seq (Sequential): {device(type='cuda', index=0)}\n",
      "encoder.2.0.seq.1.seq.0 (Conv2d): {device(type='cuda', index=0)}\n",
      "encoder.2.0.seq.1.seq.1 (GroupNorm): {device(type='cuda', index=0)}\n",
      "encoder.2.0.seq.1.seq.3 (Conv2d): {device(type='cuda', index=0)}\n",
      "encoder.2.0.seq.1.seq.4 (GroupNorm): {device(type='cuda', index=0)}\n",
      "encoder.2.0.seq.2 (DoubleConv): {device(type='cuda', index=0)}\n",
      "encoder.2.0.seq.2.seq (Sequential): {device(type='cuda', index=0)}\n",
      "encoder.2.0.seq.2.seq.0 (Conv2d): {device(type='cuda', index=0)}\n",
      "encoder.2.0.seq.2.seq.1 (GroupNorm): {device(type='cuda', index=0)}\n",
      "encoder.2.0.seq.2.seq.3 (Conv2d): {device(type='cuda', index=0)}\n",
      "encoder.2.0.seq.2.seq.4 (GroupNorm): {device(type='cuda', index=0)}\n",
      "encoder.2.0.time_seq (Sequential): {device(type='cuda', index=0)}\n",
      "encoder.2.0.time_seq.0 (SiLU): set()\n",
      "encoder.2.0.time_seq.1 (Linear): {device(type='cuda', index=0)}\n",
      "encoder.2.1 (DoubleConv): {device(type='cuda', index=0)}\n",
      "encoder.2.1.seq (Sequential): {device(type='cuda', index=0)}\n",
      "encoder.2.1.seq.0 (Conv2d): {device(type='cuda', index=0)}\n",
      "encoder.2.1.seq.1 (GroupNorm): {device(type='cuda', index=0)}\n",
      "encoder.2.1.seq.3 (Conv2d): {device(type='cuda', index=0)}\n",
      "encoder.2.1.seq.4 (GroupNorm): {device(type='cuda', index=0)}\n",
      "bottleneck (Sequential): {device(type='cuda', index=0)}\n",
      "bottleneck.0 (DoubleConv): {device(type='cuda', index=0)}\n",
      "bottleneck.0.seq (Sequential): {device(type='cuda', index=0)}\n",
      "bottleneck.0.seq.0 (Conv2d): {device(type='cuda', index=0)}\n",
      "bottleneck.0.seq.1 (GroupNorm): {device(type='cuda', index=0)}\n",
      "bottleneck.0.seq.3 (Conv2d): {device(type='cuda', index=0)}\n",
      "bottleneck.0.seq.4 (GroupNorm): {device(type='cuda', index=0)}\n",
      "bottleneck.1 (DoubleConv): {device(type='cuda', index=0)}\n",
      "bottleneck.1.seq (Sequential): {device(type='cuda', index=0)}\n",
      "bottleneck.1.seq.0 (Conv2d): {device(type='cuda', index=0)}\n",
      "bottleneck.1.seq.1 (GroupNorm): {device(type='cuda', index=0)}\n",
      "bottleneck.1.seq.3 (Conv2d): {device(type='cuda', index=0)}\n",
      "bottleneck.1.seq.4 (GroupNorm): {device(type='cuda', index=0)}\n",
      "bottleneck.2 (DoubleConv): {device(type='cuda', index=0)}\n",
      "bottleneck.2.seq (Sequential): {device(type='cuda', index=0)}\n",
      "bottleneck.2.seq.0 (Conv2d): {device(type='cuda', index=0)}\n",
      "bottleneck.2.seq.1 (GroupNorm): {device(type='cuda', index=0)}\n",
      "bottleneck.2.seq.3 (Conv2d): {device(type='cuda', index=0)}\n",
      "bottleneck.2.seq.4 (GroupNorm): {device(type='cuda', index=0)}\n",
      "decoder (ModuleList): {device(type='cuda', index=0)}\n",
      "decoder.0 (ModuleList): {device(type='cuda', index=0)}\n",
      "decoder.0.0 (Up): {device(type='cuda', index=0)}\n",
      "decoder.0.0.upsample (Upsample): set()\n",
      "decoder.0.0.half_channels (Conv2d): {device(type='cuda', index=0)}\n",
      "decoder.0.0.seq (Sequential): {device(type='cuda', index=0)}\n",
      "decoder.0.0.seq.0 (DoubleConv): {device(type='cuda', index=0)}\n",
      "decoder.0.0.seq.0.seq (Sequential): {device(type='cuda', index=0)}\n",
      "decoder.0.0.seq.0.seq.0 (Conv2d): {device(type='cuda', index=0)}\n",
      "decoder.0.0.seq.0.seq.1 (GroupNorm): {device(type='cuda', index=0)}\n",
      "decoder.0.0.seq.0.seq.3 (Conv2d): {device(type='cuda', index=0)}\n",
      "decoder.0.0.seq.0.seq.4 (GroupNorm): {device(type='cuda', index=0)}\n",
      "decoder.0.0.seq.1 (DoubleConv): {device(type='cuda', index=0)}\n",
      "decoder.0.0.seq.1.seq (Sequential): {device(type='cuda', index=0)}\n",
      "decoder.0.0.seq.1.seq.0 (Conv2d): {device(type='cuda', index=0)}\n",
      "decoder.0.0.seq.1.seq.1 (GroupNorm): {device(type='cuda', index=0)}\n",
      "decoder.0.0.seq.1.seq.3 (Conv2d): {device(type='cuda', index=0)}\n",
      "decoder.0.0.seq.1.seq.4 (GroupNorm): {device(type='cuda', index=0)}\n",
      "decoder.0.0.time_seq (Sequential): {device(type='cuda', index=0)}\n",
      "decoder.0.0.time_seq.0 (SiLU): set()\n",
      "decoder.0.0.time_seq.1 (Linear): {device(type='cuda', index=0)}\n",
      "decoder.0.1 (DoubleConv): {device(type='cuda', index=0)}\n",
      "decoder.0.1.seq (Sequential): {device(type='cuda', index=0)}\n",
      "decoder.0.1.seq.0 (Conv2d): {device(type='cuda', index=0)}\n",
      "decoder.0.1.seq.1 (GroupNorm): {device(type='cuda', index=0)}\n",
      "decoder.0.1.seq.3 (Conv2d): {device(type='cuda', index=0)}\n",
      "decoder.0.1.seq.4 (GroupNorm): {device(type='cuda', index=0)}\n",
      "decoder.1 (ModuleList): {device(type='cuda', index=0)}\n",
      "decoder.1.0 (Up): {device(type='cuda', index=0)}\n",
      "decoder.1.0.upsample (Upsample): set()\n",
      "decoder.1.0.half_channels (Conv2d): {device(type='cuda', index=0)}\n",
      "decoder.1.0.seq (Sequential): {device(type='cuda', index=0)}\n",
      "decoder.1.0.seq.0 (DoubleConv): {device(type='cuda', index=0)}\n",
      "decoder.1.0.seq.0.seq (Sequential): {device(type='cuda', index=0)}\n",
      "decoder.1.0.seq.0.seq.0 (Conv2d): {device(type='cuda', index=0)}\n",
      "decoder.1.0.seq.0.seq.1 (GroupNorm): {device(type='cuda', index=0)}\n",
      "decoder.1.0.seq.0.seq.3 (Conv2d): {device(type='cuda', index=0)}\n",
      "decoder.1.0.seq.0.seq.4 (GroupNorm): {device(type='cuda', index=0)}\n",
      "decoder.1.0.seq.1 (DoubleConv): {device(type='cuda', index=0)}\n",
      "decoder.1.0.seq.1.seq (Sequential): {device(type='cuda', index=0)}\n",
      "decoder.1.0.seq.1.seq.0 (Conv2d): {device(type='cuda', index=0)}\n",
      "decoder.1.0.seq.1.seq.1 (GroupNorm): {device(type='cuda', index=0)}\n",
      "decoder.1.0.seq.1.seq.3 (Conv2d): {device(type='cuda', index=0)}\n",
      "decoder.1.0.seq.1.seq.4 (GroupNorm): {device(type='cuda', index=0)}\n",
      "decoder.1.0.time_seq (Sequential): {device(type='cuda', index=0)}\n",
      "decoder.1.0.time_seq.0 (SiLU): set()\n",
      "decoder.1.0.time_seq.1 (Linear): {device(type='cuda', index=0)}\n",
      "decoder.1.1 (DoubleConv): {device(type='cuda', index=0)}\n",
      "decoder.1.1.seq (Sequential): {device(type='cuda', index=0)}\n",
      "decoder.1.1.seq.0 (Conv2d): {device(type='cuda', index=0)}\n",
      "decoder.1.1.seq.1 (GroupNorm): {device(type='cuda', index=0)}\n",
      "decoder.1.1.seq.3 (Conv2d): {device(type='cuda', index=0)}\n",
      "decoder.1.1.seq.4 (GroupNorm): {device(type='cuda', index=0)}\n",
      "decoder.2 (ModuleList): {device(type='cuda', index=0)}\n",
      "decoder.2.0 (Up): {device(type='cuda', index=0)}\n",
      "decoder.2.0.upsample (Upsample): set()\n",
      "decoder.2.0.half_channels (Conv2d): {device(type='cuda', index=0)}\n",
      "decoder.2.0.seq (Sequential): {device(type='cuda', index=0)}\n",
      "decoder.2.0.seq.0 (DoubleConv): {device(type='cuda', index=0)}\n",
      "decoder.2.0.seq.0.seq (Sequential): {device(type='cuda', index=0)}\n",
      "decoder.2.0.seq.0.seq.0 (Conv2d): {device(type='cuda', index=0)}\n",
      "decoder.2.0.seq.0.seq.1 (GroupNorm): {device(type='cuda', index=0)}\n",
      "decoder.2.0.seq.0.seq.3 (Conv2d): {device(type='cuda', index=0)}\n",
      "decoder.2.0.seq.0.seq.4 (GroupNorm): {device(type='cuda', index=0)}\n",
      "decoder.2.0.seq.1 (DoubleConv): {device(type='cuda', index=0)}\n",
      "decoder.2.0.seq.1.seq (Sequential): {device(type='cuda', index=0)}\n",
      "decoder.2.0.seq.1.seq.0 (Conv2d): {device(type='cuda', index=0)}\n",
      "decoder.2.0.seq.1.seq.1 (GroupNorm): {device(type='cuda', index=0)}\n",
      "decoder.2.0.seq.1.seq.3 (Conv2d): {device(type='cuda', index=0)}\n",
      "decoder.2.0.seq.1.seq.4 (GroupNorm): {device(type='cuda', index=0)}\n",
      "decoder.2.0.time_seq (Sequential): {device(type='cuda', index=0)}\n",
      "decoder.2.0.time_seq.0 (SiLU): set()\n",
      "decoder.2.0.time_seq.1 (Linear): {device(type='cuda', index=0)}\n",
      "decoder.2.1 (DoubleConv): {device(type='cuda', index=0)}\n",
      "decoder.2.1.seq (Sequential): {device(type='cuda', index=0)}\n",
      "decoder.2.1.seq.0 (Conv2d): {device(type='cuda', index=0)}\n",
      "decoder.2.1.seq.1 (GroupNorm): {device(type='cuda', index=0)}\n",
      "decoder.2.1.seq.3 (Conv2d): {device(type='cuda', index=0)}\n",
      "decoder.2.1.seq.4 (GroupNorm): {device(type='cuda', index=0)}\n",
      "out_lay (Conv2d): {device(type='cuda', index=0)}\n"
     ]
    }
   ],
   "source": [
    "for name, module in u_net.named_modules():\n",
    "    if module.__class__.__module__ != 'torch.nn.modules':  # Ignore standard PyTorch modules\n",
    "        devices = {p.device for p in module.parameters()} | {b.device for b in module.buffers()}\n",
    "        print(f\"{name} ({module.__class__.__name__}): {devices}\")\n",
    "\n",
    "\n",
    "#summary(u_net, [(1, file.shape[-2], file.shape[-1]), (1,)], batch_size=2)"
   ]
  },
  {
   "cell_type": "markdown",
   "metadata": {},
   "source": [
    "Diffusion"
   ]
  },
  {
   "cell_type": "code",
   "execution_count": 8,
   "metadata": {},
   "outputs": [],
   "source": [
    "diffusion = Diffusion(model=u_net, noise_steps=diffusion_timesteps, noise_schedule=\"linear\", input_dim=[8, 1, file.shape[-2], file.shape[-1]], device=device)\n",
    "\n",
    "#diffusion.visualize_diffusion_steps(x=torch.Tensor(file[:1]), noise_schedule=noise_schedule, device=device, n_spectograms=5)"
   ]
  },
  {
   "cell_type": "markdown",
   "metadata": {},
   "source": [
    "### Train"
   ]
  },
  {
   "cell_type": "code",
   "execution_count": 9,
   "metadata": {},
   "outputs": [
    {
     "name": "stderr",
     "output_type": "stream",
     "text": [
      "2025-03-06 20:10:12,551 - INFO - Training started on cuda\n",
      "2025-03-06 20:10:16,151 - INFO - Epoch 1, Timestep 398:\n",
      "2025-03-06 20:10:16,153 - INFO -   True Noise min/max: -4.442, 4.357\n",
      "2025-03-06 20:10:16,154 - INFO -   Pred Noise min/max: -0.441, 2.256\n",
      "2025-03-06 20:10:52,946 - INFO - Epoch 01: Avg. Loss: 1.03646e+00 Remaining Time: 01h 06min 38s LR: 9.99753e-05\n",
      "2025-03-06 20:10:53,190 - INFO - Epoch 2, Timestep 210:\n",
      "2025-03-06 20:10:53,192 - INFO -   True Noise min/max: -4.396, 4.450\n",
      "2025-03-06 20:10:53,194 - INFO -   Pred Noise min/max: -0.615, 0.699\n",
      "2025-03-06 20:11:30,070 - INFO - Epoch 02: Avg. Loss: 9.36455e-01 Remaining Time: 01h 03min 18s LR: 9.99013e-05\n",
      "2025-03-06 20:11:30,341 - INFO - Epoch 3, Timestep 226:\n",
      "2025-03-06 20:11:30,342 - INFO -   True Noise min/max: -4.423, 4.259\n",
      "2025-03-06 20:11:30,344 - INFO -   Pred Noise min/max: -1.377, 1.632\n",
      "2025-03-06 20:12:07,069 - INFO - Epoch 03: Avg. Loss: 8.73159e-01 Remaining Time: 01h 01min 42s LR: 9.97781e-05\n",
      "2025-03-06 20:12:07,270 - INFO - Epoch 4, Timestep 258:\n",
      "2025-03-06 20:12:07,271 - INFO -   True Noise min/max: -4.135, 4.029\n",
      "2025-03-06 20:12:07,272 - INFO -   Pred Noise min/max: -1.979, 1.929\n",
      "2025-03-06 20:12:41,259 - INFO - Epoch 04: Avg. Loss: 8.27691e-01 Remaining Time: 00h 59min 28s LR: 9.96058e-05\n",
      "2025-03-06 20:12:41,506 - INFO - Epoch 5, Timestep 153:\n",
      "2025-03-06 20:12:41,508 - INFO -   True Noise min/max: -4.098, 4.199\n",
      "2025-03-06 20:12:41,509 - INFO -   Pred Noise min/max: -1.906, 1.739\n",
      "2025-03-06 20:13:18,330 - INFO - Epoch 05: Avg. Loss: 7.93097e-01 Remaining Time: 00h 58min 49s LR: 9.93845e-05\n",
      "2025-03-06 20:13:18,669 - INFO - Epoch 6, Timestep 435:\n",
      "2025-03-06 20:13:18,671 - INFO -   True Noise min/max: -4.463, 4.002\n",
      "2025-03-06 20:13:18,672 - INFO -   Pred Noise min/max: -2.119, 2.326\n",
      "2025-03-06 20:13:53,401 - INFO - Epoch 06: Avg. Loss: 7.64162e-01 Remaining Time: 00h 57min 38s LR: 9.91145e-05\n",
      "2025-03-06 20:13:53,657 - INFO - Epoch 7, Timestep 489:\n",
      "2025-03-06 20:13:53,659 - INFO -   True Noise min/max: -4.340, 4.215\n",
      "2025-03-06 20:13:53,660 - INFO -   Pred Noise min/max: -2.059, 2.119\n",
      "2025-03-06 20:14:29,653 - INFO - Epoch 07: Avg. Loss: 7.37172e-01 Remaining Time: 00h 56min 54s LR: 9.87960e-05\n",
      "2025-03-06 20:14:29,855 - INFO - Epoch 8, Timestep 212:\n",
      "2025-03-06 20:14:29,856 - INFO -   True Noise min/max: -4.991, 4.792\n",
      "2025-03-06 20:14:29,857 - INFO -   Pred Noise min/max: -2.656, 2.336\n",
      "2025-03-06 20:15:06,334 - INFO - Epoch 08: Avg. Loss: 7.09248e-01 Remaining Time: 00h 56min 17s LR: 9.84293e-05\n",
      "2025-03-06 20:15:06,581 - INFO - Epoch 9, Timestep 111:\n",
      "2025-03-06 20:15:06,583 - INFO -   True Noise min/max: -4.996, 4.160\n",
      "2025-03-06 20:15:06,583 - INFO -   Pred Noise min/max: -2.336, 2.004\n",
      "2025-03-06 20:15:43,654 - INFO - Epoch 09: Avg. Loss: 6.73059e-01 Remaining Time: 00h 55min 46s LR: 9.80149e-05\n",
      "2025-03-06 20:15:43,857 - INFO - Epoch 10, Timestep 426:\n",
      "2025-03-06 20:15:43,858 - INFO -   True Noise min/max: -4.681, 4.023\n",
      "2025-03-06 20:15:43,859 - INFO -   Pred Noise min/max: -2.691, 2.412\n",
      "2025-03-06 20:16:20,096 - INFO - Epoch 10: Avg. Loss: 6.48313e-01 Remaining Time: 00h 55min 07s LR: 9.75531e-05\n",
      "2025-03-06 20:16:20,585 - INFO - Epoch 11, Timestep 471:\n",
      "2025-03-06 20:16:20,589 - INFO -   True Noise min/max: -4.222, 4.301\n",
      "2025-03-06 20:16:20,591 - INFO -   Pred Noise min/max: -2.645, 2.305\n",
      "2025-03-06 20:16:56,296 - INFO - Epoch 11: Avg. Loss: 6.27203e-01 Remaining Time: 00h 54min 23s LR: 9.70443e-05\n",
      "2025-03-06 20:16:56,543 - INFO - Epoch 12, Timestep 391:\n",
      "2025-03-06 20:16:56,545 - INFO -   True Noise min/max: -4.347, 4.288\n",
      "2025-03-06 20:16:56,549 - INFO -   Pred Noise min/max: -2.680, 3.006\n",
      "2025-03-06 20:17:32,340 - INFO - Epoch 12: Avg. Loss: 6.02326e-01 Remaining Time: 00h 53min 42s LR: 9.64892e-05\n",
      "2025-03-06 20:17:32,591 - INFO - Epoch 13, Timestep 270:\n",
      "2025-03-06 20:17:32,592 - INFO -   True Noise min/max: -4.587, 4.372\n",
      "2025-03-06 20:17:32,595 - INFO -   Pred Noise min/max: -2.418, 2.623\n",
      "2025-03-06 20:18:09,584 - INFO - Epoch 13: Avg. Loss: 5.86583e-01 Remaining Time: 00h 53min 10s LR: 9.58881e-05\n",
      "2025-03-06 20:18:09,785 - INFO - Epoch 14, Timestep 287:\n",
      "2025-03-06 20:18:09,786 - INFO -   True Noise min/max: -4.290, 4.308\n",
      "2025-03-06 20:18:09,787 - INFO -   Pred Noise min/max: -2.656, 3.107\n",
      "2025-03-06 20:18:44,977 - INFO - Epoch 14: Avg. Loss: 5.68014e-01 Remaining Time: 00h 52min 25s LR: 9.52418e-05\n",
      "2025-03-06 20:18:45,178 - INFO - Epoch 15, Timestep 445:\n",
      "2025-03-06 20:18:45,180 - INFO -   True Noise min/max: -4.199, 4.881\n",
      "2025-03-06 20:18:45,181 - INFO -   Pred Noise min/max: -2.643, 3.100\n"
     ]
    },
    {
     "ename": "KeyboardInterrupt",
     "evalue": "",
     "output_type": "error",
     "traceback": [
      "\u001b[0;31m---------------------------------------------------------------------------\u001b[0m",
      "\u001b[0;31mKeyboardInterrupt\u001b[0m                         Traceback (most recent call last)",
      "Cell \u001b[0;32mIn[9], line 1\u001b[0m\n\u001b[0;32m----> 1\u001b[0m x \u001b[38;5;241m=\u001b[39m \u001b[43mdiffusion\u001b[49m\u001b[38;5;241;43m.\u001b[39;49m\u001b[43mtrain\u001b[49m\u001b[43m(\u001b[49m\u001b[43mepochs\u001b[49m\u001b[38;5;241;43m=\u001b[39;49m\u001b[43mepochs\u001b[49m\u001b[43m,\u001b[49m\u001b[43m \u001b[49m\u001b[43mdata_loader\u001b[49m\u001b[38;5;241;43m=\u001b[39;49m\u001b[43mdata_loader\u001b[49m\u001b[43m,\u001b[49m\u001b[43mloss_function\u001b[49m\u001b[38;5;241;43m=\u001b[39;49m\u001b[43mnn\u001b[49m\u001b[38;5;241;43m.\u001b[39;49m\u001b[43mMSELoss\u001b[49m\u001b[43m(\u001b[49m\u001b[43m)\u001b[49m\u001b[43m,\u001b[49m\u001b[43moptimizer\u001b[49m\u001b[38;5;241;43m=\u001b[39;49m\u001b[43moptimizer\u001b[49m\u001b[43m,\u001b[49m\u001b[43m \u001b[49m\u001b[43mlr_scheduler\u001b[49m\u001b[38;5;241;43m=\u001b[39;49m\u001b[43mscheduler\u001b[49m\u001b[43m,\u001b[49m\u001b[43m \u001b[49m\u001b[43mgradient_accum\u001b[49m\u001b[38;5;241;43m=\u001b[39;49m\u001b[38;5;241;43m4\u001b[39;49m\u001b[43m,\u001b[49m\u001b[43m \u001b[49m\u001b[43mcheckpoint_freq\u001b[49m\u001b[38;5;241;43m=\u001b[39;49m\u001b[43mcheckpoint_freq\u001b[49m\u001b[43m,\u001b[49m\u001b[43m \u001b[49m\u001b[43mmodel_path\u001b[49m\u001b[38;5;241;43m=\u001b[39;49m\u001b[43mmodel_path\u001b[49m\u001b[43m)\u001b[49m\n\u001b[1;32m      2\u001b[0m scatter_plot(x)\n",
      "File \u001b[0;32m/notebooks/Libraries/Diffusion.py:79\u001b[0m, in \u001b[0;36mDiffusion.train\u001b[0;34m(self, epochs, data_loader, loss_function, optimizer, lr_scheduler, gradient_accum, checkpoint_freq, model_path)\u001b[0m\n\u001b[1;32m     76\u001b[0m     loss \u001b[38;5;241m=\u001b[39m loss_function(pred_noise, noise) \u001b[38;5;241m/\u001b[39m gradient_accum\n\u001b[1;32m     78\u001b[0m \u001b[38;5;28mself\u001b[39m\u001b[38;5;241m.\u001b[39mscaler\u001b[38;5;241m.\u001b[39mscale(loss)\u001b[38;5;241m.\u001b[39mbackward()\n\u001b[0;32m---> 79\u001b[0m total_loss \u001b[38;5;241m+\u001b[39m\u001b[38;5;241m=\u001b[39m \u001b[43mloss\u001b[49m\u001b[38;5;241;43m.\u001b[39;49m\u001b[43mitem\u001b[49m\u001b[43m(\u001b[49m\u001b[43m)\u001b[49m \u001b[38;5;241m*\u001b[39m gradient_accum\n\u001b[1;32m     80\u001b[0m \u001b[38;5;28;01mif\u001b[39;00m b_idx \u001b[38;5;241m==\u001b[39m \u001b[38;5;241m0\u001b[39m:\n\u001b[1;32m     81\u001b[0m     logger\u001b[38;5;241m.\u001b[39minfo(\u001b[38;5;124mf\u001b[39m\u001b[38;5;124m\"\u001b[39m\u001b[38;5;124mEpoch \u001b[39m\u001b[38;5;132;01m{\u001b[39;00me\u001b[38;5;250m \u001b[39m\u001b[38;5;241m+\u001b[39m\u001b[38;5;250m \u001b[39m\u001b[38;5;241m1\u001b[39m\u001b[38;5;132;01m}\u001b[39;00m\u001b[38;5;124m, Timestep \u001b[39m\u001b[38;5;132;01m{\u001b[39;00mtimesteps[\u001b[38;5;241m0\u001b[39m]\u001b[38;5;241m.\u001b[39mitem()\u001b[38;5;132;01m}\u001b[39;00m\u001b[38;5;124m:\u001b[39m\u001b[38;5;124m\"\u001b[39m)\n",
      "\u001b[0;31mKeyboardInterrupt\u001b[0m: "
     ]
    }
   ],
   "source": [
    "x = diffusion.train(epochs=epochs, data_loader=data_loader,loss_function=nn.MSELoss(),optimizer=optimizer, lr_scheduler=scheduler, gradient_accum=4, checkpoint_freq=checkpoint_freq, model_path=model_path)\n",
    "scatter_plot(x)"
   ]
  }
 ],
 "metadata": {
  "kernelspec": {
   "display_name": "Python 3 (ipykernel)",
   "language": "python",
   "name": "python3"
  },
  "language_info": {
   "codemirror_mode": {
    "name": "ipython",
    "version": 3
   },
   "file_extension": ".py",
   "mimetype": "text/x-python",
   "name": "python",
   "nbconvert_exporter": "python",
   "pygments_lexer": "ipython3",
   "version": "3.11.7"
  }
 },
 "nbformat": 4,
 "nbformat_minor": 2
}
