{
 "cells": [
  {
   "cell_type": "markdown",
   "metadata": {},
   "source": [
    "# Train Diffusion Model\n",
    "### Imports"
   ]
  },
  {
   "cell_type": "code",
   "execution_count": 1,
   "metadata": {},
   "outputs": [],
   "source": [
    "#!pip install librosa\n",
    "\n",
    "#Set Dir \n",
    "import sys, os\n",
    "sys.path.append(os.path.abspath('..'))\n",
    "\n",
    "# Torch\n",
    "import torch\n",
    "from torch import nn, Tensor\n",
    "from torch.utils.data import DataLoader\n",
    "import torch.optim as optim\n",
    "#from torchsummary import summary\n",
    "# Utils\n",
    "import numpy as np\n",
    "from numpy import ndarray\n",
    "import logging\n",
    "\n",
    "# Base Scripts\n",
    "from Libraries.U_Net import *\n",
    "from Libraries.Diffusion import *\n",
    "from Libraries.Utils import *\n",
    "from MainScripts.Conf import *"
   ]
  },
  {
   "cell_type": "markdown",
   "metadata": {},
   "source": [
    "### Config\n",
    "General"
   ]
  },
  {
   "cell_type": "code",
   "execution_count": 2,
   "metadata": {},
   "outputs": [],
   "source": [
    "remote_kernel: bool = True\n",
    "\n",
    "logging_level: int = logging.INFO\n",
    "model_name: str = \"diffusion_v3\"\n",
    "model_path: str = path_to_remote_path(f\"{MODEL_PATH}/{model_name}.pth\", remote_kernel)\n",
    "checkpoint_freq: int = 10 #0 for no checkpoint saving\n",
    "training_data_name: str = \"training_full_low_res\"\n",
    "\n",
    "device = \"cuda\" if torch.cuda.is_available() else \"cpu\"\n",
    "\n",
    "batch_size: int = 16\n",
    "epochs: int = 100\n",
    "diffusion_timesteps: int = 500\n",
    "n_training_samples: int = 10000\n",
    "\n",
    "logging.basicConfig(level=logging_level, format='%(asctime)s - %(levelname)s - %(message)s')\n",
    "logger: logging.Logger = logging.getLogger(__name__)"
   ]
  },
  {
   "cell_type": "markdown",
   "metadata": {},
   "source": [
    "U-Net"
   ]
  },
  {
   "cell_type": "code",
   "execution_count": 3,
   "metadata": {},
   "outputs": [],
   "source": [
    "learning_rate: float = 1e-4\n",
    "n_starting_filters: int = 32\n",
    "n_downsamples: int = 3\n",
    "time_embed_dim: int = 128\n"
   ]
  },
  {
   "cell_type": "markdown",
   "metadata": {},
   "source": [
    "### Data Loading"
   ]
  },
  {
   "cell_type": "code",
   "execution_count": 4,
   "metadata": {},
   "outputs": [],
   "source": [
    "file: ndarray = load_training_data(path_to_remote_path(f\"{DATA_PATH}/{training_data_name}.npy\", remote_kernel))[:n_training_samples, ...]"
   ]
  },
  {
   "cell_type": "code",
   "execution_count": 5,
   "metadata": {},
   "outputs": [
    {
     "name": "stderr",
     "output_type": "stream",
     "text": [
      "2025-03-07 09:08:10,935 - INFO - Data loaded with shape: (7087, 224, 416)\n"
     ]
    }
   ],
   "source": [
    "data_loader = create_dataloader(Audio_Data(file), batch_size)\n",
    "logger.info(f\"Data loaded with shape: {file.shape}\")"
   ]
  },
  {
   "cell_type": "markdown",
   "metadata": {},
   "source": [
    "### Model Creation\n",
    "U-Net"
   ]
  },
  {
   "cell_type": "code",
   "execution_count": 6,
   "metadata": {},
   "outputs": [
    {
     "name": "stderr",
     "output_type": "stream",
     "text": [
      "2025-03-07 09:08:21,283 - INFO - Model diffusion_v3 loaded with 17288513 Parameters\n"
     ]
    }
   ],
   "source": [
    "u_net = Conv_U_NET(in_channels=1, time_embed_dim=time_embed_dim, n_starting_filters=n_starting_filters, n_downsamples=n_downsamples, activation=nn.GELU(), device=device).to(device)\n",
    "if os.path.exists(model_path):\n",
    "    u_net.load_state_dict(torch.load(model_path, weights_only=False, map_location=device))\n",
    "    logger.info(f\"Model {model_name} loaded with {count_parameters(u_net)} Parameters\")\n",
    "else: \n",
    "    logger.info(f\"Model {model_name} created with {count_parameters(u_net)} Parameters\")\n",
    "\n",
    "optimizer = optim.AdamW(u_net.parameters(), lr=learning_rate, weight_decay=0.001)\n",
    "scheduler = optim.lr_scheduler.CosineAnnealingLR(optimizer, T_max=600, eta_min=1e-6)\n"
   ]
  },
  {
   "cell_type": "code",
   "execution_count": 7,
   "metadata": {},
   "outputs": [
    {
     "name": "stdout",
     "output_type": "stream",
     "text": [
      " (Conv_U_NET): {device(type='cuda', index=0)}\n",
      "inp_lay (Conv2d): {device(type='cuda', index=0)}\n",
      "encoder (ModuleList): {device(type='cuda', index=0)}\n",
      "encoder.0 (ModuleList): {device(type='cuda', index=0)}\n",
      "encoder.0.0 (Down): {device(type='cuda', index=0)}\n",
      "encoder.0.0.seq (Sequential): {device(type='cuda', index=0)}\n",
      "encoder.0.0.seq.0 (MaxPool2d): set()\n",
      "encoder.0.0.seq.1 (DoubleConv): {device(type='cuda', index=0)}\n",
      "encoder.0.0.seq.1.activation (GELU): set()\n",
      "encoder.0.0.seq.1.seq (Sequential): {device(type='cuda', index=0)}\n",
      "encoder.0.0.seq.1.seq.0 (Conv2d): {device(type='cuda', index=0)}\n",
      "encoder.0.0.seq.1.seq.1 (GroupNorm): {device(type='cuda', index=0)}\n",
      "encoder.0.0.seq.1.seq.3 (Conv2d): {device(type='cuda', index=0)}\n",
      "encoder.0.0.seq.1.seq.4 (GroupNorm): {device(type='cuda', index=0)}\n",
      "encoder.0.0.seq.2 (DoubleConv): {device(type='cuda', index=0)}\n",
      "encoder.0.0.seq.2.seq (Sequential): {device(type='cuda', index=0)}\n",
      "encoder.0.0.seq.2.seq.0 (Conv2d): {device(type='cuda', index=0)}\n",
      "encoder.0.0.seq.2.seq.1 (GroupNorm): {device(type='cuda', index=0)}\n",
      "encoder.0.0.seq.2.seq.3 (Conv2d): {device(type='cuda', index=0)}\n",
      "encoder.0.0.seq.2.seq.4 (GroupNorm): {device(type='cuda', index=0)}\n",
      "encoder.0.0.time_seq (Sequential): {device(type='cuda', index=0)}\n",
      "encoder.0.0.time_seq.0 (SiLU): set()\n",
      "encoder.0.0.time_seq.1 (Linear): {device(type='cuda', index=0)}\n",
      "encoder.0.1 (DoubleConv): {device(type='cuda', index=0)}\n",
      "encoder.0.1.seq (Sequential): {device(type='cuda', index=0)}\n",
      "encoder.0.1.seq.0 (Conv2d): {device(type='cuda', index=0)}\n",
      "encoder.0.1.seq.1 (GroupNorm): {device(type='cuda', index=0)}\n",
      "encoder.0.1.seq.3 (Conv2d): {device(type='cuda', index=0)}\n",
      "encoder.0.1.seq.4 (GroupNorm): {device(type='cuda', index=0)}\n",
      "encoder.1 (ModuleList): {device(type='cuda', index=0)}\n",
      "encoder.1.0 (Down): {device(type='cuda', index=0)}\n",
      "encoder.1.0.seq (Sequential): {device(type='cuda', index=0)}\n",
      "encoder.1.0.seq.0 (MaxPool2d): set()\n",
      "encoder.1.0.seq.1 (DoubleConv): {device(type='cuda', index=0)}\n",
      "encoder.1.0.seq.1.seq (Sequential): {device(type='cuda', index=0)}\n",
      "encoder.1.0.seq.1.seq.0 (Conv2d): {device(type='cuda', index=0)}\n",
      "encoder.1.0.seq.1.seq.1 (GroupNorm): {device(type='cuda', index=0)}\n",
      "encoder.1.0.seq.1.seq.3 (Conv2d): {device(type='cuda', index=0)}\n",
      "encoder.1.0.seq.1.seq.4 (GroupNorm): {device(type='cuda', index=0)}\n",
      "encoder.1.0.seq.2 (DoubleConv): {device(type='cuda', index=0)}\n",
      "encoder.1.0.seq.2.seq (Sequential): {device(type='cuda', index=0)}\n",
      "encoder.1.0.seq.2.seq.0 (Conv2d): {device(type='cuda', index=0)}\n",
      "encoder.1.0.seq.2.seq.1 (GroupNorm): {device(type='cuda', index=0)}\n",
      "encoder.1.0.seq.2.seq.3 (Conv2d): {device(type='cuda', index=0)}\n",
      "encoder.1.0.seq.2.seq.4 (GroupNorm): {device(type='cuda', index=0)}\n",
      "encoder.1.0.time_seq (Sequential): {device(type='cuda', index=0)}\n",
      "encoder.1.0.time_seq.0 (SiLU): set()\n",
      "encoder.1.0.time_seq.1 (Linear): {device(type='cuda', index=0)}\n",
      "encoder.1.1 (DoubleConv): {device(type='cuda', index=0)}\n",
      "encoder.1.1.seq (Sequential): {device(type='cuda', index=0)}\n",
      "encoder.1.1.seq.0 (Conv2d): {device(type='cuda', index=0)}\n",
      "encoder.1.1.seq.1 (GroupNorm): {device(type='cuda', index=0)}\n",
      "encoder.1.1.seq.3 (Conv2d): {device(type='cuda', index=0)}\n",
      "encoder.1.1.seq.4 (GroupNorm): {device(type='cuda', index=0)}\n",
      "encoder.2 (ModuleList): {device(type='cuda', index=0)}\n",
      "encoder.2.0 (Down): {device(type='cuda', index=0)}\n",
      "encoder.2.0.seq (Sequential): {device(type='cuda', index=0)}\n",
      "encoder.2.0.seq.0 (MaxPool2d): set()\n",
      "encoder.2.0.seq.1 (DoubleConv): {device(type='cuda', index=0)}\n",
      "encoder.2.0.seq.1.seq (Sequential): {device(type='cuda', index=0)}\n",
      "encoder.2.0.seq.1.seq.0 (Conv2d): {device(type='cuda', index=0)}\n",
      "encoder.2.0.seq.1.seq.1 (GroupNorm): {device(type='cuda', index=0)}\n",
      "encoder.2.0.seq.1.seq.3 (Conv2d): {device(type='cuda', index=0)}\n",
      "encoder.2.0.seq.1.seq.4 (GroupNorm): {device(type='cuda', index=0)}\n",
      "encoder.2.0.seq.2 (DoubleConv): {device(type='cuda', index=0)}\n",
      "encoder.2.0.seq.2.seq (Sequential): {device(type='cuda', index=0)}\n",
      "encoder.2.0.seq.2.seq.0 (Conv2d): {device(type='cuda', index=0)}\n",
      "encoder.2.0.seq.2.seq.1 (GroupNorm): {device(type='cuda', index=0)}\n",
      "encoder.2.0.seq.2.seq.3 (Conv2d): {device(type='cuda', index=0)}\n",
      "encoder.2.0.seq.2.seq.4 (GroupNorm): {device(type='cuda', index=0)}\n",
      "encoder.2.0.time_seq (Sequential): {device(type='cuda', index=0)}\n",
      "encoder.2.0.time_seq.0 (SiLU): set()\n",
      "encoder.2.0.time_seq.1 (Linear): {device(type='cuda', index=0)}\n",
      "encoder.2.1 (DoubleConv): {device(type='cuda', index=0)}\n",
      "encoder.2.1.seq (Sequential): {device(type='cuda', index=0)}\n",
      "encoder.2.1.seq.0 (Conv2d): {device(type='cuda', index=0)}\n",
      "encoder.2.1.seq.1 (GroupNorm): {device(type='cuda', index=0)}\n",
      "encoder.2.1.seq.3 (Conv2d): {device(type='cuda', index=0)}\n",
      "encoder.2.1.seq.4 (GroupNorm): {device(type='cuda', index=0)}\n",
      "bottleneck (Sequential): {device(type='cuda', index=0)}\n",
      "bottleneck.0 (DoubleConv): {device(type='cuda', index=0)}\n",
      "bottleneck.0.seq (Sequential): {device(type='cuda', index=0)}\n",
      "bottleneck.0.seq.0 (Conv2d): {device(type='cuda', index=0)}\n",
      "bottleneck.0.seq.1 (GroupNorm): {device(type='cuda', index=0)}\n",
      "bottleneck.0.seq.3 (Conv2d): {device(type='cuda', index=0)}\n",
      "bottleneck.0.seq.4 (GroupNorm): {device(type='cuda', index=0)}\n",
      "bottleneck.1 (DoubleConv): {device(type='cuda', index=0)}\n",
      "bottleneck.1.seq (Sequential): {device(type='cuda', index=0)}\n",
      "bottleneck.1.seq.0 (Conv2d): {device(type='cuda', index=0)}\n",
      "bottleneck.1.seq.1 (GroupNorm): {device(type='cuda', index=0)}\n",
      "bottleneck.1.seq.3 (Conv2d): {device(type='cuda', index=0)}\n",
      "bottleneck.1.seq.4 (GroupNorm): {device(type='cuda', index=0)}\n",
      "bottleneck.2 (DoubleConv): {device(type='cuda', index=0)}\n",
      "bottleneck.2.seq (Sequential): {device(type='cuda', index=0)}\n",
      "bottleneck.2.seq.0 (Conv2d): {device(type='cuda', index=0)}\n",
      "bottleneck.2.seq.1 (GroupNorm): {device(type='cuda', index=0)}\n",
      "bottleneck.2.seq.3 (Conv2d): {device(type='cuda', index=0)}\n",
      "bottleneck.2.seq.4 (GroupNorm): {device(type='cuda', index=0)}\n",
      "decoder (ModuleList): {device(type='cuda', index=0)}\n",
      "decoder.0 (ModuleList): {device(type='cuda', index=0)}\n",
      "decoder.0.0 (Up): {device(type='cuda', index=0)}\n",
      "decoder.0.0.upsample (Upsample): set()\n",
      "decoder.0.0.half_channels (Conv2d): {device(type='cuda', index=0)}\n",
      "decoder.0.0.seq (Sequential): {device(type='cuda', index=0)}\n",
      "decoder.0.0.seq.0 (DoubleConv): {device(type='cuda', index=0)}\n",
      "decoder.0.0.seq.0.seq (Sequential): {device(type='cuda', index=0)}\n",
      "decoder.0.0.seq.0.seq.0 (Conv2d): {device(type='cuda', index=0)}\n",
      "decoder.0.0.seq.0.seq.1 (GroupNorm): {device(type='cuda', index=0)}\n",
      "decoder.0.0.seq.0.seq.3 (Conv2d): {device(type='cuda', index=0)}\n",
      "decoder.0.0.seq.0.seq.4 (GroupNorm): {device(type='cuda', index=0)}\n",
      "decoder.0.0.seq.1 (DoubleConv): {device(type='cuda', index=0)}\n",
      "decoder.0.0.seq.1.seq (Sequential): {device(type='cuda', index=0)}\n",
      "decoder.0.0.seq.1.seq.0 (Conv2d): {device(type='cuda', index=0)}\n",
      "decoder.0.0.seq.1.seq.1 (GroupNorm): {device(type='cuda', index=0)}\n",
      "decoder.0.0.seq.1.seq.3 (Conv2d): {device(type='cuda', index=0)}\n",
      "decoder.0.0.seq.1.seq.4 (GroupNorm): {device(type='cuda', index=0)}\n",
      "decoder.0.0.time_seq (Sequential): {device(type='cuda', index=0)}\n",
      "decoder.0.0.time_seq.0 (SiLU): set()\n",
      "decoder.0.0.time_seq.1 (Linear): {device(type='cuda', index=0)}\n",
      "decoder.0.1 (DoubleConv): {device(type='cuda', index=0)}\n",
      "decoder.0.1.seq (Sequential): {device(type='cuda', index=0)}\n",
      "decoder.0.1.seq.0 (Conv2d): {device(type='cuda', index=0)}\n",
      "decoder.0.1.seq.1 (GroupNorm): {device(type='cuda', index=0)}\n",
      "decoder.0.1.seq.3 (Conv2d): {device(type='cuda', index=0)}\n",
      "decoder.0.1.seq.4 (GroupNorm): {device(type='cuda', index=0)}\n",
      "decoder.1 (ModuleList): {device(type='cuda', index=0)}\n",
      "decoder.1.0 (Up): {device(type='cuda', index=0)}\n",
      "decoder.1.0.upsample (Upsample): set()\n",
      "decoder.1.0.half_channels (Conv2d): {device(type='cuda', index=0)}\n",
      "decoder.1.0.seq (Sequential): {device(type='cuda', index=0)}\n",
      "decoder.1.0.seq.0 (DoubleConv): {device(type='cuda', index=0)}\n",
      "decoder.1.0.seq.0.seq (Sequential): {device(type='cuda', index=0)}\n",
      "decoder.1.0.seq.0.seq.0 (Conv2d): {device(type='cuda', index=0)}\n",
      "decoder.1.0.seq.0.seq.1 (GroupNorm): {device(type='cuda', index=0)}\n",
      "decoder.1.0.seq.0.seq.3 (Conv2d): {device(type='cuda', index=0)}\n",
      "decoder.1.0.seq.0.seq.4 (GroupNorm): {device(type='cuda', index=0)}\n",
      "decoder.1.0.seq.1 (DoubleConv): {device(type='cuda', index=0)}\n",
      "decoder.1.0.seq.1.seq (Sequential): {device(type='cuda', index=0)}\n",
      "decoder.1.0.seq.1.seq.0 (Conv2d): {device(type='cuda', index=0)}\n",
      "decoder.1.0.seq.1.seq.1 (GroupNorm): {device(type='cuda', index=0)}\n",
      "decoder.1.0.seq.1.seq.3 (Conv2d): {device(type='cuda', index=0)}\n",
      "decoder.1.0.seq.1.seq.4 (GroupNorm): {device(type='cuda', index=0)}\n",
      "decoder.1.0.time_seq (Sequential): {device(type='cuda', index=0)}\n",
      "decoder.1.0.time_seq.0 (SiLU): set()\n",
      "decoder.1.0.time_seq.1 (Linear): {device(type='cuda', index=0)}\n",
      "decoder.1.1 (DoubleConv): {device(type='cuda', index=0)}\n",
      "decoder.1.1.seq (Sequential): {device(type='cuda', index=0)}\n",
      "decoder.1.1.seq.0 (Conv2d): {device(type='cuda', index=0)}\n",
      "decoder.1.1.seq.1 (GroupNorm): {device(type='cuda', index=0)}\n",
      "decoder.1.1.seq.3 (Conv2d): {device(type='cuda', index=0)}\n",
      "decoder.1.1.seq.4 (GroupNorm): {device(type='cuda', index=0)}\n",
      "decoder.2 (ModuleList): {device(type='cuda', index=0)}\n",
      "decoder.2.0 (Up): {device(type='cuda', index=0)}\n",
      "decoder.2.0.upsample (Upsample): set()\n",
      "decoder.2.0.half_channels (Conv2d): {device(type='cuda', index=0)}\n",
      "decoder.2.0.seq (Sequential): {device(type='cuda', index=0)}\n",
      "decoder.2.0.seq.0 (DoubleConv): {device(type='cuda', index=0)}\n",
      "decoder.2.0.seq.0.seq (Sequential): {device(type='cuda', index=0)}\n",
      "decoder.2.0.seq.0.seq.0 (Conv2d): {device(type='cuda', index=0)}\n",
      "decoder.2.0.seq.0.seq.1 (GroupNorm): {device(type='cuda', index=0)}\n",
      "decoder.2.0.seq.0.seq.3 (Conv2d): {device(type='cuda', index=0)}\n",
      "decoder.2.0.seq.0.seq.4 (GroupNorm): {device(type='cuda', index=0)}\n",
      "decoder.2.0.seq.1 (DoubleConv): {device(type='cuda', index=0)}\n",
      "decoder.2.0.seq.1.seq (Sequential): {device(type='cuda', index=0)}\n",
      "decoder.2.0.seq.1.seq.0 (Conv2d): {device(type='cuda', index=0)}\n",
      "decoder.2.0.seq.1.seq.1 (GroupNorm): {device(type='cuda', index=0)}\n",
      "decoder.2.0.seq.1.seq.3 (Conv2d): {device(type='cuda', index=0)}\n",
      "decoder.2.0.seq.1.seq.4 (GroupNorm): {device(type='cuda', index=0)}\n",
      "decoder.2.0.time_seq (Sequential): {device(type='cuda', index=0)}\n",
      "decoder.2.0.time_seq.0 (SiLU): set()\n",
      "decoder.2.0.time_seq.1 (Linear): {device(type='cuda', index=0)}\n",
      "decoder.2.1 (DoubleConv): {device(type='cuda', index=0)}\n",
      "decoder.2.1.seq (Sequential): {device(type='cuda', index=0)}\n",
      "decoder.2.1.seq.0 (Conv2d): {device(type='cuda', index=0)}\n",
      "decoder.2.1.seq.1 (GroupNorm): {device(type='cuda', index=0)}\n",
      "decoder.2.1.seq.3 (Conv2d): {device(type='cuda', index=0)}\n",
      "decoder.2.1.seq.4 (GroupNorm): {device(type='cuda', index=0)}\n",
      "out_lay (Conv2d): {device(type='cuda', index=0)}\n"
     ]
    }
   ],
   "source": [
    "for name, module in u_net.named_modules():\n",
    "    if module.__class__.__module__ != 'torch.nn.modules':  # Ignore standard PyTorch modules\n",
    "        devices = {p.device for p in module.parameters()} | {b.device for b in module.buffers()}\n",
    "        print(f\"{name} ({module.__class__.__name__}): {devices}\")\n",
    "\n",
    "\n",
    "#summary(u_net, [(1, file.shape[-2], file.shape[-1]), (1,)], batch_size=2)"
   ]
  },
  {
   "cell_type": "markdown",
   "metadata": {},
   "source": [
    "Diffusion"
   ]
  },
  {
   "cell_type": "code",
   "execution_count": null,
   "metadata": {},
   "outputs": [],
   "source": [
    "diffusion = Diffusion(model=u_net, noise_steps=diffusion_timesteps, noise_schedule=\"linear\", input_dim=[8, 1, file.shape[-2], file.shape[-1]], device=device)\n",
    "\n",
    "#diffusion.visualize_diffusion_steps(x=torch.Tensor(file[:1]), noise_schedule=noise_schedule, device=device, n_spectograms=5)"
   ]
  },
  {
   "cell_type": "markdown",
   "metadata": {},
   "source": [
    "### Train"
   ]
  },
  {
   "cell_type": "code",
   "execution_count": null,
   "metadata": {},
   "outputs": [
    {
     "name": "stderr",
     "output_type": "stream",
     "text": [
      "2025-03-07 09:08:23,303 - INFO - Training started on cuda\n",
      "2025-03-07 09:18:45,050 - INFO - Epoch 01: Avg. Loss: 1.09582e-01 Remaining Time: 17h 05min 52s LR: 9.99993e-05\n",
      "2025-03-07 09:29:04,600 - INFO - Epoch 02: Avg. Loss: 9.44737e-02 Remaining Time: 16h 53min 42s LR: 9.99973e-05\n",
      "2025-03-07 09:39:25,461 - INFO - Epoch 03: Avg. Loss: 9.40548e-02 Remaining Time: 16h 43min 28s LR: 9.99939e-05\n",
      "2025-03-07 09:49:46,412 - INFO - Epoch 04: Avg. Loss: 9.36952e-02 Remaining Time: 16h 33min 13s LR: 9.99891e-05\n",
      "2025-03-07 10:00:02,536 - INFO - Epoch 05: Avg. Loss: 9.08883e-02 Remaining Time: 16h 21min 24s LR: 9.99830e-05\n",
      "2025-03-07 10:10:21,395 - INFO - Epoch 06: Avg. Loss: 9.02535e-02 Remaining Time: 16h 10min 48s LR: 9.99756e-05\n",
      "2025-03-07 10:20:39,608 - INFO - Epoch 07: Avg. Loss: 8.88492e-02 Remaining Time: 16h 00min 09s LR: 9.99668e-05\n",
      "2025-03-07 10:30:59,135 - INFO - Epoch 08: Avg. Loss: 8.65391e-02 Remaining Time: 15h 49min 50s LR: 9.99566e-05\n"
     ]
    }
   ],
   "source": [
    "x = diffusion.train(epochs=epochs, data_loader=data_loader,loss_function=nn.MSELoss(),optimizer=optimizer, lr_scheduler=scheduler, gradient_accum=2, checkpoint_freq=checkpoint_freq, model_path=model_path)\n",
    "scatter_plot(x)"
   ]
  }
 ],
 "metadata": {
  "kernelspec": {
   "display_name": "Python 3 (ipykernel)",
   "language": "python",
   "name": "python3"
  },
  "language_info": {
   "codemirror_mode": {
    "name": "ipython",
    "version": 3
   },
   "file_extension": ".py",
   "mimetype": "text/x-python",
   "name": "python",
   "nbconvert_exporter": "python",
   "pygments_lexer": "ipython3",
   "version": "3.11.7"
  }
 },
 "nbformat": 4,
 "nbformat_minor": 2
}
