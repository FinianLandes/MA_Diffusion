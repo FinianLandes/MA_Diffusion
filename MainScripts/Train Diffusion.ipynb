{
 "cells": [
  {
   "cell_type": "markdown",
   "metadata": {},
   "source": [
    "# Train Diffusion Model\n",
    "### Imports"
   ]
  },
  {
   "cell_type": "code",
   "execution_count": 1,
   "metadata": {},
   "outputs": [
    {
     "name": "stdout",
     "output_type": "stream",
     "text": [
      "Collecting librosa\n",
      "  Downloading librosa-0.10.2.post1-py3-none-any.whl.metadata (8.6 kB)\n",
      "Collecting audioread>=2.1.9 (from librosa)\n",
      "  Downloading audioread-3.0.1-py3-none-any.whl.metadata (8.4 kB)\n",
      "Requirement already satisfied: numpy!=1.22.0,!=1.22.1,!=1.22.2,>=1.20.3 in /usr/local/lib/python3.11/dist-packages (from librosa) (1.26.3)\n",
      "Requirement already satisfied: scipy>=1.2.0 in /usr/local/lib/python3.11/dist-packages (from librosa) (1.11.2)\n",
      "Requirement already satisfied: scikit-learn>=0.20.0 in /usr/local/lib/python3.11/dist-packages (from librosa) (1.3.0)\n",
      "Requirement already satisfied: joblib>=0.14 in /usr/local/lib/python3.11/dist-packages (from librosa) (1.3.2)\n",
      "Requirement already satisfied: decorator>=4.3.0 in /usr/local/lib/python3.11/dist-packages (from librosa) (5.1.1)\n",
      "Collecting numba>=0.51.0 (from librosa)\n",
      "  Downloading numba-0.61.0-cp311-cp311-manylinux2014_x86_64.manylinux_2_17_x86_64.whl.metadata (2.8 kB)\n",
      "Collecting soundfile>=0.12.1 (from librosa)\n",
      "  Downloading soundfile-0.13.1-py2.py3-none-manylinux_2_28_x86_64.whl.metadata (16 kB)\n",
      "Collecting pooch>=1.1 (from librosa)\n",
      "  Downloading pooch-1.8.2-py3-none-any.whl.metadata (10 kB)\n",
      "Collecting soxr>=0.3.2 (from librosa)\n",
      "  Downloading soxr-0.5.0.post1-cp311-cp311-manylinux_2_17_x86_64.manylinux2014_x86_64.whl.metadata (5.6 kB)\n",
      "Requirement already satisfied: typing-extensions>=4.1.1 in /usr/local/lib/python3.11/dist-packages (from librosa) (4.9.0)\n",
      "Requirement already satisfied: lazy-loader>=0.1 in /usr/local/lib/python3.11/dist-packages (from librosa) (0.3)\n",
      "Collecting msgpack>=1.0 (from librosa)\n",
      "  Downloading msgpack-1.1.0-cp311-cp311-manylinux_2_17_x86_64.manylinux2014_x86_64.whl.metadata (8.4 kB)\n",
      "Collecting llvmlite<0.45,>=0.44.0dev0 (from numba>=0.51.0->librosa)\n",
      "  Downloading llvmlite-0.44.0-cp311-cp311-manylinux_2_17_x86_64.manylinux2014_x86_64.whl.metadata (4.8 kB)\n",
      "Requirement already satisfied: platformdirs>=2.5.0 in /usr/local/lib/python3.11/dist-packages (from pooch>=1.1->librosa) (4.1.0)\n",
      "Requirement already satisfied: packaging>=20.0 in /usr/local/lib/python3.11/dist-packages (from pooch>=1.1->librosa) (23.2)\n",
      "Requirement already satisfied: requests>=2.19.0 in /usr/local/lib/python3.11/dist-packages (from pooch>=1.1->librosa) (2.31.0)\n",
      "Requirement already satisfied: threadpoolctl>=2.0.0 in /usr/local/lib/python3.11/dist-packages (from scikit-learn>=0.20.0->librosa) (3.2.0)\n",
      "Requirement already satisfied: cffi>=1.0 in /usr/local/lib/python3.11/dist-packages (from soundfile>=0.12.1->librosa) (1.16.0)\n",
      "Requirement already satisfied: pycparser in /usr/local/lib/python3.11/dist-packages (from cffi>=1.0->soundfile>=0.12.1->librosa) (2.21)\n",
      "Requirement already satisfied: charset-normalizer<4,>=2 in /usr/local/lib/python3.11/dist-packages (from requests>=2.19.0->pooch>=1.1->librosa) (3.3.2)\n",
      "Requirement already satisfied: idna<4,>=2.5 in /usr/lib/python3/dist-packages (from requests>=2.19.0->pooch>=1.1->librosa) (3.3)\n",
      "Requirement already satisfied: urllib3<3,>=1.21.1 in /usr/local/lib/python3.11/dist-packages (from requests>=2.19.0->pooch>=1.1->librosa) (2.0.7)\n",
      "Requirement already satisfied: certifi>=2017.4.17 in /usr/lib/python3/dist-packages (from requests>=2.19.0->pooch>=1.1->librosa) (2020.6.20)\n",
      "Downloading librosa-0.10.2.post1-py3-none-any.whl (260 kB)\n",
      "\u001b[2K   \u001b[90m━━━━━━━━━━━━━━━━━━━━━━━━━━━━━━━━━━━━━━━━\u001b[0m \u001b[32m260.1/260.1 kB\u001b[0m \u001b[31m13.1 MB/s\u001b[0m eta \u001b[36m0:00:00\u001b[0m\n",
      "\u001b[?25hDownloading audioread-3.0.1-py3-none-any.whl (23 kB)\n",
      "Downloading msgpack-1.1.0-cp311-cp311-manylinux_2_17_x86_64.manylinux2014_x86_64.whl (403 kB)\n",
      "\u001b[2K   \u001b[90m━━━━━━━━━━━━━━━━━━━━━━━━━━━━━━━━━━━━━━━━\u001b[0m \u001b[32m403.7/403.7 kB\u001b[0m \u001b[31m44.4 MB/s\u001b[0m eta \u001b[36m0:00:00\u001b[0m\n",
      "\u001b[?25hDownloading numba-0.61.0-cp311-cp311-manylinux2014_x86_64.manylinux_2_17_x86_64.whl (3.8 MB)\n",
      "\u001b[2K   \u001b[90m━━━━━━━━━━━━━━━━━━━━━━━━━━━━━━━━━━━━━━━━\u001b[0m \u001b[32m3.8/3.8 MB\u001b[0m \u001b[31m79.2 MB/s\u001b[0m eta \u001b[36m0:00:00\u001b[0m:00:01\u001b[0m\n",
      "\u001b[?25hDownloading pooch-1.8.2-py3-none-any.whl (64 kB)\n",
      "\u001b[2K   \u001b[90m━━━━━━━━━━━━━━━━━━━━━━━━━━━━━━━━━━━━━━━━\u001b[0m \u001b[32m64.6/64.6 kB\u001b[0m \u001b[31m9.5 MB/s\u001b[0m eta \u001b[36m0:00:00\u001b[0m\n",
      "\u001b[?25hDownloading soundfile-0.13.1-py2.py3-none-manylinux_2_28_x86_64.whl (1.3 MB)\n",
      "\u001b[2K   \u001b[90m━━━━━━━━━━━━━━━━━━━━━━━━━━━━━━━━━━━━━━━━\u001b[0m \u001b[32m1.3/1.3 MB\u001b[0m \u001b[31m71.5 MB/s\u001b[0m eta \u001b[36m0:00:00\u001b[0m\n",
      "\u001b[?25hDownloading soxr-0.5.0.post1-cp311-cp311-manylinux_2_17_x86_64.manylinux2014_x86_64.whl (252 kB)\n",
      "\u001b[2K   \u001b[90m━━━━━━━━━━━━━━━━━━━━━━━━━━━━━━━━━━━━━━━━\u001b[0m \u001b[32m252.5/252.5 kB\u001b[0m \u001b[31m35.5 MB/s\u001b[0m eta \u001b[36m0:00:00\u001b[0m\n",
      "\u001b[?25hDownloading llvmlite-0.44.0-cp311-cp311-manylinux_2_17_x86_64.manylinux2014_x86_64.whl (42.4 MB)\n",
      "\u001b[2K   \u001b[90m━━━━━━━━━━━━━━━━━━━━━━━━━━━━━━━━━━━━━━━━\u001b[0m \u001b[32m42.4/42.4 MB\u001b[0m \u001b[31m46.5 MB/s\u001b[0m eta \u001b[36m0:00:00\u001b[0m:00:01\u001b[0m00:01\u001b[0m\n",
      "\u001b[?25hInstalling collected packages: soxr, msgpack, llvmlite, audioread, soundfile, pooch, numba, librosa\n",
      "Successfully installed audioread-3.0.1 librosa-0.10.2.post1 llvmlite-0.44.0 msgpack-1.1.0 numba-0.61.0 pooch-1.8.2 soundfile-0.13.1 soxr-0.5.0.post1\n",
      "\u001b[33mWARNING: Running pip as the 'root' user can result in broken permissions and conflicting behaviour with the system package manager. It is recommended to use a virtual environment instead: https://pip.pypa.io/warnings/venv\u001b[0m\u001b[33m\n",
      "\u001b[0m"
     ]
    }
   ],
   "source": [
    "#!pip install librosa\n",
    "\n",
    "#Set Dir \n",
    "import sys, os\n",
    "sys.path.append(os.path.abspath('..'))\n",
    "\n",
    "# Torch\n",
    "import torch\n",
    "from torch import nn, Tensor\n",
    "from torch.utils.data import DataLoader\n",
    "import torch.optim as optim\n",
    "#from torchsummary import summary\n",
    "# Utils\n",
    "import numpy as np\n",
    "from numpy import ndarray\n",
    "import logging\n",
    "\n",
    "# Base Scripts\n",
    "from Libraries.U_Net import *\n",
    "from Libraries.Diffusion import *\n",
    "from Libraries.Utils import *\n",
    "from MainScripts.Conf import *"
   ]
  },
  {
   "cell_type": "markdown",
   "metadata": {},
   "source": [
    "### Config\n",
    "General"
   ]
  },
  {
   "cell_type": "code",
   "execution_count": 2,
   "metadata": {},
   "outputs": [],
   "source": [
    "remote_kernel: bool = True\n",
    "\n",
    "logging_level: int = logging.INFO\n",
    "model_name: str = \"diffusion_v4\"\n",
    "model_path: str = path_to_remote_path(f\"{MODEL_PATH}/{model_name}.pth\", remote_kernel)\n",
    "checkpoint_freq: int = 10 #0 for no checkpoint saving\n",
    "training_data_name: str = \"training_full_low_res\"\n",
    "\n",
    "device = \"cuda\" if torch.cuda.is_available() else \"cpu\"\n",
    "\n",
    "batch_size: int = 16\n",
    "epochs: int = 100\n",
    "diffusion_timesteps: int = 500\n",
    "n_training_samples: int = 2000\n",
    "\n",
    "logging.basicConfig(level=logging_level, format='%(asctime)s - %(levelname)s - %(message)s')\n",
    "logger: logging.Logger = logging.getLogger(__name__)"
   ]
  },
  {
   "cell_type": "markdown",
   "metadata": {},
   "source": [
    "U-Net"
   ]
  },
  {
   "cell_type": "code",
   "execution_count": 3,
   "metadata": {},
   "outputs": [],
   "source": [
    "learning_rate: float = 1e-4\n",
    "n_starting_filters: int = 32\n",
    "n_downsamples: int = 3\n",
    "time_embed_dim: int = 128\n"
   ]
  },
  {
   "cell_type": "markdown",
   "metadata": {},
   "source": [
    "### Data Loading"
   ]
  },
  {
   "cell_type": "code",
   "execution_count": 5,
   "metadata": {},
   "outputs": [
    {
     "ename": "ValueError",
     "evalue": "cannot reshape array of size 633602016 into shape (7087,224,416)",
     "output_type": "error",
     "traceback": [
      "\u001b[0;31m---------------------------------------------------------------------------\u001b[0m",
      "\u001b[0;31mValueError\u001b[0m                                Traceback (most recent call last)",
      "Cell \u001b[0;32mIn[5], line 1\u001b[0m\n\u001b[0;32m----> 1\u001b[0m file: ndarray \u001b[38;5;241m=\u001b[39m \u001b[43mload_training_data\u001b[49m\u001b[43m(\u001b[49m\u001b[43mpath_to_remote_path\u001b[49m\u001b[43m(\u001b[49m\u001b[38;5;124;43mf\u001b[39;49m\u001b[38;5;124;43m\"\u001b[39;49m\u001b[38;5;132;43;01m{\u001b[39;49;00m\u001b[43mDATA_PATH\u001b[49m\u001b[38;5;132;43;01m}\u001b[39;49;00m\u001b[38;5;124;43m/\u001b[39;49m\u001b[38;5;132;43;01m{\u001b[39;49;00m\u001b[43mtraining_data_name\u001b[49m\u001b[38;5;132;43;01m}\u001b[39;49;00m\u001b[38;5;124;43m.npy\u001b[39;49m\u001b[38;5;124;43m\"\u001b[39;49m\u001b[43m,\u001b[49m\u001b[43m \u001b[49m\u001b[43mremote_kernel\u001b[49m\u001b[43m)\u001b[49m\u001b[43m)\u001b[49m\u001b[38;5;66;03m#[:n_training_samples, ...]\u001b[39;00m\n\u001b[1;32m      2\u001b[0m file\u001b[38;5;241m.\u001b[39mshape\n",
      "File \u001b[0;32m/notebooks/Libraries/Utils.py:47\u001b[0m, in \u001b[0;36mload_training_data\u001b[0;34m(path)\u001b[0m\n\u001b[1;32m     46\u001b[0m \u001b[38;5;28;01mdef\u001b[39;00m \u001b[38;5;21mload_training_data\u001b[39m(path: \u001b[38;5;28mstr\u001b[39m) \u001b[38;5;241m-\u001b[39m\u001b[38;5;241m>\u001b[39m ndarray:\n\u001b[0;32m---> 47\u001b[0m     data: ndarray\u001b[38;5;241m=\u001b[39m \u001b[43mnp\u001b[49m\u001b[38;5;241;43m.\u001b[39;49m\u001b[43mload\u001b[49m\u001b[43m(\u001b[49m\u001b[43mpath\u001b[49m\u001b[43m)\u001b[49m\n\u001b[1;32m     48\u001b[0m     logger\u001b[38;5;241m.\u001b[39mlight_debug(\u001b[38;5;124mf\u001b[39m\u001b[38;5;124m\"\u001b[39m\u001b[38;5;124mNdarray loaded from \u001b[39m\u001b[38;5;132;01m{\u001b[39;00mpath\u001b[38;5;132;01m}\u001b[39;00m\u001b[38;5;124m of shape: \u001b[39m\u001b[38;5;132;01m{\u001b[39;00mdata\u001b[38;5;241m.\u001b[39mshape\u001b[38;5;132;01m}\u001b[39;00m\u001b[38;5;124m\"\u001b[39m)\n\u001b[1;32m     49\u001b[0m     \u001b[38;5;28;01mreturn\u001b[39;00m data\n",
      "File \u001b[0;32m/usr/local/lib/python3.11/dist-packages/numpy/lib/npyio.py:456\u001b[0m, in \u001b[0;36mload\u001b[0;34m(file, mmap_mode, allow_pickle, fix_imports, encoding, max_header_size)\u001b[0m\n\u001b[1;32m    453\u001b[0m         \u001b[38;5;28;01mreturn\u001b[39;00m \u001b[38;5;28mformat\u001b[39m\u001b[38;5;241m.\u001b[39mopen_memmap(file, mode\u001b[38;5;241m=\u001b[39mmmap_mode,\n\u001b[1;32m    454\u001b[0m                                   max_header_size\u001b[38;5;241m=\u001b[39mmax_header_size)\n\u001b[1;32m    455\u001b[0m     \u001b[38;5;28;01melse\u001b[39;00m:\n\u001b[0;32m--> 456\u001b[0m         \u001b[38;5;28;01mreturn\u001b[39;00m \u001b[38;5;28;43mformat\u001b[39;49m\u001b[38;5;241;43m.\u001b[39;49m\u001b[43mread_array\u001b[49m\u001b[43m(\u001b[49m\u001b[43mfid\u001b[49m\u001b[43m,\u001b[49m\u001b[43m \u001b[49m\u001b[43mallow_pickle\u001b[49m\u001b[38;5;241;43m=\u001b[39;49m\u001b[43mallow_pickle\u001b[49m\u001b[43m,\u001b[49m\n\u001b[1;32m    457\u001b[0m \u001b[43m                                 \u001b[49m\u001b[43mpickle_kwargs\u001b[49m\u001b[38;5;241;43m=\u001b[39;49m\u001b[43mpickle_kwargs\u001b[49m\u001b[43m,\u001b[49m\n\u001b[1;32m    458\u001b[0m \u001b[43m                                 \u001b[49m\u001b[43mmax_header_size\u001b[49m\u001b[38;5;241;43m=\u001b[39;49m\u001b[43mmax_header_size\u001b[49m\u001b[43m)\u001b[49m\n\u001b[1;32m    459\u001b[0m \u001b[38;5;28;01melse\u001b[39;00m:\n\u001b[1;32m    460\u001b[0m     \u001b[38;5;66;03m# Try a pickle\u001b[39;00m\n\u001b[1;32m    461\u001b[0m     \u001b[38;5;28;01mif\u001b[39;00m \u001b[38;5;129;01mnot\u001b[39;00m allow_pickle:\n",
      "File \u001b[0;32m/usr/local/lib/python3.11/dist-packages/numpy/lib/format.py:839\u001b[0m, in \u001b[0;36mread_array\u001b[0;34m(fp, allow_pickle, pickle_kwargs, max_header_size)\u001b[0m\n\u001b[1;32m    837\u001b[0m         array \u001b[38;5;241m=\u001b[39m array\u001b[38;5;241m.\u001b[39mtranspose()\n\u001b[1;32m    838\u001b[0m     \u001b[38;5;28;01melse\u001b[39;00m:\n\u001b[0;32m--> 839\u001b[0m         \u001b[43marray\u001b[49m\u001b[38;5;241;43m.\u001b[39;49m\u001b[43mshape\u001b[49m \u001b[38;5;241m=\u001b[39m shape\n\u001b[1;32m    841\u001b[0m \u001b[38;5;28;01mreturn\u001b[39;00m array\n",
      "\u001b[0;31mValueError\u001b[0m: cannot reshape array of size 633602016 into shape (7087,224,416)"
     ]
    }
   ],
   "source": [
    "file: ndarray = load_training_data(path_to_remote_path(f\"{DATA_PATH}/{training_data_name}.npy\", remote_kernel))#[:n_training_samples, ...]\n",
    "file.shape"
   ]
  },
  {
   "cell_type": "code",
   "execution_count": null,
   "metadata": {},
   "outputs": [
    {
     "name": "stderr",
     "output_type": "stream",
     "text": [
      "2025-03-07 09:08:10,935 - INFO - Data loaded with shape: (7087, 224, 416)\n"
     ]
    }
   ],
   "source": [
    "data_loader = create_dataloader(Audio_Data(file), batch_size)\n",
    "logger.info(f\"Data loaded with shape: {file.shape}\")"
   ]
  },
  {
   "cell_type": "markdown",
   "metadata": {},
   "source": [
    "### Model Creation\n",
    "U-Net"
   ]
  },
  {
   "cell_type": "code",
   "execution_count": null,
   "metadata": {},
   "outputs": [],
   "source": [
    "u_net = Conv_U_NET(in_channels=1, time_embed_dim=time_embed_dim, n_starting_filters=n_starting_filters, n_downsamples=n_downsamples, activation=nn.GELU(), device=device)\n",
    "optimizer = optim.AdamW(u_net.parameters(), lr=learning_rate)\n",
    "scheduler = optim.lr_scheduler.CosineAnnealingLR(optimizer, T_max=200, eta_min=1e-6)\n",
    "if os.path.exists(model_path):\n",
    "    model = torch.load(model_path)\n",
    "    u_net.load_state_dict(model[\"model\"], map_location=device)\n",
    "    optimizer.load_state_dict(model[\"optimizer\"])\n",
    "    scheduler.load_state_dict(model[\"scheduler\"])\n",
    "    start_epoch: int = model.get(\"epoch\", 0)\n",
    "    logger.info(f\"Model {model_name} loaded with {count_parameters(u_net)} Parameters\")\n",
    "else: \n",
    "    start_epoch: int = 0\n",
    "    logger.info(f\"Model {model_name} created with {count_parameters(u_net)} Parameters\")\n",
    "u_net = u_net.to(device)"
   ]
  },
  {
   "cell_type": "markdown",
   "metadata": {},
   "source": [
    "Diffusion"
   ]
  },
  {
   "cell_type": "code",
   "execution_count": null,
   "metadata": {},
   "outputs": [],
   "source": [
    "diffusion = Diffusion(model=u_net, noise_steps=diffusion_timesteps, noise_schedule=\"linear\", input_dim=[8, 1, file.shape[-2], file.shape[-1]], device=device)\n",
    "\n",
    "#diffusion.visualize_diffusion_steps(x=torch.Tensor(file[:1]), noise_schedule=noise_schedule, device=device, n_spectograms=5)"
   ]
  },
  {
   "cell_type": "markdown",
   "metadata": {},
   "source": [
    "### Train"
   ]
  },
  {
   "cell_type": "code",
   "execution_count": null,
   "metadata": {},
   "outputs": [
    {
     "name": "stderr",
     "output_type": "stream",
     "text": [
      "2025-03-07 09:08:23,303 - INFO - Training started on cuda\n",
      "2025-03-07 09:18:45,050 - INFO - Epoch 01: Avg. Loss: 1.09582e-01 Remaining Time: 17h 05min 52s LR: 9.99993e-05\n",
      "2025-03-07 09:29:04,600 - INFO - Epoch 02: Avg. Loss: 9.44737e-02 Remaining Time: 16h 53min 42s LR: 9.99973e-05\n",
      "2025-03-07 09:39:25,461 - INFO - Epoch 03: Avg. Loss: 9.40548e-02 Remaining Time: 16h 43min 28s LR: 9.99939e-05\n",
      "2025-03-07 09:49:46,412 - INFO - Epoch 04: Avg. Loss: 9.36952e-02 Remaining Time: 16h 33min 13s LR: 9.99891e-05\n",
      "2025-03-07 10:00:02,536 - INFO - Epoch 05: Avg. Loss: 9.08883e-02 Remaining Time: 16h 21min 24s LR: 9.99830e-05\n",
      "2025-03-07 10:10:21,395 - INFO - Epoch 06: Avg. Loss: 9.02535e-02 Remaining Time: 16h 10min 48s LR: 9.99756e-05\n",
      "2025-03-07 10:20:39,608 - INFO - Epoch 07: Avg. Loss: 8.88492e-02 Remaining Time: 16h 00min 09s LR: 9.99668e-05\n",
      "2025-03-07 10:30:59,135 - INFO - Epoch 08: Avg. Loss: 8.65391e-02 Remaining Time: 15h 49min 50s LR: 9.99566e-05\n",
      "2025-03-07 10:41:22,499 - INFO - Epoch 09: Avg. Loss: 8.93824e-02 Remaining Time: 15h 40min 10s LR: 9.99450e-05\n",
      "2025-03-07 10:51:42,589 - INFO - Epoch 10: Avg. Loss: 8.75457e-02 Remaining Time: 15h 29min 52s LR: 9.99322e-05\n",
      "2025-03-07 11:02:04,504 - INFO - Epoch 11: Avg. Loss: 8.69017e-02 Remaining Time: 15h 19min 47s LR: 9.99179e-05\n",
      "2025-03-07 11:14:08,887 - INFO - Epoch 12: Avg. Loss: 8.93658e-02 Remaining Time: 15h 22min 11s LR: 9.99023e-05\n",
      "2025-03-07 11:24:26,480 - INFO - Epoch 13: Avg. Loss: 8.70888e-02 Remaining Time: 15h 10min 28s LR: 9.98854e-05\n",
      "2025-03-07 11:34:45,061 - INFO - Epoch 14: Avg. Loss: 8.67266e-02 Remaining Time: 14h 59min 03s LR: 9.98671e-05\n",
      "2025-03-07 11:45:06,564 - INFO - Epoch 15: Avg. Loss: 8.33555e-02 Remaining Time: 14h 48min 03s LR: 9.98474e-05\n",
      "2025-03-07 11:55:32,210 - INFO - Epoch 16: Avg. Loss: 1.26466e-01 Remaining Time: 14h 37min 29s LR: 9.98264e-05\n",
      "2025-03-07 12:05:54,694 - INFO - Epoch 17: Avg. Loss: 2.68885e-01 Remaining Time: 14h 26min 42s LR: 9.98040e-05\n",
      "2025-03-07 12:16:22,271 - INFO - Epoch 18: Avg. Loss: 1.01844e-01 Remaining Time: 14h 16min 20s LR: 9.97803e-05\n",
      "2025-03-07 12:26:43,821 - INFO - Epoch 19: Avg. Loss: 9.48250e-02 Remaining Time: 14h 05min 32s LR: 9.97553e-05\n",
      "2025-03-07 12:37:03,425 - INFO - Epoch 20: Avg. Loss: 8.93303e-02 Remaining Time: 13h 54min 38s LR: 9.97288e-05\n",
      "2025-03-07 12:47:25,839 - INFO - Epoch 21: Avg. Loss: 9.13104e-02 Remaining Time: 13h 43min 58s LR: 9.97011e-05\n",
      "2025-03-07 12:57:47,737 - INFO - Epoch 22: Avg. Loss: 8.95351e-02 Remaining Time: 13h 33min 19s LR: 9.96720e-05\n",
      "2025-03-07 13:08:06,349 - INFO - Epoch 23: Avg. Loss: 8.61889e-02 Remaining Time: 13h 22min 29s LR: 9.96415e-05\n",
      "2025-03-07 13:18:26,422 - INFO - Epoch 24: Avg. Loss: 8.40357e-02 Remaining Time: 13h 11min 47s LR: 9.96097e-05\n",
      "2025-03-07 13:28:52,155 - INFO - Epoch 25: Avg. Loss: 8.52807e-02 Remaining Time: 13h 01min 24s LR: 9.95765e-05\n",
      "2025-03-07 13:39:12,877 - INFO - Epoch 26: Avg. Loss: 8.93214e-02 Remaining Time: 12h 50min 46s LR: 9.95420e-05\n",
      "2025-03-07 13:49:34,718 - INFO - Epoch 27: Avg. Loss: 8.48160e-02 Remaining Time: 12h 40min 13s LR: 9.95062e-05\n",
      "2025-03-07 13:59:56,145 - INFO - Epoch 28: Avg. Loss: 8.17880e-02 Remaining Time: 12h 29min 39s LR: 9.94690e-05\n",
      "2025-03-07 14:10:17,551 - INFO - Epoch 29: Avg. Loss: 8.29190e-02 Remaining Time: 12h 19min 07s LR: 9.94304e-05\n",
      "2025-03-07 14:20:42,333 - INFO - Epoch 30: Avg. Loss: 8.27921e-02 Remaining Time: 12h 08min 42s LR: 9.93906e-05\n",
      "2025-03-07 14:31:07,928 - INFO - Epoch 31: Avg. Loss: 8.10189e-02 Remaining Time: 11h 58min 19s LR: 9.93494e-05\n"
     ]
    },
    {
     "ename": "",
     "evalue": "",
     "output_type": "error",
     "traceback": [
      "\u001b[1;31mFailed to connect to the remote Jupyter Server 'https://n8vjt1gz3j.clg07azjl.paperspacegradient.com/'. Verify the server is running and reachable."
     ]
    }
   ],
   "source": [
    "x = diffusion.train(epochs=epochs, data_loader=data_loader,loss_function=nn.MSELoss(),optimizer=optimizer, lr_scheduler=scheduler, gradient_accum=2, checkpoint_freq=checkpoint_freq, model_path=model_path, start_epoch=start_epoch)\n",
    "scatter_plot(x)"
   ]
  }
 ],
 "metadata": {
  "kernelspec": {
   "display_name": "Python 3 (ipykernel)",
   "language": "python",
   "name": "python3"
  },
  "language_info": {
   "codemirror_mode": {
    "name": "ipython",
    "version": 3
   },
   "file_extension": ".py",
   "mimetype": "text/x-python",
   "name": "python",
   "nbconvert_exporter": "python",
   "pygments_lexer": "ipython3",
   "version": "3.11.7"
  }
 },
 "nbformat": 4,
 "nbformat_minor": 2
}
