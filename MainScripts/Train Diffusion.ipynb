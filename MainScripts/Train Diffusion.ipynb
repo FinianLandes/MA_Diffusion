{
 "cells": [
  {
   "cell_type": "markdown",
   "metadata": {},
   "source": [
    "# Train Diffusion Model\n",
    "### Imports"
   ]
  },
  {
   "cell_type": "code",
   "execution_count": 1,
   "metadata": {},
   "outputs": [],
   "source": [
    "try: \n",
    "    import librosa\n",
    "except:\n",
    "    !pip install librosa\n",
    "\n",
    "\n",
    "#Set Dir \n",
    "import sys, os\n",
    "sys.path.append(os.path.abspath('..'))\n",
    "\n",
    "# Torch\n",
    "import torch\n",
    "from torch import nn, Tensor\n",
    "from torch.utils.data import DataLoader\n",
    "import torch.optim as optim\n",
    "\n",
    "# Utils\n",
    "import numpy as np\n",
    "from numpy import ndarray\n",
    "import logging\n",
    "\n",
    "# Base Scripts\n",
    "from Libraries.U_Net import *\n",
    "from Libraries.Diffusion import *\n",
    "from Libraries.Utils import *\n",
    "from MainScripts.Conf import conf"
   ]
  },
  {
   "cell_type": "markdown",
   "metadata": {},
   "source": [
    "### Config\n",
    "General"
   ]
  },
  {
   "cell_type": "code",
   "execution_count": 2,
   "metadata": {},
   "outputs": [],
   "source": [
    "remote_kernel: bool = True\n",
    "\n",
    "logging_level: int = logging.INFO\n",
    "model_name: str = \"diffusion_v10\"\n",
    "full_model_path: str = path_to_remote_path(\"{}/{}\".format(conf[\"paths\"].model_path, model_name + \".pth\"), remote_kernel)\n",
    "checkpoint_freq: int = 10 #0 for no checkpoint saving\n",
    "training_data_name: str = \"training_full_low_res\"\n",
    "\n",
    "device = \"cuda\" if torch.cuda.is_available() else \"cpu\"\n",
    "restart_training: bool = True #If True and model already exists optimizer and lr_scheduler are reset\n",
    "learning_rate: float = 5e-4 #Starting lr/first lr for Threshold Scheduler\n",
    "epochs: int = 100\n",
    "n_training_samples: int = 6000\n",
    "\n",
    "logging.basicConfig(level=logging_level, format='%(asctime)s - %(levelname)s - %(message)s')\n",
    "logger: logging.Logger = logging.getLogger(__name__)"
   ]
  },
  {
   "cell_type": "markdown",
   "metadata": {},
   "source": [
    "### Data Loading"
   ]
  },
  {
   "cell_type": "code",
   "execution_count": 3,
   "metadata": {},
   "outputs": [
    {
     "name": "stderr",
     "output_type": "stream",
     "text": [
      "2025-03-19 08:19:56,026 - INFO - Data loaded with shape: (6000, 224, 416)\n"
     ]
    }
   ],
   "source": [
    "file: ndarray = load_training_data(path_to_remote_path(\"{}/{}\".format(conf[\"paths\"].data_path, training_data_name + \".npy\"), remote_kernel))[:n_training_samples, ...]\n",
    "data_loader = create_dataloader(Audio_Data(file), conf[\"model\"].batch_size)\n",
    "logger.info(f\"Data loaded with shape: {file.shape}\")"
   ]
  },
  {
   "cell_type": "markdown",
   "metadata": {},
   "source": [
    "### Model Creation\n",
    "U-Net"
   ]
  },
  {
   "cell_type": "code",
   "execution_count": 4,
   "metadata": {},
   "outputs": [
    {
     "name": "stderr",
     "output_type": "stream",
     "text": [
      "2025-03-19 08:19:57,220 - INFO - Model diffusion_v10 loaded with 17288513 Parameters\n"
     ]
    }
   ],
   "source": [
    "u_net = Conv_U_NET(in_channels=1,\n",
    "                    time_embed_dim=conf[\"model\"].time_embed_dim, \n",
    "                    n_starting_filters=conf[\"model\"].n_starting_filters, \n",
    "                    n_downsamples=conf[\"model\"].n_downsamples, \n",
    "                    activation=nn.SiLU(), \n",
    "                    device=device,\n",
    "                    use_modulation=False\n",
    "                ).to(device)\n",
    "\n",
    "optimizer = optim.AdamW(u_net.parameters(), lr=learning_rate)\n",
    "scheduler = Threshold_LR(optimizer, [1, 0.1, 0.09, 0.85, 0.08, 0.07], [learning_rate, 2e-4, 1e-4, 1e-5, 1e-6, 1e-7])\n",
    "start_epoch: int = 0\n",
    "\n",
    "if os.path.exists(full_model_path):\n",
    "    model = torch.load(full_model_path, map_location=device)\n",
    "    u_net.load_state_dict(model[\"model\"])\n",
    "    if not restart_training:\n",
    "        optimizer.load_state_dict(model[\"optim\"])\n",
    "        scheduler.load_state_dict(model[\"scheduler\"])\n",
    "        start_epoch = model.get(\"epoch\", 0)\n",
    "    logger.info(f\"Model {model_name} loaded with {count_parameters(u_net)} Parameters\")\n",
    "else: \n",
    "    logger.info(f\"Model {model_name} created with {count_parameters(u_net)} Parameters\")"
   ]
  },
  {
   "cell_type": "markdown",
   "metadata": {},
   "source": [
    "Diffusion"
   ]
  },
  {
   "cell_type": "code",
   "execution_count": 5,
   "metadata": {},
   "outputs": [],
   "source": [
    "diffusion = Diffusion(model=u_net, \n",
    "                        noise_steps=conf[\"model\"].diffusion_timesteps, \n",
    "                        noise_schedule=\"linear\", \n",
    "                        input_dim=[conf[\"model\"].batch_size, 1, file.shape[-2], file.shape[-1]],\n",
    "                        device=device\n",
    "                    )\n",
    "\n",
    "#diffusion.visualize_diffusion_steps(x=torch.Tensor(file[:1]), noise_schedule=noise_schedule, device=device, n_spectograms=5)"
   ]
  },
  {
   "cell_type": "markdown",
   "metadata": {},
   "source": [
    "### Train"
   ]
  },
  {
   "cell_type": "code",
   "execution_count": 6,
   "metadata": {},
   "outputs": [
    {
     "name": "stderr",
     "output_type": "stream",
     "text": [
      "2025-03-19 08:19:57,465 - INFO - Training started on cuda\n",
      "2025-03-19 08:23:05,012 - INFO - Epoch 001: Avg. Loss: 3.02234e-01 Remaining Time: 05h 09min 26s LR: 5.00000e-04\n",
      "2025-03-19 08:26:11,148 - INFO - Epoch 002: Avg. Loss: 8.81132e-02 Remaining Time: 05h 05min 10s LR: 1.00000e-05\n",
      "2025-03-19 08:29:18,198 - INFO - Epoch 003: Avg. Loss: 8.34178e-02 Remaining Time: 05h 02min 10s LR: 1.00000e-05\n",
      "2025-03-19 08:32:23,320 - INFO - Epoch 004: Avg. Loss: 8.22466e-02 Remaining Time: 04h 58min 20s LR: 1.00000e-05\n",
      "2025-03-19 08:35:24,190 - INFO - Epoch 005: Avg. Loss: 8.14173e-02 Remaining Time: 04h 53min 27s LR: 1.00000e-05\n",
      "2025-03-19 08:38:22,701 - INFO - Epoch 006: Avg. Loss: 8.37873e-02 Remaining Time: 04h 48min 35s LR: 1.00000e-05\n",
      "2025-03-19 08:41:19,400 - INFO - Epoch 007: Avg. Loss: 7.87256e-02 Remaining Time: 04h 43min 51s LR: 1.00000e-06\n",
      "2025-03-19 08:44:15,114 - INFO - Epoch 008: Avg. Loss: 7.99344e-02 Remaining Time: 04h 39min 22s LR: 1.00000e-06\n",
      "2025-03-19 08:47:17,823 - INFO - Epoch 009: Avg. Loss: 8.00263e-02 Remaining Time: 04h 36min 25s LR: 1.00000e-05\n",
      "2025-03-19 08:50:20,115 - INFO - Epoch 010: Avg. Loss: 7.99596e-02 Remaining Time: 04h 33min 23s LR: 1.00000e-06\n",
      "2025-03-19 08:55:08,063 - INFO - Epoch 011: Avg. Loss: 8.16736e-02 Remaining Time: 04h 44min 35s LR: 1.00000e-05\n",
      "2025-03-19 08:58:36,016 - INFO - Epoch 012: Avg. Loss: 8.12746e-02 Remaining Time: 04h 43min 21s LR: 1.00000e-05\n",
      "2025-03-19 09:01:40,504 - INFO - Epoch 013: Avg. Loss: 8.16151e-02 Remaining Time: 04h 39min 09s LR: 1.00000e-05\n",
      "2025-03-19 09:06:48,812 - INFO - Epoch 014: Avg. Loss: 8.14456e-02 Remaining Time: 04h 47min 48s LR: 1.00000e-05\n",
      "2025-03-19 09:09:58,195 - INFO - Epoch 015: Avg. Loss: 8.07872e-02 Remaining Time: 04h 43min 23s LR: 1.00000e-05\n",
      "2025-03-19 09:12:57,753 - INFO - Epoch 016: Avg. Loss: 8.07662e-02 Remaining Time: 04h 38min 15s LR: 1.00000e-05\n",
      "2025-03-19 09:16:02,119 - INFO - Epoch 017: Avg. Loss: 8.27916e-02 Remaining Time: 04h 33min 46s LR: 1.00000e-05\n",
      "2025-03-19 09:19:02,774 - INFO - Epoch 018: Avg. Loss: 7.87670e-02 Remaining Time: 04h 29min 09s LR: 1.00000e-06\n",
      "2025-03-19 09:22:04,738 - INFO - Epoch 019: Avg. Loss: 7.89025e-02 Remaining Time: 04h 24min 49s LR: 1.00000e-06\n",
      "2025-03-19 09:25:05,700 - INFO - Epoch 020: Avg. Loss: 7.63554e-02 Remaining Time: 04h 20min 32s LR: 1.00000e-06\n",
      "2025-03-19 09:28:06,811 - INFO - Epoch 021: Avg. Loss: 8.05878e-02 Remaining Time: 04h 16min 22s LR: 1.00000e-05\n",
      "2025-03-19 09:31:06,283 - INFO - Epoch 022: Avg. Loss: 8.01490e-02 Remaining Time: 04h 12min 13s LR: 1.00000e-05\n",
      "2025-03-19 09:34:05,491 - INFO - Epoch 023: Avg. Loss: 8.04220e-02 Remaining Time: 04h 08min 09s LR: 1.00000e-05\n",
      "2025-03-19 09:37:06,184 - INFO - Epoch 024: Avg. Loss: 7.97515e-02 Remaining Time: 04h 04min 16s LR: 1.00000e-06\n",
      "2025-03-19 09:40:02,421 - INFO - Epoch 025: Avg. Loss: 8.10646e-02 Remaining Time: 04h 00min 13s LR: 1.00000e-05\n",
      "2025-03-19 09:43:02,060 - INFO - Epoch 026: Avg. Loss: 7.83675e-02 Remaining Time: 03h 56min 25s LR: 1.00000e-06\n",
      "2025-03-19 09:46:11,975 - INFO - Epoch 027: Avg. Loss: 8.10557e-02 Remaining Time: 03h 53min 09s LR: 1.00000e-05\n",
      "2025-03-19 09:49:12,024 - INFO - Epoch 028: Avg. Loss: 7.94318e-02 Remaining Time: 03h 49min 27s LR: 1.00000e-06\n",
      "2025-03-19 09:52:11,258 - INFO - Epoch 029: Avg. Loss: 7.64582e-02 Remaining Time: 03h 45min 47s LR: 1.00000e-06\n",
      "2025-03-19 09:55:10,700 - INFO - Epoch 030: Avg. Loss: 7.75102e-02 Remaining Time: 03h 42min 09s LR: 1.00000e-06\n",
      "2025-03-19 09:58:10,886 - INFO - Epoch 031: Avg. Loss: 7.75660e-02 Remaining Time: 03h 38min 36s LR: 1.00000e-06\n",
      "2025-03-19 10:01:16,584 - INFO - Epoch 032: Avg. Loss: 7.67623e-02 Remaining Time: 03h 35min 16s LR: 1.00000e-06\n",
      "2025-03-19 10:04:16,434 - INFO - Epoch 033: Avg. Loss: 7.66736e-02 Remaining Time: 03h 31min 46s LR: 1.00000e-06\n",
      "2025-03-19 10:07:19,271 - INFO - Epoch 034: Avg. Loss: 7.98254e-02 Remaining Time: 03h 28min 23s LR: 1.00000e-06\n",
      "2025-03-19 10:10:25,671 - INFO - Epoch 035: Avg. Loss: 7.91879e-02 Remaining Time: 03h 25min 08s LR: 1.00000e-06\n",
      "2025-03-19 10:15:57,497 - INFO - Epoch 036: Avg. Loss: 7.42237e-02 Remaining Time: 03h 26min 12s LR: 1.00000e-06\n",
      "2025-03-19 10:21:10,364 - INFO - Epoch 037: Avg. Loss: 7.84335e-02 Remaining Time: 03h 26min 22s LR: 1.00000e-06\n",
      "2025-03-19 10:24:12,164 - INFO - Epoch 038: Avg. Loss: 7.55510e-02 Remaining Time: 03h 22min 41s LR: 1.00000e-06\n",
      "2025-03-19 10:27:14,572 - INFO - Epoch 039: Avg. Loss: 7.53694e-02 Remaining Time: 03h 19min 04s LR: 1.00000e-06\n",
      "2025-03-19 10:30:24,337 - INFO - Epoch 040: Avg. Loss: 8.08388e-02 Remaining Time: 03h 15min 39s LR: 1.00000e-05\n",
      "2025-03-19 10:33:22,735 - INFO - Epoch 041: Avg. Loss: 7.86012e-02 Remaining Time: 03h 11min 58s LR: 1.00000e-06\n",
      "2025-03-19 10:36:17,050 - INFO - Epoch 042: Avg. Loss: 7.82524e-02 Remaining Time: 03h 08min 14s LR: 1.00000e-06\n",
      "2025-03-19 10:39:14,673 - INFO - Epoch 043: Avg. Loss: 8.05792e-02 Remaining Time: 03h 04min 37s LR: 1.00000e-05\n",
      "2025-03-19 10:42:16,620 - INFO - Epoch 044: Avg. Loss: 7.54415e-02 Remaining Time: 03h 01min 06s LR: 1.00000e-06\n",
      "2025-03-19 10:45:16,277 - INFO - Epoch 045: Avg. Loss: 7.84669e-02 Remaining Time: 02h 57min 35s LR: 1.00000e-06\n",
      "2025-03-19 10:48:20,675 - INFO - Epoch 046: Avg. Loss: 8.00109e-02 Remaining Time: 02h 54min 10s LR: 1.00000e-05\n",
      "2025-03-19 10:51:19,860 - INFO - Epoch 047: Avg. Loss: 7.52344e-02 Remaining Time: 02h 50min 40s LR: 1.00000e-06\n",
      "2025-03-19 10:54:16,147 - INFO - Epoch 048: Avg. Loss: 7.84257e-02 Remaining Time: 02h 47min 09s LR: 1.00000e-06\n",
      "2025-03-19 10:57:16,255 - INFO - Epoch 049: Avg. Loss: 7.53198e-02 Remaining Time: 02h 43min 43s LR: 1.00000e-06\n",
      "2025-03-19 11:00:13,901 - INFO - Epoch 050: Avg. Loss: 7.61528e-02 Remaining Time: 02h 40min 15s LR: 1.00000e-06\n",
      "2025-03-19 11:03:13,484 - INFO - Epoch 051: Avg. Loss: 7.24180e-02 Remaining Time: 02h 36min 50s LR: 1.00000e-06\n",
      "2025-03-19 11:06:15,280 - INFO - Epoch 052: Avg. Loss: 7.84709e-02 Remaining Time: 02h 33min 29s LR: 1.00000e-06\n",
      "2025-03-19 11:09:13,256 - INFO - Epoch 053: Avg. Loss: 7.58459e-02 Remaining Time: 02h 30min 05s LR: 1.00000e-06\n",
      "2025-03-19 11:12:11,407 - INFO - Epoch 054: Avg. Loss: 7.49616e-02 Remaining Time: 02h 26min 42s LR: 1.00000e-06\n",
      "2025-03-19 11:18:14,339 - INFO - Epoch 056: Avg. Loss: 7.83093e-02 Remaining Time: 02h 20min 03s LR: 1.00000e-06\n",
      "2025-03-19 11:21:16,163 - INFO - Epoch 057: Avg. Loss: 7.52403e-02 Remaining Time: 02h 16min 45s LR: 1.00000e-06\n",
      "2025-03-19 11:24:16,795 - INFO - Epoch 058: Avg. Loss: 7.60541e-02 Remaining Time: 02h 13min 27s LR: 1.00000e-06\n",
      "2025-03-19 11:27:22,476 - INFO - Epoch 059: Avg. Loss: 7.63724e-02 Remaining Time: 02h 10min 13s LR: 1.00000e-06\n",
      "2025-03-19 11:30:21,834 - INFO - Epoch 060: Avg. Loss: 7.55033e-02 Remaining Time: 02h 06min 55s LR: 1.00000e-06\n",
      "2025-03-19 11:33:20,800 - INFO - Epoch 061: Avg. Loss: 7.96306e-02 Remaining Time: 02h 03min 37s LR: 1.00000e-06\n",
      "2025-03-19 11:36:24,703 - INFO - Epoch 062: Avg. Loss: 7.81057e-02 Remaining Time: 02h 00min 23s LR: 1.00000e-06\n",
      "2025-03-19 11:39:24,810 - INFO - Epoch 063: Avg. Loss: 7.73547e-02 Remaining Time: 01h 57min 07s LR: 1.00000e-06\n",
      "2025-03-19 11:42:26,814 - INFO - Epoch 064: Avg. Loss: 7.70698e-02 Remaining Time: 01h 53min 53s LR: 1.00000e-06\n",
      "2025-03-19 11:45:26,049 - INFO - Epoch 065: Avg. Loss: 7.80447e-02 Remaining Time: 01h 50min 37s LR: 1.00000e-06\n",
      "2025-03-19 11:48:26,872 - INFO - Epoch 066: Avg. Loss: 7.65698e-02 Remaining Time: 01h 47min 23s LR: 1.00000e-06\n",
      "2025-03-19 11:51:24,210 - INFO - Epoch 067: Avg. Loss: 7.59593e-02 Remaining Time: 01h 44min 08s LR: 1.00000e-06\n",
      "2025-03-19 11:54:28,391 - INFO - Epoch 068: Avg. Loss: 7.73019e-02 Remaining Time: 01h 40min 56s LR: 1.00000e-06\n",
      "2025-03-19 11:57:29,560 - INFO - Epoch 069: Avg. Loss: 7.94334e-02 Remaining Time: 01h 37min 43s LR: 1.00000e-06\n",
      "2025-03-19 12:00:31,563 - INFO - Epoch 070: Avg. Loss: 7.90182e-02 Remaining Time: 01h 34min 31s LR: 1.00000e-06\n",
      "2025-03-19 12:03:35,872 - INFO - Early stopping at epoch 71: Loss has not improved for 20 epochs\n"
     ]
    },
    {
     "data": {
      "image/png": "[encoded data removed]",
      "text/plain": [
       "<Figure size 640x480 with 1 Axes>"
      ]
     },
     "metadata": {},
     "output_type": "display_data"
    }
   ],
   "source": [
    "x = diffusion.train(epochs=epochs, \n",
    "                    data_loader=data_loader, \n",
    "                    loss_function=nn.MSELoss(),\n",
    "                    optimizer=optimizer, \n",
    "                    lr_scheduler=scheduler, \n",
    "                    gradient_accum=conf[\"model\"].gradient_accum,\n",
    "                    checkpoint_freq=checkpoint_freq, \n",
    "                    model_path=full_model_path, \n",
    "                    start_epoch=start_epoch\n",
    "                )\n",
    "scatter_plot(x)"
   ]
  }
 ],
 "metadata": {
  "kernelspec": {
   "display_name": "Python 3 (ipykernel)",
   "language": "python",
   "name": "python3"
  },
  "language_info": {
   "codemirror_mode": {
    "name": "ipython",
    "version": 3
   },
   "file_extension": ".py",
   "mimetype": "text/x-python",
   "name": "python",
   "nbconvert_exporter": "python",
   "pygments_lexer": "ipython3",
   "version": "3.11.7"
  }
 },
 "nbformat": 4,
 "nbformat_minor": 2
}
