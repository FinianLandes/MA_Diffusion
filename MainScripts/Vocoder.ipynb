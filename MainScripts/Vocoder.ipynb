{
 "cells": [
  {
   "cell_type": "markdown",
   "id": "0896dd2a",
   "metadata": {},
   "source": [
    "# Main Script for a Vocoder\n",
    "\n",
    "### Imports"
   ]
  },
  {
   "cell_type": "code",
   "execution_count": 1,
   "id": "e7059a95",
   "metadata": {},
   "outputs": [],
   "source": [
    "try: \n",
    "    import librosa\n",
    "except:\n",
    "    !pip install librosa\n",
    "try:\n",
    "    from audio_diffusion_pytorch import DiffusionModel, UNetV0, LTPlugin, VDiffusion, VSampler\n",
    "except:\n",
    "    !pip install audio-diffusion-pytorch\n",
    "try: \n",
    "    import a_unet\n",
    "except:\n",
    "    !pip install a_unet\n",
    "\n",
    "\n",
    "#Set Dir \n",
    "import sys, os\n",
    "sys.path.append(os.path.abspath('..'))\n",
    "\n",
    "# Torch\n",
    "import torch\n",
    "from torch import nn, Tensor\n",
    "from torch.utils.data import DataLoader, Subset\n",
    "import torch.optim as optim\n",
    "from audio_diffusion_pytorch import DiffusionModel, UNetV0, LTPlugin, VDiffusion, VSampler, DiffusionVocoder\n",
    "\n",
    "\n",
    "# Utils\n",
    "import numpy as np\n",
    "from numpy import ndarray\n",
    "import logging\n",
    "from typing import Sequence, Optional, Callable\n",
    "\n",
    "\n",
    "# Base Scripts\n",
    "from Libraries.Utils import *\n",
    "from MainScripts.Conf import conf"
   ]
  },
  {
   "cell_type": "markdown",
   "id": "bd9d7fbc",
   "metadata": {},
   "source": [
    "### Config"
   ]
  },
  {
   "cell_type": "markdown",
   "id": "7f12e407",
   "metadata": {},
   "source": [
    "### General"
   ]
  },
  {
   "cell_type": "code",
   "execution_count": 2,
   "id": "25c14554",
   "metadata": {},
   "outputs": [],
   "source": [
    "remote_kernel: bool = False #Set to true if using a remote Kernel changes the file structure\n",
    "model_name: str = \"vocoder_v1\"\n",
    "training_data_name: str = \"training_full_wave\"\n",
    "full_model_path: str = path_to_remote_path(\"{}/{}\".format(conf[\"paths\"].model_path, model_name + \".pth\"), remote_kernel)"
   ]
  },
  {
   "cell_type": "markdown",
   "id": "02f7c208",
   "metadata": {},
   "source": [
    "Logging"
   ]
  },
  {
   "cell_type": "code",
   "execution_count": 3,
   "id": "9c656f57",
   "metadata": {},
   "outputs": [],
   "source": [
    "logging_level: int = logging.INFO\n",
    "logging.basicConfig(level=logging_level, format='%(asctime)s - %(levelname)s - %(message)s')\n",
    "logger: logging.Logger = logging.getLogger(__name__)"
   ]
  },
  {
   "cell_type": "markdown",
   "id": "b924858d",
   "metadata": {},
   "source": [
    "Training Params"
   ]
  },
  {
   "cell_type": "code",
   "execution_count": 4,
   "id": "ecc9b6b6",
   "metadata": {},
   "outputs": [],
   "source": [
    "device: str = \"cuda\" if torch.cuda.is_available() else \"cpu\"\n",
    "n_training_samples: int = 5600\n",
    "n_validation_samples: int = 50\n",
    "batch_size: int = 48\n",
    "tensor_dim: list = [batch_size, 1, 512] #B, C, H = Batch, Channels, Time domain\n",
    "\n",
    "learning_rate: float = 5e-4\n",
    "epochs: int = 100\n",
    "restart_training: bool = True\n",
    "checkpoint_freq: int = 10"
   ]
  },
  {
   "cell_type": "markdown",
   "id": "b571b189",
   "metadata": {},
   "source": [
    "### Data Loading"
   ]
  },
  {
   "cell_type": "code",
   "execution_count": 5,
   "id": "c201a4c7",
   "metadata": {},
   "outputs": [
    {
     "name": "stderr",
     "output_type": "stream",
     "text": [
      "2025-06-01 17:14:51,090 - INFO - Data loaded with shape: (5888, 147200)\n"
     ]
    }
   ],
   "source": [
    "file: ndarray = load_training_data(path_to_remote_path(\"{}/{}\".format(conf[\"paths\"].data_path, training_data_name + \".npy\"), remote_kernel))\n",
    "data_loader = create_dataloader(Audio_Data(file[:n_training_samples]), batch_size)\n",
    "validation_dataloader = create_dataloader(Audio_Data(file[-n_validation_samples:]), batch_size)\n",
    "logger.info(f\"Data loaded with shape: {file.shape}\")"
   ]
  },
  {
   "cell_type": "markdown",
   "id": "ed47a452",
   "metadata": {},
   "source": [
    "### Setup"
   ]
  },
  {
   "cell_type": "markdown",
   "id": "ce332ece",
   "metadata": {},
   "source": [
    "Model Creation"
   ]
  },
  {
   "cell_type": "code",
   "execution_count": null,
   "id": "332fa1b2",
   "metadata": {},
   "outputs": [
    {
     "ename": "NameError",
     "evalue": "name 'DiffusionVocoder' is not defined",
     "output_type": "error",
     "traceback": [
      "\u001b[1;31m---------------------------------------------------------------------------\u001b[0m",
      "\u001b[1;31mNameError\u001b[0m                                 Traceback (most recent call last)",
      "Cell \u001b[1;32mIn[1], line 1\u001b[0m\n\u001b[1;32m----> 1\u001b[0m vocoder \u001b[38;5;241m=\u001b[39m \u001b[43mDiffusionVocoder\u001b[49m(\n\u001b[0;32m      2\u001b[0m     mel_n_fft\u001b[38;5;241m=\u001b[39m\u001b[38;5;241m2048\u001b[39m,\n\u001b[0;32m      3\u001b[0m     mel_channels\u001b[38;5;241m=\u001b[39m\u001b[38;5;241m128\u001b[39m,\n\u001b[0;32m      4\u001b[0m     mel_sample_rate\u001b[38;5;241m=\u001b[39m\u001b[38;5;241m32000\u001b[39m,\n\u001b[0;32m      5\u001b[0m     mel_normalize_log\u001b[38;5;241m=\u001b[39m\u001b[38;5;28;01mTrue\u001b[39;00m,\n\u001b[0;32m      6\u001b[0m     mel_hop_length\u001b[38;5;241m=\u001b[39m\u001b[38;5;241m256\u001b[39m \u001b[38;5;241m+\u001b[39m \u001b[38;5;241m64\u001b[39m,\n\u001b[0;32m      7\u001b[0m     net_t\u001b[38;5;241m=\u001b[39mUNetV0,\n\u001b[0;32m      8\u001b[0m     channels\u001b[38;5;241m=\u001b[39m[\u001b[38;5;241m64\u001b[39m, \u001b[38;5;241m128\u001b[39m, \u001b[38;5;241m256\u001b[39m, \u001b[38;5;241m512\u001b[39m, \u001b[38;5;241m512\u001b[39m, \u001b[38;5;241m1024\u001b[39m, \u001b[38;5;241m1024\u001b[39m],\n\u001b[0;32m      9\u001b[0m     factors\u001b[38;5;241m=\u001b[39m[\u001b[38;5;241m1\u001b[39m, \u001b[38;5;241m2\u001b[39m, \u001b[38;5;241m2\u001b[39m, \u001b[38;5;241m2\u001b[39m, \u001b[38;5;241m2\u001b[39m, \u001b[38;5;241m2\u001b[39m, \u001b[38;5;241m2\u001b[39m],\n\u001b[0;32m     10\u001b[0m     items\u001b[38;5;241m=\u001b[39m[\u001b[38;5;241m1\u001b[39m, \u001b[38;5;241m2\u001b[39m, \u001b[38;5;241m2\u001b[39m, \u001b[38;5;241m2\u001b[39m, \u001b[38;5;241m2\u001b[39m, \u001b[38;5;241m2\u001b[39m, \u001b[38;5;241m2\u001b[39m],\n\u001b[0;32m     11\u001b[0m     in_channels\u001b[38;5;241m=\u001b[39m\u001b[38;5;241m1\u001b[39m,\n\u001b[0;32m     12\u001b[0m     diffusion_t\u001b[38;5;241m=\u001b[39mVDiffusion,\n\u001b[0;32m     13\u001b[0m     sampler_t\u001b[38;5;241m=\u001b[39mVSampler,\n\u001b[0;32m     14\u001b[0m )\u001b[38;5;241m.\u001b[39mto(device)\n",
      "\u001b[1;31mNameError\u001b[0m: name 'DiffusionVocoder' is not defined"
     ]
    }
   ],
   "source": [
    "vocoder = DiffusionVocoder(\n",
    "    mel_n_fft=2048,\n",
    "    mel_channels=128,\n",
    "    mel_sample_rate=32000,\n",
    "    mel_normalize_log=True,\n",
    "    mel_hop_length=256,\n",
    "    net_t=UNetV0,\n",
    "    channels=[64, 128, 256, 512, 512, 1024, 1024],\n",
    "    factors=[1, 2, 2, 2, 2, 2, 2],\n",
    "    items=[1, 2, 2, 2, 2, 2, 2],\n",
    "    in_channels=1,\n",
    "    diffusion_t=VDiffusion,\n",
    "    sampler_t=VSampler,\n",
    ").to(device)\n"
   ]
  },
  {
   "cell_type": "markdown",
   "id": "8700118a",
   "metadata": {},
   "source": [
    "Model Loading"
   ]
  },
  {
   "cell_type": "code",
   "execution_count": 31,
   "id": "691eb349",
   "metadata": {},
   "outputs": [
    {
     "name": "stderr",
     "output_type": "stream",
     "text": [
      "2025-06-01 18:38:00,694 - INFO - Model vocoder_v1 created with ~107.7M Parameters\n"
     ]
    }
   ],
   "source": [
    "optimizer = optim.AdamW(vocoder.parameters(), lr=learning_rate)\n",
    "scheduler = optim.lr_scheduler.ExponentialLR(optimizer, gamma=0.98)\n",
    "start_epoch: int = 0\n",
    "if os.path.exists(full_model_path):\n",
    "    model = torch.load(full_model_path, map_location=device)\n",
    "    vocoder.load_state_dict(model[\"model\"])\n",
    "    if not restart_training:\n",
    "        optimizer.load_state_dict(model[\"optim\"])\n",
    "        scheduler.load_state_dict(model[\"scheduler\"])\n",
    "        start_epoch = model.get(\"epoch\", 0)\n",
    "    logger.info(f\"Model {model_name} loaded with {count_parameters(vocoder)} Parameters\")\n",
    "else: \n",
    "    logger.info(f\"Model {model_name} created with {count_parameters(vocoder)} Parameters\")"
   ]
  },
  {
   "cell_type": "markdown",
   "id": "fc431473",
   "metadata": {},
   "source": [
    "Initiate Trainer"
   ]
  },
  {
   "cell_type": "code",
   "execution_count": 32,
   "id": "a729050c",
   "metadata": {},
   "outputs": [],
   "source": [
    "trainer = Trainer(vocoder, optimizer, scheduler, device)"
   ]
  },
  {
   "cell_type": "markdown",
   "id": "3717e290",
   "metadata": {},
   "source": [
    "### Training"
   ]
  },
  {
   "cell_type": "code",
   "execution_count": 33,
   "id": "429deb8c",
   "metadata": {},
   "outputs": [
    {
     "name": "stderr",
     "output_type": "stream",
     "text": [
      "2025-06-01 18:38:04,439 - INFO - Training started on cpu\n"
     ]
    },
    {
     "ename": "",
     "evalue": "",
     "output_type": "error",
     "traceback": [
      "\u001b[1;31mThe Kernel crashed while executing code in the current cell or a previous cell. \n",
      "\u001b[1;31mPlease review the code in the cell(s) to identify a possible cause of the failure. \n",
      "\u001b[1;31mClick <a href='https://aka.ms/vscodeJupyterKernelCrash'>here</a> for more info. \n",
      "\u001b[1;31mView Jupyter <a href='command:jupyter.viewOutput'>log</a> for further details."
     ]
    }
   ],
   "source": [
    "train_loss, val_loss = trainer.train(train_dataset=data_loader,\n",
    "            val_dataset=validation_dataloader,\n",
    "            n_epochs=epochs,\n",
    "            full_model_path=full_model_path,\n",
    "            checkpoint_freq=checkpoint_freq,\n",
    "            patience=-1,\n",
    "            gradient_clip_norm=None,\n",
    "            gradient_clip_val=None,\n",
    "            sample_freq=None,\n",
    "            #use_embed=False\n",
    "            )\n",
    "scatter_plot(train_loss)\n",
    "scatter_plot(val_loss)"
   ]
  },
  {
   "cell_type": "markdown",
   "id": "6ca25d40",
   "metadata": {},
   "source": [
    "### Sample"
   ]
  },
  {
   "cell_type": "code",
   "execution_count": null,
   "id": "ffe6a1a4",
   "metadata": {},
   "outputs": [],
   "source": [
    "wave_form  = trainer.sample_voc()"
   ]
  }
 ],
 "metadata": {
  "kernelspec": {
   "display_name": "Python 3",
   "language": "python",
   "name": "python3"
  },
  "language_info": {
   "codemirror_mode": {
    "name": "ipython",
    "version": 3
   },
   "file_extension": ".py",
   "mimetype": "text/x-python",
   "name": "python",
   "nbconvert_exporter": "python",
   "pygments_lexer": "ipython3",
   "version": "3.13.2"
  }
 },
 "nbformat": 4,
 "nbformat_minor": 5
}
