{
 "cells": [
  {
   "cell_type": "markdown",
   "id": "0896dd2a",
   "metadata": {},
   "source": [
    "# Main Script for a Vocoder\n",
    "\n",
    "### Imports"
   ]
  },
  {
   "cell_type": "code",
   "execution_count": 1,
   "id": "e7059a95",
   "metadata": {},
   "outputs": [],
   "source": [
    "try: \n",
    "    import librosa\n",
    "except:\n",
    "    !pip install librosa\n",
    "\n",
    "\n",
    "#Set Dir \n",
    "import sys, os\n",
    "sys.path.append(os.path.abspath('..'))\n",
    "\n",
    "# Torch\n",
    "import torch\n",
    "from torch import nn, Tensor\n",
    "from torch.utils.data import DataLoader, Subset\n",
    "import torch.optim as optim\n",
    "from torchaudio.prototype.pipelines import HIFIGAN_VOCODER_V3_LJSPEECH as bundle\n",
    "\n",
    "# Utils\n",
    "import numpy as np\n",
    "from numpy import ndarray\n",
    "import logging, librosa\n",
    "from typing import Sequence, Optional, Callable\n",
    "\n",
    "\n",
    "# Base Scripts\n",
    "from Libraries.Utils import *\n",
    "from MainScripts.Conf import conf"
   ]
  },
  {
   "cell_type": "markdown",
   "id": "bd9d7fbc",
   "metadata": {},
   "source": [
    "### Config"
   ]
  },
  {
   "cell_type": "markdown",
   "id": "7f12e407",
   "metadata": {},
   "source": [
    "### General"
   ]
  },
  {
   "cell_type": "code",
   "execution_count": 2,
   "id": "25c14554",
   "metadata": {},
   "outputs": [],
   "source": [
    "remote_kernel: bool = False #Set to true if using a remote Kernel changes the file structure\n",
    "training_data_name: str = \"training_full_wave\""
   ]
  },
  {
   "cell_type": "markdown",
   "id": "02f7c208",
   "metadata": {},
   "source": [
    "Logging"
   ]
  },
  {
   "cell_type": "code",
   "execution_count": 3,
   "id": "9c656f57",
   "metadata": {},
   "outputs": [],
   "source": [
    "logging_level: int = LIGHT_DEBUG\n",
    "logging.basicConfig(level=logging_level, format='%(asctime)s - %(levelname)s - %(message)s')\n",
    "logger: logging.Logger = logging.getLogger(__name__)"
   ]
  },
  {
   "cell_type": "markdown",
   "id": "b924858d",
   "metadata": {},
   "source": [
    "Training Params"
   ]
  },
  {
   "cell_type": "code",
   "execution_count": 4,
   "id": "ecc9b6b6",
   "metadata": {},
   "outputs": [],
   "source": [
    "device: str = \"cuda\" if torch.cuda.is_available() else \"cpu\"\n"
   ]
  },
  {
   "cell_type": "markdown",
   "id": "b571b189",
   "metadata": {},
   "source": [
    "### Data Loading"
   ]
  },
  {
   "cell_type": "code",
   "execution_count": 5,
   "id": "c201a4c7",
   "metadata": {},
   "outputs": [
    {
     "name": "stderr",
     "output_type": "stream",
     "text": [
      "2025-06-02 21:28:08,841 - LIGHT_DEBUG - Ndarray loaded from ../Data/training_full_wave.npy of shape: (5906, 147200)\n",
      "2025-06-02 21:28:08,843 - LIGHT_DEBUG - Started Mel-Spec\n",
      "2025-06-02 21:28:12,043 - LIGHT_DEBUG - Created mel-spectogram: (80, 576)\n"
     ]
    }
   ],
   "source": [
    "file: ndarray = load_training_data(path_to_remote_path(\"{}/{}\".format(conf[\"paths\"].data_path, training_data_name + \".npy\"), remote_kernel))\n",
    "spect = audio_to_mel_spectogram(file[1], 2048, 256, 32000, True, 30, 80)\n"
   ]
  },
  {
   "cell_type": "markdown",
   "id": "50424b99",
   "metadata": {},
   "source": [
    "### Convert to wave"
   ]
  },
  {
   "cell_type": "code",
   "execution_count": 6,
   "id": "32a8a83d",
   "metadata": {},
   "outputs": [
    {
     "name": "stderr",
     "output_type": "stream",
     "text": [
      "2025-06-02 21:28:12,058 - LIGHT_DEBUG - Started GL\n",
      "2025-06-02 21:28:16,190 - LIGHT_DEBUG - Normalized to range: [-0.99999,0.99999]\n",
      "2025-06-02 21:28:16,191 - LIGHT_DEBUG - Reconstructed audio: (147200,)\n",
      "2025-06-02 21:28:16,192 - LIGHT_DEBUG - Normalized to range: [-0.99999,0.99999]\n",
      "2025-06-02 21:28:16,202 - LIGHT_DEBUG - Saved file to:test.wav\n"
     ]
    }
   ],
   "source": [
    "save_audio_file(mel_spectrogram_to_audio(spect, sample_rate=32000, len_fft=2048, hop_length=256), \"test.wav\", 32000)"
   ]
  }
 ],
 "metadata": {
  "kernelspec": {
   "display_name": "Python 3",
   "language": "python",
   "name": "python3"
  },
  "language_info": {
   "codemirror_mode": {
    "name": "ipython",
    "version": 3
   },
   "file_extension": ".py",
   "mimetype": "text/x-python",
   "name": "python",
   "nbconvert_exporter": "python",
   "pygments_lexer": "ipython3",
   "version": "3.13.2"
  }
 },
 "nbformat": 4,
 "nbformat_minor": 5
}
