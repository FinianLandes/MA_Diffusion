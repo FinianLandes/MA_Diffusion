{
 "cells": [
  {
   "cell_type": "markdown",
   "id": "b32230da",
   "metadata": {},
   "source": [
    "# Main Diffusion Script\n",
    "### Imports"
   ]
  },
  {
   "cell_type": "code",
   "execution_count": 31,
   "id": "b6b011c8",
   "metadata": {},
   "outputs": [],
   "source": [
    "try: \n",
    "    import librosa\n",
    "except:\n",
    "    !pip install librosa\n",
    "\n",
    "\n",
    "#Set Dir \n",
    "import sys, os\n",
    "sys.path.append(os.path.abspath('..'))\n",
    "\n",
    "# Torch\n",
    "import torch\n",
    "from torch import nn, Tensor\n",
    "from torch.utils.data import DataLoader, Subset\n",
    "import torch.optim as optim\n",
    "import torch.nn.functional as F\n",
    "from torch.nn import Parameter\n",
    "from torch.autograd import Variable, Function\n",
    "\n",
    "# Utils\n",
    "import numpy as np\n",
    "from numpy import ndarray\n",
    "import logging, math\n",
    "from typing import Sequence, Optional, Callable\n",
    "from tqdm import tqdm\n",
    "\n",
    "# Base Scripts\n",
    "from Libraries.Utils import *\n",
    "from MainScripts.Conf import conf"
   ]
  },
  {
   "cell_type": "markdown",
   "id": "d1b88688",
   "metadata": {},
   "source": [
    "General"
   ]
  },
  {
   "cell_type": "code",
   "execution_count": 2,
   "id": "bb558b0b",
   "metadata": {},
   "outputs": [],
   "source": [
    "remote_kernel: bool = True #Set to true if using a remote Kernel changes the file structure\n",
    "model_name: str = \"wave_net_v3\"\n",
    "training_data_name: str = \"training_full_wave\"\n",
    "full_model_path: str = path_to_remote_path(\"{}/{}\".format(conf[\"paths\"].model_path, model_name + \".pth\"), remote_kernel)"
   ]
  },
  {
   "cell_type": "markdown",
   "id": "84953a7c",
   "metadata": {},
   "source": [
    "Logging"
   ]
  },
  {
   "cell_type": "code",
   "execution_count": 3,
   "id": "61670472",
   "metadata": {},
   "outputs": [],
   "source": [
    "logging_level: int = LIGHT_DEBUG\n",
    "logging.basicConfig(level=logging_level, format='%(asctime)s - %(levelname)s - %(message)s')\n",
    "logger: logging.Logger = logging.getLogger(__name__)"
   ]
  },
  {
   "cell_type": "markdown",
   "id": "5d86a87c",
   "metadata": {},
   "source": [
    "Training Params"
   ]
  },
  {
   "cell_type": "code",
   "execution_count": null,
   "id": "7fa45d50",
   "metadata": {},
   "outputs": [],
   "source": [
    "device: str = \"cuda\" if torch.cuda.is_available() else \"cpu\"\n",
    "batch_size = 32\n",
    "\n",
    "\n",
    "learning_rate: float = 1e-3\n",
    "epochs: int = 30\n",
    "restart_training: bool = True\n",
    "checkpoint_freq: int = 10"
   ]
  },
  {
   "cell_type": "markdown",
   "id": "bdb12f3b",
   "metadata": {},
   "source": [
    "### Data Loading"
   ]
  },
  {
   "cell_type": "code",
   "execution_count": 22,
   "id": "b3264eac",
   "metadata": {},
   "outputs": [],
   "source": [
    "def mu_law_encode(audio: ndarray, quantization_channels: int = 256) -> ndarray:\n",
    "    mu = quantization_channels - 1\n",
    "    encoded = np.sign(audio) * np.log(1 + mu * np.abs(audio)) / np.log(1 + mu)\n",
    "    encoded = ((encoded + 1) / 2 * mu + 0.5)\n",
    "    out = np.round(encoded).astype(np.int32)\n",
    "    return np.clip(out, 0, mu)\n",
    "\n",
    "def mu_law_decode(encoded: ndarray, quantization_channels: int = 256) -> ndarray:\n",
    "    mu = quantization_channels - 1\n",
    "    encoded = encoded.astype(np.float32)\n",
    "    encoded = 2 * (encoded / mu) - 1  # Map from [0, 255] to [-1, 1]\n",
    "    x = np.sign(encoded) * (1.0 / mu) * ((1 + mu) ** np.abs(encoded) - 1)\n",
    "    return x\n",
    "\n",
    "def prepare_data(data: ndarray, length: int = 64000, num_samples_per_file: int = 5) -> tuple[ndarray]:\n",
    "    input, label = [], []\n",
    "    for file in data:\n",
    "        audio = mu_law_encode(file)\n",
    "        starts = np.random.randint(0, data.shape[1] - length - 1, size=num_samples_per_file)\n",
    "        for start in starts:\n",
    "            data_seq = audio[start: start + length]\n",
    "            label_seq = audio[start + 1:start + length + 1]\n",
    "            input.append(data_seq)\n",
    "            label.append(label_seq)\n",
    "\n",
    "    return np.array(input), np.array(label)\n"
   ]
  },
  {
   "cell_type": "code",
   "execution_count": 23,
   "id": "8a9a8e15",
   "metadata": {},
   "outputs": [
    {
     "name": "stderr",
     "output_type": "stream",
     "text": [
      "2025-06-05 06:27:00,879 - LIGHT_DEBUG - Ndarray loaded from Data/training_full_wave.npy of shape: (5906, 147200)\n",
      "2025-06-05 06:27:02,970 - INFO - Data loaded with shape: torch.Size([50, 256, 32000])\n"
     ]
    }
   ],
   "source": [
    "file: ndarray = load_training_data(path_to_remote_path(\"{}/{}\".format(conf[\"paths\"].data_path, training_data_name + \".npy\"), remote_kernel))\n",
    "input, label = prepare_data(file[:10], length=32000)\n",
    "inputs = []\n",
    "for b in range(len(input)//10):\n",
    "    x = torch.tensor(input[b * 10: (b + 1) * 10]).long()\n",
    "    x = torch.nn.functional.one_hot(x, 256).float().permute(0, 2, 1)\n",
    "    inputs.append(x)\n",
    "input = torch.cat(inputs)\n",
    "\n",
    "data_loader = create_dataloader(Audio_Data(input, label), batch_size)\n",
    "\n",
    "logger.info(f\"Data loaded with shape: {input.shape}\")"
   ]
  },
  {
   "cell_type": "markdown",
   "id": "d4fd706b",
   "metadata": {},
   "source": [
    "### Model Creation"
   ]
  },
  {
   "cell_type": "code",
   "execution_count": 27,
   "id": "5b1aaa8e",
   "metadata": {},
   "outputs": [],
   "source": [
    "class DilatedConv(nn.Module):\n",
    "    def __init__(self, in_channels: int, out_channels: int, kernel_size: int = 3, dilation: int = 1) -> None:\n",
    "        super(DilatedConv, self).__init__()\n",
    "        self.padding = (kernel_size - 1) * dilation\n",
    "        self.conv = nn.Conv1d(in_channels, out_channels, kernel_size, stride=1, padding=self.padding, dilation=dilation)\n",
    "\n",
    "    def forward(self, x: Tensor) -> Tensor:\n",
    "        x = self.conv(x)\n",
    "        if self.padding > 0:\n",
    "            x = x[:, :, :-self.padding]\n",
    "        return x\n",
    "\n",
    "class DilatedConvStep(nn.Module):\n",
    "    def __init__(self, in_channels, out_channels, kernel_size, dilation):\n",
    "        super().__init__()\n",
    "        self.kernel_size = kernel_size\n",
    "        self.dilation = dilation\n",
    "        self.receptive_field = dilation * (kernel_size - 1) + 1\n",
    "\n",
    "        self.conv = nn.Conv1d(in_channels, out_channels, kernel_size, dilation=dilation, bias=True)\n",
    "\n",
    "    def forward(self, x, cache):\n",
    "        \"\"\"\n",
    "        x: [B, C, 1] - the current input sample\n",
    "        cache: [B, C, receptive_field - 1] - buffer of past samples\n",
    "        \"\"\"\n",
    "        if cache is None:\n",
    "            B, C, _ = x.shape\n",
    "            cache = torch.zeros(B, C, self.receptive_field - 1, device=x.device)\n",
    "\n",
    "        # Append x to the right, remove oldest frame\n",
    "        x_full = torch.cat([cache, x], dim=2)  # Shape: [B, C, receptive_field]\n",
    "\n",
    "        # Apply standard Conv1d over this buffer\n",
    "        out = self.conv(x_full)  # Output shape: [B, C_out, 1]\n",
    "\n",
    "        # Update cache\n",
    "        new_cache = torch.cat([cache[:, :, 1:], x], dim=2)\n",
    "\n",
    "        return out, new_cache\n",
    "\n",
    "\n",
    "class ResBlock(nn.Module):\n",
    "    def __init__(self, res_channels: int, skip_channels: int, kernel_size: int = 3, dilation: int = 1) -> None:\n",
    "        super(ResBlock, self).__init__()\n",
    "        self.filter_conv = DilatedConv(res_channels, res_channels, kernel_size, dilation)\n",
    "        self.gate_conv = DilatedConv(res_channels, res_channels, kernel_size, dilation)\n",
    "        self.res_conv = nn.Conv1d(res_channels, res_channels, kernel_size=1)\n",
    "        self.skip_conv = nn.Conv1d(res_channels, skip_channels, kernel_size=1)\n",
    "        self.tanh = nn.Tanh()\n",
    "        self.sigmoid = nn.Sigmoid()\n",
    "\n",
    "    def forward(self, x: Tensor, skip_size: int) -> tuple[Tensor, Tensor]:\n",
    "        res_x = x\n",
    "        filter_out = self.filter_conv(x)\n",
    "        gate_out = self.gate_conv(x)\n",
    "        x = self.tanh(filter_out) * self.sigmoid(gate_out)\n",
    "        res = self.res_conv(x)\n",
    "        res = res + res_x\n",
    "        skip = self.skip_conv(x)[:, :, -skip_size:]\n",
    "        return res, skip\n",
    "    \n",
    "class ResBlockStep(nn.Module):\n",
    "    def __init__(self, res_channels, skip_channels, kernel_size, dilation):\n",
    "        super().__init__()\n",
    "        self.filter_conv = DilatedConvStep(res_channels, res_channels, kernel_size, dilation)\n",
    "        self.gate_conv = DilatedConvStep(res_channels, res_channels, kernel_size, dilation)\n",
    "        self.res_conv = nn.Conv1d(res_channels, res_channels, 1)\n",
    "        self.skip_conv = nn.Conv1d(res_channels, skip_channels, 1)\n",
    "        self.tanh = nn.Tanh()\n",
    "        self.sigmoid = nn.Sigmoid()\n",
    "        self.res_scale = nn.Parameter(torch.tensor(1.0))\n",
    "\n",
    "    def forward(self, x: Tensor, filter_cache: Tensor, gate_cache: Tensor) -> tuple[Tensor]:\n",
    "        f, filter_cache = self.filter_conv(x, filter_cache)\n",
    "        g, gate_cache = self.gate_conv(x, gate_cache)\n",
    "        a = self.tanh(f) * self.sigmoid(g)\n",
    "\n",
    "        res = self.res_conv(a)\n",
    "        skip = self.skip_conv(a)\n",
    "\n",
    "        x = (x + res) * self.res_scale\n",
    "        return x, skip, filter_cache, gate_cache\n",
    "\n",
    "\n",
    "class DenseLayer(nn.Module):\n",
    "    def __init__(self, in_channels: int, out_channels: int) -> None:\n",
    "        super(DenseLayer, self).__init__()\n",
    "        self.conv1 = nn.Conv1d(in_channels, in_channels, kernel_size=1)\n",
    "        self.conv2 = nn.Conv1d(in_channels, out_channels, kernel_size=1)\n",
    "        self.relu = nn.ReLU()\n",
    "\n",
    "    def forward(self, x: Tensor) -> Tensor:\n",
    "        x = self.relu(self.conv1(x))\n",
    "        x = self.relu(self.conv2(x))\n",
    "        return x\n",
    "\n",
    "class ResStack(nn.Module):\n",
    "    def __init__(self, stack_size: int, layer_size: int, res_channels: int, skip_channels: int, kernel_size: int) -> None:\n",
    "        super(ResStack, self).__init__()\n",
    "        self.res_blocks = nn.ModuleList()\n",
    "        for stack in range(stack_size):\n",
    "            for layer in range(layer_size):\n",
    "                dilation = 2 ** layer\n",
    "                self.res_blocks.append(ResBlock(res_channels, skip_channels, kernel_size, dilation))\n",
    "\n",
    "    def forward(self, x: Tensor, skip_size: int) -> tuple[Tensor, Tensor]:\n",
    "        res_out = x\n",
    "        skip_outs = []\n",
    "        for res_block in self.res_blocks:\n",
    "            res_out, skip = res_block(res_out, skip_size)\n",
    "            skip_outs.append(skip)\n",
    "        return res_out, torch.sum(torch.stack(skip_outs), dim=0)\n",
    "\n",
    "\n",
    "class WaveNet(nn.Module):\n",
    "    def __init__(self, in_channels: int, res_channels: int, skip_channels: int, out_channels: int, stack_size: int = 2, layer_size: int = 5, kernel_size: int = 2):\n",
    "        super().__init__()\n",
    "        self.receptive_field = (kernel_size - 1) * (2 ** layer_size - 1) * stack_size + 1\n",
    "\n",
    "        self.input_proj = nn.Conv1d(in_channels, res_channels, 1)\n",
    "        self.causal_conv = DilatedConv(res_channels, res_channels, kernel_size, dilation=1)\n",
    "\n",
    "        self.res_blocks = nn.ModuleList()\n",
    "        self.res_blocks_step = nn.ModuleList()\n",
    "\n",
    "        for s in range(stack_size):\n",
    "            for l in range(layer_size):\n",
    "                d = 2 ** l\n",
    "                self.res_blocks.append(ResBlock(res_channels, skip_channels, kernel_size, d))\n",
    "                self.res_blocks_step.append(ResBlockStep(res_channels, skip_channels, kernel_size, d))\n",
    "\n",
    "        self.dense = DenseLayer(skip_channels, out_channels)\n",
    "        self.tanh = nn.Tanh()\n",
    "\n",
    "    def forward(self, x):\n",
    "        x = self.input_proj(x)\n",
    "        x = self.causal_conv(x)\n",
    "        skips = 0\n",
    "        for block in self.res_blocks:\n",
    "            x, skip = block(x, x.size(2))\n",
    "            skips += skip\n",
    "        out = self.dense(skips)\n",
    "        return self.tanh(out)\n",
    "\n",
    "    @torch.no_grad()\n",
    "    def fast_sample(self, num_samples, temp=1.0, device=\"cpu\"):\n",
    "        self.eval()\n",
    "        num_classes = self.dense.conv2.out_channels\n",
    "        x = torch.zeros(1, num_classes, 1, device=device)\n",
    "        x[:, 127, 0] = 1.0\n",
    "\n",
    "        filter_caches = [None] * len(self.res_blocks_step)\n",
    "        gate_caches = [None] * len(self.res_blocks_step)\n",
    "\n",
    "        outputs = []\n",
    "\n",
    "        for i in tqdm(range(num_samples), desc=\"Fast Sampling\"):\n",
    "            x_in = self.input_proj(x)\n",
    "            x_in = self.causal_conv(x_in)\n",
    "\n",
    "            skips = []\n",
    "            for i, block in enumerate(self.res_blocks_step):\n",
    "                x_in, skip, fc, gc = block(x_in, filter_caches[i], gate_caches[i])\n",
    "                filter_caches[i] = fc\n",
    "                gate_caches[i] = gc\n",
    "                skips.append(skip)\n",
    "\n",
    "            skip_out = sum(skips)\n",
    "            y = self.dense(skip_out)\n",
    "            logits = y[:, :, -1]\n",
    "            probs = torch.nn.functional.softmax(logits / temp, dim=1)\n",
    "            next_token = torch.multinomial(probs, 1)\n",
    "\n",
    "            outputs.append(next_token.item())\n",
    "            x = torch.nn.functional.one_hot(next_token, num_classes).permute(0, 2, 1).float()\n",
    "        waveform = mu_law_decode(np.array(outputs), num_classes)\n",
    "        self.train()\n",
    "        return waveform\n",
    "\n"
   ]
  },
  {
   "cell_type": "code",
   "execution_count": 28,
   "id": "7580c2ca",
   "metadata": {},
   "outputs": [],
   "source": [
    "wave_net = WaveNet(\n",
    "    in_channels=256,\n",
    "    res_channels=128,\n",
    "    skip_channels=128,\n",
    "    out_channels=256,\n",
    "    stack_size=2,\n",
    "    layer_size=8,\n",
    "    kernel_size=2\n",
    ").to(device)"
   ]
  },
  {
   "cell_type": "markdown",
   "id": "c46650e1",
   "metadata": {},
   "source": [
    "### Model Loading"
   ]
  },
  {
   "cell_type": "code",
   "execution_count": 20,
   "id": "ded34bc3",
   "metadata": {},
   "outputs": [
    {
     "name": "stderr",
     "output_type": "stream",
     "text": [
      "2025-06-05 06:25:51,902 - INFO - Model wave_net_v3 loaded with ~3.277M Parameters\n"
     ]
    }
   ],
   "source": [
    "optimizer = optim.AdamW(wave_net.parameters(), lr=learning_rate, weight_decay=1e-3, betas=[0.95, 0.999], eps=1e-6)\n",
    "lr_scheduler = optim.lr_scheduler.ExponentialLR(optimizer, gamma=1.0)\n",
    "start_epoch: int = 0\n",
    "if os.path.exists(full_model_path):\n",
    "    model = torch.load(full_model_path, map_location=device)\n",
    "    wave_net.load_state_dict(model[\"model\"])\n",
    "    if not restart_training:\n",
    "        optimizer.load_state_dict(model[\"optim\"])\n",
    "        lr_scheduler.load_state_dict(model[\"scheduler\"])\n",
    "        start_epoch = model.get(\"epoch\", 0)\n",
    "    logger.info(f\"Model {model_name} loaded with {count_parameters(wave_net)} Parameters\")\n",
    "else: \n",
    "    logger.info(f\"Model {model_name} created with {count_parameters(wave_net)} Parameters\")"
   ]
  },
  {
   "cell_type": "markdown",
   "id": "3eedb6f7",
   "metadata": {},
   "source": [
    "### Training"
   ]
  },
  {
   "cell_type": "code",
   "execution_count": 22,
   "id": "3efbe838",
   "metadata": {},
   "outputs": [
    {
     "name": "stderr",
     "output_type": "stream",
     "text": [
      "2025-06-04 21:11:03,764 - INFO - Training started on cuda\n"
     ]
    },
    {
     "name": "stdout",
     "output_type": "stream",
     "text": [
      "2025-06-04 21:11:05,000 - LIGHT_DEBUG - Batch 013/013 Loss: 5.083 Min/Max params: -0.126, 1.000\n"
     ]
    },
    {
     "name": "stderr",
     "output_type": "stream",
     "text": [
      "2025-06-04 21:11:05,667 - INFO - Epoch 001: Avg. Loss: 5.16331e+00 Remaining Time: 00h 00min 55s LR: 1.00000e-03 \n"
     ]
    },
    {
     "name": "stdout",
     "output_type": "stream",
     "text": [
      "2025-06-04 21:11:07,000 - LIGHT_DEBUG - Batch 013/013 Loss: 5.043 Min/Max params: -0.138, 1.000\n"
     ]
    },
    {
     "name": "stderr",
     "output_type": "stream",
     "text": [
      "2025-06-04 21:11:07,511 - INFO - Epoch 002: Avg. Loss: 5.10552e+00 Remaining Time: 00h 00min 52s LR: 1.00000e-03 \n"
     ]
    },
    {
     "name": "stdout",
     "output_type": "stream",
     "text": [
      "2025-06-04 21:11:09,000 - LIGHT_DEBUG - Batch 013/013 Loss: 5.011 Min/Max params: -0.151, 1.000\n"
     ]
    },
    {
     "name": "stderr",
     "output_type": "stream",
     "text": [
      "2025-06-04 21:11:09,388 - INFO - Epoch 003: Avg. Loss: 5.07164e+00 Remaining Time: 00h 00min 50s LR: 1.00000e-03 \n"
     ]
    },
    {
     "name": "stdout",
     "output_type": "stream",
     "text": [
      "2025-06-04 21:11:11,000 - LIGHT_DEBUG - Batch 013/013 Loss: 4.988 Min/Max params: -0.159, 1.000\n"
     ]
    },
    {
     "name": "stderr",
     "output_type": "stream",
     "text": [
      "2025-06-04 21:11:11,297 - INFO - Epoch 004: Avg. Loss: 5.04567e+00 Remaining Time: 00h 00min 48s LR: 1.00000e-03 \n"
     ]
    },
    {
     "name": "stdout",
     "output_type": "stream",
     "text": [
      "2025-06-04 21:11:13,000 - LIGHT_DEBUG - Batch 013/013 Loss: 4.970 Min/Max params: -0.164, 1.000\n"
     ]
    },
    {
     "name": "stderr",
     "output_type": "stream",
     "text": [
      "2025-06-04 21:11:13,178 - INFO - Epoch 005: Avg. Loss: 5.01918e+00 Remaining Time: 00h 00min 47s LR: 1.00000e-03 \n"
     ]
    },
    {
     "name": "stdout",
     "output_type": "stream",
     "text": [
      "2025-06-04 21:11:15,000 - LIGHT_DEBUG - Batch 013/013 Loss: 4.953 Min/Max params: -0.173, 1.000\n"
     ]
    },
    {
     "name": "stderr",
     "output_type": "stream",
     "text": [
      "2025-06-04 21:11:15,017 - INFO - Epoch 006: Avg. Loss: 4.99784e+00 Remaining Time: 00h 00min 44s LR: 1.00000e-03 \n"
     ]
    },
    {
     "name": "stdout",
     "output_type": "stream",
     "text": [
      "2025-06-04 21:11:16,000 - LIGHT_DEBUG - Batch 013/013 Loss: 4.942 Min/Max params: -0.169, 1.000\n"
     ]
    },
    {
     "name": "stderr",
     "output_type": "stream",
     "text": [
      "2025-06-04 21:11:16,847 - INFO - Epoch 007: Avg. Loss: 4.98178e+00 Remaining Time: 00h 00min 42s LR: 1.00000e-03 \n"
     ]
    },
    {
     "name": "stdout",
     "output_type": "stream",
     "text": [
      "2025-06-04 21:11:18,000 - LIGHT_DEBUG - Batch 013/013 Loss: 4.931 Min/Max params: -0.182, 1.000\n"
     ]
    },
    {
     "name": "stderr",
     "output_type": "stream",
     "text": [
      "2025-06-04 21:11:18,688 - INFO - Epoch 008: Avg. Loss: 4.96913e+00 Remaining Time: 00h 00min 41s LR: 1.00000e-03 \n"
     ]
    },
    {
     "name": "stdout",
     "output_type": "stream",
     "text": [
      "2025-06-04 21:11:20,000 - LIGHT_DEBUG - Batch 013/013 Loss: 4.923 Min/Max params: -0.194, 1.000\n"
     ]
    },
    {
     "name": "stderr",
     "output_type": "stream",
     "text": [
      "2025-06-04 21:11:20,554 - INFO - Epoch 009: Avg. Loss: 4.95718e+00 Remaining Time: 00h 00min 39s LR: 1.00000e-03 \n"
     ]
    },
    {
     "name": "stdout",
     "output_type": "stream",
     "text": [
      "2025-06-04 21:11:22,000 - LIGHT_DEBUG - Batch 013/013 Loss: 4.915 Min/Max params: -0.208, 1.000\n"
     ]
    },
    {
     "name": "stderr",
     "output_type": "stream",
     "text": [
      "2025-06-04 21:11:22,406 - INFO - Epoch 010: Avg. Loss: 4.94809e+00 Remaining Time: 00h 00min 37s LR: 1.00000e-03 \n",
      "2025-06-04 21:11:22,591 - LIGHT_DEBUG - Checkpoint saved model to Models/wave_net_v3_epoch_010.pth\n"
     ]
    },
    {
     "name": "stdout",
     "output_type": "stream",
     "text": [
      "2025-06-04 21:11:24,000 - LIGHT_DEBUG - Batch 013/013 Loss: 4.912 Min/Max params: -0.217, 1.000\n"
     ]
    },
    {
     "name": "stderr",
     "output_type": "stream",
     "text": [
      "2025-06-04 21:11:24,410 - INFO - Epoch 011: Avg. Loss: 4.94041e+00 Remaining Time: 00h 00min 35s LR: 1.00000e-03 \n"
     ]
    },
    {
     "name": "stdout",
     "output_type": "stream",
     "text": [
      "2025-06-04 21:11:26,000 - LIGHT_DEBUG - Batch 013/013 Loss: 4.905 Min/Max params: -0.215, 1.000\n"
     ]
    },
    {
     "name": "stderr",
     "output_type": "stream",
     "text": [
      "2025-06-04 21:11:26,255 - INFO - Epoch 012: Avg. Loss: 4.93467e+00 Remaining Time: 00h 00min 33s LR: 1.00000e-03 \n"
     ]
    },
    {
     "name": "stdout",
     "output_type": "stream",
     "text": [
      "2025-06-04 21:11:28,000 - LIGHT_DEBUG - Batch 013/013 Loss: 4.899 Min/Max params: -0.230, 1.000\n"
     ]
    },
    {
     "name": "stderr",
     "output_type": "stream",
     "text": [
      "2025-06-04 21:11:28,139 - INFO - Epoch 013: Avg. Loss: 4.92926e+00 Remaining Time: 00h 00min 31s LR: 1.00000e-03 \n"
     ]
    },
    {
     "name": "stdout",
     "output_type": "stream",
     "text": [
      "2025-06-04 21:11:29,000 - LIGHT_DEBUG - Batch 013/013 Loss: 4.893 Min/Max params: -0.248, 1.000\n"
     ]
    },
    {
     "name": "stderr",
     "output_type": "stream",
     "text": [
      "2025-06-04 21:11:29,978 - INFO - Epoch 014: Avg. Loss: 4.92247e+00 Remaining Time: 00h 00min 29s LR: 1.00000e-03 \n"
     ]
    },
    {
     "name": "stdout",
     "output_type": "stream",
     "text": [
      "2025-06-04 21:11:31,000 - LIGHT_DEBUG - Batch 013/013 Loss: 4.889 Min/Max params: -0.257, 1.000\n"
     ]
    },
    {
     "name": "stderr",
     "output_type": "stream",
     "text": [
      "2025-06-04 21:11:31,852 - INFO - Epoch 015: Avg. Loss: 4.91405e+00 Remaining Time: 00h 00min 27s LR: 1.00000e-03 \n"
     ]
    },
    {
     "name": "stdout",
     "output_type": "stream",
     "text": [
      "2025-06-04 21:11:33,000 - LIGHT_DEBUG - Batch 013/013 Loss: 4.887 Min/Max params: -0.266, 1.000\n"
     ]
    },
    {
     "name": "stderr",
     "output_type": "stream",
     "text": [
      "2025-06-04 21:11:33,717 - INFO - Epoch 016: Avg. Loss: 4.90972e+00 Remaining Time: 00h 00min 26s LR: 1.00000e-03 \n"
     ]
    },
    {
     "name": "stdout",
     "output_type": "stream",
     "text": [
      "2025-06-04 21:11:35,000 - LIGHT_DEBUG - Batch 013/013 Loss: 4.883 Min/Max params: -0.278, 1.000\n"
     ]
    },
    {
     "name": "stderr",
     "output_type": "stream",
     "text": [
      "2025-06-04 21:11:35,592 - INFO - Epoch 017: Avg. Loss: 4.90563e+00 Remaining Time: 00h 00min 24s LR: 1.00000e-03 \n"
     ]
    },
    {
     "name": "stdout",
     "output_type": "stream",
     "text": [
      "2025-06-04 21:11:37,000 - LIGHT_DEBUG - Batch 013/013 Loss: 4.879 Min/Max params: -0.294, 1.000\n"
     ]
    },
    {
     "name": "stderr",
     "output_type": "stream",
     "text": [
      "2025-06-04 21:11:37,641 - INFO - Epoch 018: Avg. Loss: 4.90322e+00 Remaining Time: 00h 00min 22s LR: 1.00000e-03 \n"
     ]
    },
    {
     "name": "stdout",
     "output_type": "stream",
     "text": [
      "2025-06-04 21:11:39,000 - LIGHT_DEBUG - Batch 013/013 Loss: 4.882 Min/Max params: -0.305, 1.000\n"
     ]
    },
    {
     "name": "stderr",
     "output_type": "stream",
     "text": [
      "2025-06-04 21:11:39,897 - INFO - Epoch 019: Avg. Loss: 4.89913e+00 Remaining Time: 00h 00min 20s LR: 1.00000e-03 \n"
     ]
    },
    {
     "name": "stdout",
     "output_type": "stream",
     "text": [
      "2025-06-04 21:11:41,000 - LIGHT_DEBUG - Batch 013/013 Loss: 4.879 Min/Max params: -0.316, 1.000\n"
     ]
    },
    {
     "name": "stderr",
     "output_type": "stream",
     "text": [
      "2025-06-04 21:11:41,881 - INFO - Epoch 020: Avg. Loss: 4.89819e+00 Remaining Time: 00h 00min 18s LR: 1.00000e-03 \n",
      "2025-06-04 21:11:41,939 - LIGHT_DEBUG - Models/wave_net_v3_epoch_010.pth deleted\n",
      "2025-06-04 21:11:41,940 - LIGHT_DEBUG - Checkpoint saved model to Models/wave_net_v3_epoch_020.pth\n"
     ]
    },
    {
     "name": "stdout",
     "output_type": "stream",
     "text": [
      "2025-06-04 21:11:43,000 - LIGHT_DEBUG - Batch 013/013 Loss: 4.874 Min/Max params: -0.333, 1.000\n"
     ]
    },
    {
     "name": "stderr",
     "output_type": "stream",
     "text": [
      "2025-06-04 21:11:43,799 - INFO - Epoch 021: Avg. Loss: 4.89429e+00 Remaining Time: 00h 00min 17s LR: 1.00000e-03 \n"
     ]
    },
    {
     "name": "stdout",
     "output_type": "stream",
     "text": [
      "2025-06-04 21:11:45,000 - LIGHT_DEBUG - Batch 013/013 Loss: 4.873 Min/Max params: -0.350, 1.000\n"
     ]
    },
    {
     "name": "stderr",
     "output_type": "stream",
     "text": [
      "2025-06-04 21:11:45,695 - INFO - Epoch 022: Avg. Loss: 4.89217e+00 Remaining Time: 00h 00min 15s LR: 1.00000e-03 \n"
     ]
    },
    {
     "name": "stdout",
     "output_type": "stream",
     "text": [
      "2025-06-04 21:11:47,000 - LIGHT_DEBUG - Batch 013/013 Loss: 4.872 Min/Max params: -0.358, 1.000\n"
     ]
    },
    {
     "name": "stderr",
     "output_type": "stream",
     "text": [
      "2025-06-04 21:11:47,696 - INFO - Epoch 023: Avg. Loss: 4.89105e+00 Remaining Time: 00h 00min 13s LR: 1.00000e-03 \n"
     ]
    },
    {
     "name": "stdout",
     "output_type": "stream",
     "text": [
      "2025-06-04 21:11:49,000 - LIGHT_DEBUG - Batch 013/013 Loss: 4.904 Min/Max params: -0.365, 1.000\n"
     ]
    },
    {
     "name": "stderr",
     "output_type": "stream",
     "text": [
      "2025-06-04 21:11:49,722 - INFO - Epoch 024: Avg. Loss: 4.89625e+00 Remaining Time: 00h 00min 11s LR: 1.00000e-03 \n"
     ]
    },
    {
     "name": "stdout",
     "output_type": "stream",
     "text": [
      "2025-06-04 21:11:51,000 - LIGHT_DEBUG - Batch 013/013 Loss: 4.892 Min/Max params: -0.384, 1.000\n"
     ]
    },
    {
     "name": "stderr",
     "output_type": "stream",
     "text": [
      "2025-06-04 21:11:51,597 - INFO - Epoch 025: Avg. Loss: 4.90933e+00 Remaining Time: 00h 00min 09s LR: 1.00000e-03 \n"
     ]
    },
    {
     "name": "stdout",
     "output_type": "stream",
     "text": [
      "2025-06-04 21:11:53,000 - LIGHT_DEBUG - Batch 013/013 Loss: 4.883 Min/Max params: -0.409, 1.000\n"
     ]
    },
    {
     "name": "stderr",
     "output_type": "stream",
     "text": [
      "2025-06-04 21:11:53,437 - INFO - Epoch 026: Avg. Loss: 4.90658e+00 Remaining Time: 00h 00min 07s LR: 1.00000e-03 \n"
     ]
    },
    {
     "name": "stdout",
     "output_type": "stream",
     "text": [
      "2025-06-04 21:11:55,000 - LIGHT_DEBUG - Batch 013/013 Loss: 4.881 Min/Max params: -0.430, 1.000\n"
     ]
    },
    {
     "name": "stderr",
     "output_type": "stream",
     "text": [
      "2025-06-04 21:11:55,313 - INFO - Epoch 027: Avg. Loss: 4.90219e+00 Remaining Time: 00h 00min 05s LR: 1.00000e-03 \n"
     ]
    },
    {
     "name": "stdout",
     "output_type": "stream",
     "text": [
      "2025-06-04 21:11:57,000 - LIGHT_DEBUG - Batch 013/013 Loss: 4.876 Min/Max params: -0.433, 1.000\n"
     ]
    },
    {
     "name": "stderr",
     "output_type": "stream",
     "text": [
      "2025-06-04 21:11:57,162 - INFO - Epoch 028: Avg. Loss: 4.89627e+00 Remaining Time: 00h 00min 03s LR: 1.00000e-03 \n"
     ]
    },
    {
     "name": "stdout",
     "output_type": "stream",
     "text": [
      "2025-06-04 21:11:58,000 - LIGHT_DEBUG - Batch 013/013 Loss: 4.873 Min/Max params: -0.437, 1.000\n"
     ]
    },
    {
     "name": "stderr",
     "output_type": "stream",
     "text": [
      "2025-06-04 21:11:58,993 - INFO - Epoch 029: Avg. Loss: 4.89494e+00 Remaining Time: 00h 00min 01s LR: 1.00000e-03 \n"
     ]
    },
    {
     "name": "stdout",
     "output_type": "stream",
     "text": [
      "2025-06-04 21:12:00,000 - LIGHT_DEBUG - Batch 013/013 Loss: 4.867 Min/Max params: -0.445, 1.000\n"
     ]
    },
    {
     "name": "stderr",
     "output_type": "stream",
     "text": [
      "2025-06-04 21:12:00,841 - INFO - Epoch 030: Avg. Loss: 4.89075e+00 Remaining Time: 00h 00min 00s LR: 1.00000e-03 \n",
      "2025-06-04 21:12:00,895 - LIGHT_DEBUG - Models/wave_net_v3_epoch_020.pth deleted\n",
      "2025-06-04 21:12:00,896 - LIGHT_DEBUG - Checkpoint saved model to Models/wave_net_v3_epoch_030.pth\n",
      "2025-06-04 21:12:00,948 - LIGHT_DEBUG - Saved model to Models/wave_net_v3.pth\n",
      "2025-06-04 21:12:00,956 - LIGHT_DEBUG - Models/wave_net_v3_epoch_030.pth deleted\n"
     ]
    }
   ],
   "source": [
    "loss_fn = nn.CrossEntropyLoss()\n",
    "logger.info(f\"Training started on {device}\")\n",
    "if device == \"cuda\":\n",
    "    scaler = torch.cuda.amp.GradScaler()\n",
    "else:\n",
    "    scaler = torch.amp.GradScaler(device=device)\n",
    "loss_list: list = []\n",
    "val_loss_list: list = []\n",
    "total_time: float = 0.0\n",
    "best_loss = float('inf')\n",
    "epochs_no_improve: int = 0\n",
    "\n",
    "wave_net.train()\n",
    "for e in range(0, epochs):\n",
    "    total_loss: float = 0\n",
    "    validation_loss: float = 0\n",
    "    start_time: float = time.time()\n",
    "\n",
    "    for b_idx, (x, y) in enumerate(data_loader):\n",
    "        optimizer.zero_grad()\n",
    "        x, y = x.to(device), y.to(device).long()\n",
    "        with torch.autocast(device_type=device):\n",
    "            output = wave_net(x)\n",
    "            loss = loss_fn(output, y)\n",
    "        scaler.scale(loss).backward()\n",
    "        scaler.step(optimizer)\n",
    "        scaler.update()\n",
    "        total_loss += loss.item()\n",
    "        if np.isnan(loss.item()):\n",
    "            logger.info(\"Breaking due to NaN loss.\")\n",
    "            break\n",
    "\n",
    "        if logger.getEffectiveLevel() == LIGHT_DEBUG:\n",
    "            current_batch = b_idx + 1\n",
    "            all_params = torch.cat([param.view(-1) for param in wave_net.parameters()])\n",
    "            print(f\"\\r{time.strftime('%Y-%m-%d %H:%M:%S')},000 - LIGHT_DEBUG - Batch {current_batch:03d}/{len(data_loader):03d} Loss: {loss.item():.3f} Min/Max params: {torch.min(all_params):.3f}, {torch.max(all_params):.3f}\", end='', flush=True)\n",
    "    else:\n",
    "        if logger.getEffectiveLevel() == LIGHT_DEBUG:\n",
    "            print(flush=True)\n",
    "\n",
    "        avg_loss = total_loss / len(data_loader)\n",
    "        loss_list.append(avg_loss)\n",
    "\n",
    "        if lr_scheduler is not None:\n",
    "            if isinstance(lr_scheduler, (optim.lr_scheduler.ReduceLROnPlateau)):\n",
    "                lr_scheduler.step(avg_loss)\n",
    "            else:\n",
    "                lr_scheduler.step()\n",
    "\n",
    "        \n",
    "        epoch_time = time.time() - start_time\n",
    "        total_time += epoch_time\n",
    "        remaining_time = int((total_time / (e + 1)) * (epochs - e - 1))\n",
    "\n",
    "        logger.info(f\"Epoch {e + 1:03d}: Avg. Loss: {avg_loss:.5e} Remaining Time: {remaining_time // 3600:02d}h {(remaining_time % 3600) // 60:02d}min {round(remaining_time % 60):02d}s LR: {optimizer.param_groups[0]['lr']:.5e} \")\n",
    "        \n",
    "        if checkpoint_freq > 0 and (e + 1) % checkpoint_freq == 0:\n",
    "            checkpoint_path: str = f\"{full_model_path[:-4]}_epoch_{e + 1:03d}.pth\"\n",
    "            torch.save({\"model\": wave_net.state_dict(), \"optim\": optimizer.state_dict(), \"scheduler\": lr_scheduler.state_dict(), \"epoch\": e + 1}, checkpoint_path)\n",
    "            if e + 1 != checkpoint_freq:\n",
    "                last_path: str = f\"{full_model_path[:-4]}_epoch_{(e + 1) - checkpoint_freq:03d}.pth\"\n",
    "                del_if_exists(last_path)\n",
    "            logger.light_debug(f\"Checkpoint saved model to {checkpoint_path}\")\n",
    "        continue\n",
    "    break\n",
    "\n",
    "\n",
    "torch.save({\"model\": wave_net.state_dict(), \"optim\": optimizer.state_dict(), \"scheduler\": lr_scheduler.state_dict(), \"epoch\": e + 1}, full_model_path)\n",
    "\n",
    "logger.light_debug(f\"Saved model to {full_model_path}\")\n",
    "\n",
    "if checkpoint_freq > 0:\n",
    "    checkpoint_path: str = f\"{full_model_path[:-4]}_epoch_{e + 1 - ((e + 1) % checkpoint_freq):03d}.pth\"\n",
    "    del_if_exists(checkpoint_path)"
   ]
  },
  {
   "cell_type": "code",
   "execution_count": 29,
   "id": "b065d356",
   "metadata": {},
   "outputs": [
    {
     "name": "stderr",
     "output_type": "stream",
     "text": [
      "Fast Sampling: 100%|██████████| 32000/32000 [02:55<00:00, 182.23it/s]"
     ]
    },
    {
     "name": "stdout",
     "output_type": "stream",
     "text": [
      "[ 9.5727378e-01 -4.6014797e-02  6.4593613e-01 ... -2.8403198e-02\n",
      "  8.6213098e-05 -2.5710301e-02]\n"
     ]
    },
    {
     "name": "stderr",
     "output_type": "stream",
     "text": [
      "\n"
     ]
    }
   ],
   "source": [
    "waveform = wave_net.fast_sample(32000, 1.0, device)\n",
    "print(waveform)"
   ]
  },
  {
   "cell_type": "code",
   "execution_count": 30,
   "id": "f7e019e8",
   "metadata": {},
   "outputs": [
    {
     "name": "stderr",
     "output_type": "stream",
     "text": [
      "2025-06-05 06:31:04,343 - LIGHT_DEBUG - Normalized to range: [-0.99999,0.99999]\n",
      "2025-06-05 06:31:04,352 - LIGHT_DEBUG - Saved file to:test.wav\n"
     ]
    }
   ],
   "source": [
    "save_audio_file(waveform, \"test.wav\", 32000)"
   ]
  }
 ],
 "metadata": {
  "kernelspec": {
   "display_name": "Python 3 (ipykernel)",
   "language": "python",
   "name": "python3"
  },
  "language_info": {
   "codemirror_mode": {
    "name": "ipython",
    "version": 3
   },
   "file_extension": ".py",
   "mimetype": "text/x-python",
   "name": "python",
   "nbconvert_exporter": "python",
   "pygments_lexer": "ipython3",
   "version": "3.11.7"
  }
 },
 "nbformat": 4,
 "nbformat_minor": 5
}
