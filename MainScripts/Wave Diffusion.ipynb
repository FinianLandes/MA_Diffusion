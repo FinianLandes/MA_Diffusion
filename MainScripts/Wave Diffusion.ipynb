{
 "cells": [
  {
   "cell_type": "code",
   "execution_count": 1,
   "id": "b0652f37",
   "metadata": {},
   "outputs": [],
   "source": [
    "try: \n",
    "    import librosa\n",
    "except:\n",
    "    !pip install librosa\n",
    "try: \n",
    "    import optuna, plotly\n",
    "except:\n",
    "    !pip install optuna\n",
    "    !pip install plotly\n",
    "#Set Dir \n",
    "import sys, os\n",
    "sys.path.append(os.path.abspath('..'))\n",
    "\n",
    "# Torch\n",
    "import torch\n",
    "from torch import nn, Tensor\n",
    "from torch.utils.data import DataLoader, Subset\n",
    "import torch.optim as optim\n",
    "import torch.nn.functional as F\n",
    "\n",
    "# Utils\n",
    "import numpy as np\n",
    "from numpy import ndarray\n",
    "import logging, math\n",
    "\n",
    "\n",
    "# Base Scripts\n",
    "from Libraries.Utils import *\n",
    "from Libraries.U_Net import *\n",
    "from Libraries.Diffusion import *\n",
    "from Libraries.VAE import MultiResolutionSTFTLoss"
   ]
  },
  {
   "cell_type": "markdown",
   "id": "21fdc4be",
   "metadata": {},
   "source": [
    "## Setup"
   ]
  },
  {
   "cell_type": "markdown",
   "id": "4e22b979",
   "metadata": {},
   "source": [
    "### Initial Setup"
   ]
  },
  {
   "cell_type": "code",
   "execution_count": 2,
   "id": "cd404921",
   "metadata": {},
   "outputs": [],
   "source": [
    "remote_kernel: bool = True\n",
    "device: str = \"cuda\" if torch.cuda.is_available() else \"cpu\"\n",
    "training_data_name: str = \"../Data/training_v2_full\"\n",
    "test_data_name: str = \"../Data/unseen_test_data.npy\"\n",
    "model_name: str = \"WaveDiffusion_v1\"\n",
    "full_model_path: str = OS().path_to_remote_path(\"../Models/{}.pth\".format(model_name), remote_kernel)"
   ]
  },
  {
   "cell_type": "markdown",
   "id": "9e0b8d7f",
   "metadata": {},
   "source": [
    "### Logging"
   ]
  },
  {
   "cell_type": "code",
   "execution_count": 3,
   "id": "c08927d2",
   "metadata": {},
   "outputs": [],
   "source": [
    "logging_level: int = logging.INFO\n",
    "logging.basicConfig(level=logging_level, format='%(asctime)s - %(levelname)s - %(message)s')\n",
    "logger: logging.Logger = logging.getLogger(__name__)"
   ]
  },
  {
   "cell_type": "markdown",
   "id": "af62ff5f",
   "metadata": {},
   "source": [
    "### Data Hyperparameters"
   ]
  },
  {
   "cell_type": "code",
   "execution_count": 4,
   "id": "5e9bec28",
   "metadata": {},
   "outputs": [],
   "source": [
    "n_samples: int = 4096\n",
    "batch_size: int = 12\n",
    "n_workers: int = 1"
   ]
  },
  {
   "cell_type": "markdown",
   "id": "ec152389",
   "metadata": {},
   "source": [
    "### Data loading"
   ]
  },
  {
   "cell_type": "code",
   "execution_count": 5,
   "id": "03a188a9",
   "metadata": {},
   "outputs": [
    {
     "name": "stderr",
     "output_type": "stream",
     "text": [
      "2025-08-26 09:18:48,230 - INFO - Created train dataset with length 4096 and validation dataset with length 204\n"
     ]
    }
   ],
   "source": [
    "md = ModelData()\n",
    "md.load_data_from_path(data_path=OS().path_to_remote_path(training_data_name, remote_kernel))\n",
    "md.create_validation_split(n_samples)\n",
    "train_datatset, val_dataset = md.create_datasets()\n",
    "train_dataloader, val_dataloader = md.create_dataloaders(batch_size, num_workers=n_workers)\n",
    "logger.info(f\"Created train dataset with length {len(md.train_dataset)} and validation dataset with length {len(md.val_dataset)}\")"
   ]
  },
  {
   "cell_type": "code",
   "execution_count": 6,
   "id": "769766e4",
   "metadata": {},
   "outputs": [
    {
     "name": "stderr",
     "output_type": "stream",
     "text": [
      "2025-08-26 09:18:48,828 - INFO - Created test dataset with length 268\n"
     ]
    }
   ],
   "source": [
    "md = ModelData()\n",
    "md.load_data_from_path(data_path=OS().path_to_remote_path(test_data_name, remote_kernel))\n",
    "md.create_validation_split()\n",
    "test_dataset, _ = md.create_datasets()\n",
    "test_dataloader, _ = md.create_dataloaders(batch_size, num_workers=n_workers)\n",
    "logger.info(f\"Created test dataset with length {len(md.train_dataset)}\")"
   ]
  },
  {
   "cell_type": "markdown",
   "id": "cb213682",
   "metadata": {},
   "source": [
    "## Model Setup"
   ]
  },
  {
   "cell_type": "markdown",
   "id": "e782bf0b",
   "metadata": {},
   "source": [
    "### Hyperparameters"
   ]
  },
  {
   "cell_type": "code",
   "execution_count": 7,
   "id": "2cd93dd0",
   "metadata": {},
   "outputs": [],
   "source": [
    "b1, b2 = (0.9, 0.99)\n",
    "lr: float = 1e-4\n",
    "n_epochs: int = 120\n",
    "checkpoint_freq: int = 15\n",
    "lr_restart_period: int = 30\n",
    "restart_training: bool = True"
   ]
  },
  {
   "cell_type": "markdown",
   "id": "8b224418",
   "metadata": {},
   "source": [
    "### Models"
   ]
  },
  {
   "cell_type": "code",
   "execution_count": 8,
   "id": "089b576a",
   "metadata": {},
   "outputs": [],
   "source": [
    "u_net = UNet(in_channels=1, n_layers=4, base_channels=32, embed_dim=128).to(device)"
   ]
  },
  {
   "cell_type": "markdown",
   "id": "ea40d8ba",
   "metadata": {},
   "source": [
    "### Optimizers & Schedulers"
   ]
  },
  {
   "cell_type": "code",
   "execution_count": 9,
   "id": "2ba0758f",
   "metadata": {},
   "outputs": [],
   "source": [
    "optimizer = optim.AdamW(u_net.parameters(), lr, (b1, b2))\n",
    "scheduler = optim.lr_scheduler.ConstantLR(optimizer, 1) #optim.lr_scheduler.CosineAnnealingWarmRestarts(optimizer, T_0=lr_restart_period, eta_min=1e-7, T_mult=2)"
   ]
  },
  {
   "cell_type": "markdown",
   "id": "527a5570",
   "metadata": {},
   "source": [
    "### Load Model"
   ]
  },
  {
   "cell_type": "code",
   "execution_count": null,
   "id": "355acb05",
   "metadata": {},
   "outputs": [],
   "source": []
  },
  {
   "cell_type": "code",
   "execution_count": 10,
   "id": "44a63581",
   "metadata": {},
   "outputs": [
    {
     "name": "stderr",
     "output_type": "stream",
     "text": [
      "2025-08-26 09:18:49,998 - INFO - Model WaveDiffusion_v1 created with ~4.76M Parameters\n"
     ]
    }
   ],
   "source": [
    "if os.path.exists(full_model_path):\n",
    "    model = torch.load(full_model_path, map_location=device)\n",
    "    u_net.load_state_dict(model[\"u_net\"])\n",
    "\n",
    "    if not restart_training:\n",
    "        optimizer.load_state_dict(model[\"optim\"])\n",
    "        start_epoch = model.get(\"epoch\", 0)\n",
    "    logger.info(f\"Model {model_name} loaded with {count_parameters(u_net)} Parameters\")\n",
    "else: \n",
    "    logger.info(f\"Model {model_name} created with {count_parameters(u_net)} Parameters\")"
   ]
  },
  {
   "cell_type": "markdown",
   "id": "c122f8f5",
   "metadata": {},
   "source": [
    "## Training"
   ]
  },
  {
   "cell_type": "code",
   "execution_count": 11,
   "id": "f9a7e719",
   "metadata": {},
   "outputs": [],
   "source": [
    "torch.backends.cudnn.benchmark = True\n",
    "\n",
    "diffusion = Diffusion(noise_steps=1000, schedule=\"cosine\", v_obj=False, device=device)\n",
    "loss_fn = nn.MSELoss()"
   ]
  },
  {
   "cell_type": "code",
   "execution_count": 12,
   "id": "b39e8195",
   "metadata": {},
   "outputs": [
    {
     "name": "stderr",
     "output_type": "stream",
     "text": [
      "2025-08-26 09:18:50,251 - INFO - Training started on cuda\n",
      "2025-08-26 09:29:48,789 - INFO - Epoch 006: Avg. Loss: 1.391e-01 Avg. Val Loss: 1.669e-01 Remaining Time: 03h 28min 32s LR: 1.0000e-04\n",
      "2025-08-26 09:31:37,726 - INFO - Epoch 007: Avg. Loss: 1.472e-01 Avg. Val Loss: 5.083e-01 Remaining Time: 03h 26min 29s LR: 1.0000e-04\n",
      "2025-08-26 09:33:26,642 - INFO - Epoch 008: Avg. Loss: 1.654e-01 Avg. Val Loss: 3.800e-01 Remaining Time: 03h 24min 29s LR: 1.0000e-04\n",
      "2025-08-26 09:35:15,616 - INFO - Epoch 009: Avg. Loss: 1.617e-01 Avg. Val Loss: 1.601e-01 Remaining Time: 03h 22min 32s LR: 1.0000e-04\n",
      "2025-08-26 09:37:04,571 - INFO - Epoch 010: Avg. Loss: 1.977e-01 Avg. Val Loss: 1.702e-01 Remaining Time: 03h 20min 37s LR: 1.0000e-04\n",
      "2025-08-26 09:38:53,528 - INFO - Epoch 011: Avg. Loss: 1.571e-01 Avg. Val Loss: 5.882e-01 Remaining Time: 03h 18min 43s LR: 1.0000e-04\n",
      "2025-08-26 09:40:42,546 - INFO - Epoch 012: Avg. Loss: 1.980e-01 Avg. Val Loss: 1.347e-01 Remaining Time: 03h 16min 50s LR: 1.0000e-04\n",
      "2025-08-26 09:42:31,631 - INFO - Epoch 013: Avg. Loss: 1.547e-01 Avg. Val Loss: 3.461e-01 Remaining Time: 03h 14min 58s LR: 1.0000e-04\n",
      "2025-08-26 09:44:20,698 - INFO - Epoch 014: Avg. Loss: 2.070e-01 Avg. Val Loss: 1.872e-01 Remaining Time: 03h 13min 07s LR: 1.0000e-04\n",
      "2025-08-26 09:46:09,830 - INFO - Epoch 015: Avg. Loss: 1.786e-01 Avg. Val Loss: 1.689e-01 Remaining Time: 03h 11min 16s LR: 1.0000e-04\n",
      "2025-08-26 09:47:58,797 - INFO - Epoch 016: Avg. Loss: 2.211e-01 Avg. Val Loss: 1.618e-01 Remaining Time: 03h 09min 24s LR: 1.0000e-04\n",
      "2025-08-26 09:49:47,752 - INFO - Epoch 017: Avg. Loss: 1.565e-01 Avg. Val Loss: 1.523e-01 Remaining Time: 03h 07min 33s LR: 1.0000e-04\n",
      "2025-08-26 09:51:36,681 - INFO - Epoch 018: Avg. Loss: 1.553e-01 Avg. Val Loss: 1.659e-01 Remaining Time: 03h 05min 42s LR: 1.0000e-04\n",
      "2025-08-26 09:53:25,636 - INFO - Epoch 019: Avg. Loss: 1.917e-01 Avg. Val Loss: 3.020e-01 Remaining Time: 03h 03min 51s LR: 1.0000e-04\n",
      "2025-08-26 09:55:14,729 - INFO - Epoch 020: Avg. Loss: 2.894e-01 Avg. Val Loss: 1.823e-01 Remaining Time: 03h 02min 01s LR: 1.0000e-04\n",
      "2025-08-26 09:57:03,834 - INFO - Epoch 021: Avg. Loss: 2.683e-01 Avg. Val Loss: 1.574e-01 Remaining Time: 03h 00min 11s LR: 1.0000e-04\n",
      "2025-08-26 09:58:52,924 - INFO - Epoch 022: Avg. Loss: 2.805e-01 Avg. Val Loss: 1.525e-01 Remaining Time: 02h 58min 22s LR: 1.0000e-04\n",
      "2025-08-26 10:00:41,902 - INFO - Epoch 023: Avg. Loss: 1.429e-01 Avg. Val Loss: 1.280e-01 Remaining Time: 02h 56min 32s LR: 1.0000e-04\n",
      "2025-08-26 10:02:30,844 - INFO - Epoch 024: Avg. Loss: 1.510e-01 Avg. Val Loss: 1.321e-01 Remaining Time: 02h 54min 41s LR: 1.0000e-04\n",
      "2025-08-26 10:04:19,922 - INFO - Epoch 025: Avg. Loss: 2.468e-01 Avg. Val Loss: 1.504e-01 Remaining Time: 02h 52min 52s LR: 1.0000e-04\n",
      "2025-08-26 10:06:08,934 - INFO - Epoch 026: Avg. Loss: 1.839e-01 Avg. Val Loss: 1.642e-01 Remaining Time: 02h 51min 02s LR: 1.0000e-04\n",
      "2025-08-26 10:07:57,815 - INFO - Epoch 027: Avg. Loss: 2.172e-01 Avg. Val Loss: 1.175e-01 Remaining Time: 02h 49min 12s LR: 1.0000e-04\n",
      "2025-08-26 10:09:46,665 - INFO - Epoch 028: Avg. Loss: 1.749e-01 Avg. Val Loss: 1.619e-01 Remaining Time: 02h 47min 22s LR: 1.0000e-04\n",
      "2025-08-26 10:11:35,726 - INFO - Epoch 029: Avg. Loss: 1.552e-01 Avg. Val Loss: 1.424e-01 Remaining Time: 02h 45min 32s LR: 1.0000e-04\n",
      "2025-08-26 10:13:24,669 - INFO - Epoch 030: Avg. Loss: 1.792e-01 Avg. Val Loss: 1.264e-01 Remaining Time: 02h 43min 42s LR: 1.0000e-04\n",
      "2025-08-26 10:15:13,660 - INFO - Epoch 031: Avg. Loss: 1.345e-01 Avg. Val Loss: 1.345e-01 Remaining Time: 02h 41min 53s LR: 1.0000e-04\n",
      "2025-08-26 10:17:02,488 - INFO - Epoch 032: Avg. Loss: 1.573e-01 Avg. Val Loss: 1.684e-01 Remaining Time: 02h 40min 03s LR: 1.0000e-04\n",
      "2025-08-26 10:18:51,449 - INFO - Epoch 033: Avg. Loss: 1.422e-01 Avg. Val Loss: 1.060e-01 Remaining Time: 02h 38min 13s LR: 1.0000e-04\n",
      "2025-08-26 10:20:40,307 - INFO - Epoch 034: Avg. Loss: 1.691e-01 Avg. Val Loss: 1.681e-01 Remaining Time: 02h 36min 23s LR: 1.0000e-04\n",
      "2025-08-26 10:22:29,172 - INFO - Epoch 035: Avg. Loss: 1.582e-01 Avg. Val Loss: 2.477e-01 Remaining Time: 02h 34min 33s LR: 1.0000e-04\n",
      "2025-08-26 10:24:18,100 - INFO - Epoch 036: Avg. Loss: 2.012e-01 Avg. Val Loss: 1.902e-01 Remaining Time: 02h 32min 44s LR: 1.0000e-04\n",
      "2025-08-26 10:26:06,979 - INFO - Epoch 037: Avg. Loss: 3.020e-01 Avg. Val Loss: 1.201e-01 Remaining Time: 02h 30min 54s LR: 1.0000e-04\n",
      "2025-08-26 10:27:55,918 - INFO - Epoch 038: Avg. Loss: 1.236e-01 Avg. Val Loss: 1.300e-01 Remaining Time: 02h 29min 05s LR: 1.0000e-04\n",
      "2025-08-26 10:29:44,881 - INFO - Epoch 039: Avg. Loss: 1.802e-01 Avg. Val Loss: 1.415e-01 Remaining Time: 02h 27min 16s LR: 1.0000e-04\n",
      "2025-08-26 10:31:33,849 - INFO - Epoch 040: Avg. Loss: 1.370e-01 Avg. Val Loss: 1.461e-01 Remaining Time: 02h 25min 26s LR: 1.0000e-04\n",
      "2025-08-26 10:33:22,706 - INFO - Epoch 041: Avg. Loss: 1.789e-01 Avg. Val Loss: 1.466e-01 Remaining Time: 02h 23min 37s LR: 1.0000e-04\n",
      "2025-08-26 10:35:11,629 - INFO - Epoch 042: Avg. Loss: 1.525e-01 Avg. Val Loss: 2.793e-01 Remaining Time: 02h 21min 47s LR: 1.0000e-04\n",
      "2025-08-26 10:37:00,490 - INFO - Epoch 043: Avg. Loss: 2.889e-01 Avg. Val Loss: 1.756e-01 Remaining Time: 02h 19min 58s LR: 1.0000e-04\n",
      "2025-08-26 10:38:49,467 - INFO - Epoch 044: Avg. Loss: 1.423e-01 Avg. Val Loss: 1.568e-01 Remaining Time: 02h 18min 09s LR: 1.0000e-04\n",
      "2025-08-26 10:40:38,255 - INFO - Epoch 045: Avg. Loss: 2.434e-01 Avg. Val Loss: 1.270e-01 Remaining Time: 02h 16min 19s LR: 1.0000e-04\n",
      "2025-08-26 10:42:27,178 - INFO - Epoch 046: Avg. Loss: 1.406e-01 Avg. Val Loss: 1.502e-01 Remaining Time: 02h 14min 30s LR: 1.0000e-04\n",
      "2025-08-26 10:44:16,065 - INFO - Epoch 047: Avg. Loss: 1.505e-01 Avg. Val Loss: 1.675e-01 Remaining Time: 02h 12min 40s LR: 1.0000e-04\n",
      "2025-08-26 10:46:04,849 - INFO - Epoch 048: Avg. Loss: 2.355e-01 Avg. Val Loss: 1.295e-01 Remaining Time: 02h 10min 51s LR: 1.0000e-04\n",
      "2025-08-26 10:47:53,756 - INFO - Epoch 049: Avg. Loss: 2.135e-01 Avg. Val Loss: 1.574e-01 Remaining Time: 02h 09min 02s LR: 1.0000e-04\n",
      "2025-08-26 10:49:42,702 - INFO - Epoch 050: Avg. Loss: 1.683e-01 Avg. Val Loss: 1.154e+00 Remaining Time: 02h 07min 12s LR: 1.0000e-04\n",
      "2025-08-26 10:51:31,603 - INFO - Epoch 051: Avg. Loss: 3.036e-01 Avg. Val Loss: 1.343e-01 Remaining Time: 02h 05min 23s LR: 1.0000e-04\n",
      "2025-08-26 10:53:20,525 - INFO - Epoch 052: Avg. Loss: 1.926e-01 Avg. Val Loss: 1.352e-01 Remaining Time: 02h 03min 34s LR: 1.0000e-04\n",
      "2025-08-26 10:55:09,496 - INFO - Epoch 053: Avg. Loss: 1.653e-01 Avg. Val Loss: 6.570e-01 Remaining Time: 02h 01min 45s LR: 1.0000e-04\n",
      "2025-08-26 10:56:58,437 - INFO - Epoch 054: Avg. Loss: 2.491e-01 Avg. Val Loss: 1.303e-01 Remaining Time: 01h 59min 56s LR: 1.0000e-04\n",
      "2025-08-26 10:58:47,392 - INFO - Epoch 055: Avg. Loss: 1.852e-01 Avg. Val Loss: 1.546e-01 Remaining Time: 01h 58min 07s LR: 1.0000e-04\n",
      "2025-08-26 11:00:36,483 - INFO - Epoch 056: Avg. Loss: 3.327e-01 Avg. Val Loss: 2.095e-01 Remaining Time: 01h 56min 18s LR: 1.0000e-04\n",
      "2025-08-26 11:02:25,426 - INFO - Epoch 057: Avg. Loss: 1.698e-01 Avg. Val Loss: 1.550e-01 Remaining Time: 01h 54min 29s LR: 1.0000e-04\n",
      "2025-08-26 11:06:03,475 - INFO - Epoch 059: Avg. Loss: 2.585e-01 Avg. Val Loss: 1.945e-01 Remaining Time: 01h 50min 50s LR: 1.0000e-04\n",
      "2025-08-26 11:07:52,615 - INFO - Epoch 060: Avg. Loss: 3.521e-01 Avg. Val Loss: 2.772e-01 Remaining Time: 01h 49min 02s LR: 1.0000e-04\n",
      "2025-08-26 11:09:41,639 - INFO - Epoch 061: Avg. Loss: 2.336e-01 Avg. Val Loss: 1.196e+00 Remaining Time: 01h 47min 12s LR: 1.0000e-04\n",
      "2025-08-26 11:11:30,581 - INFO - Epoch 062: Avg. Loss: 3.105e-01 Avg. Val Loss: 3.137e+00 Remaining Time: 01h 45min 23s LR: 1.0000e-04\n",
      "2025-08-26 11:13:19,524 - INFO - Epoch 063: Avg. Loss: 9.251e-01 Avg. Val Loss: 5.427e-01 Remaining Time: 01h 43min 34s LR: 1.0000e-04\n"
     ]
    },
    {
     "ename": "",
     "evalue": "",
     "output_type": "error",
     "traceback": [
      "\u001b[1;31mFailed to connect to the remote Jupyter Server 'https://nzgbu8d5k3.clg07azjl.paperspacegradient.com/'. Verify the server is running and reachable."
     ]
    }
   ],
   "source": [
    "logger.info(f\"Training started on {device}\")\n",
    "loss_list: list = []\n",
    "total_time: float = 0.0\n",
    "\n",
    "for e in range(n_epochs):\n",
    "    total_loss: float = 0\n",
    "    start_time: float = time.time()\n",
    "\n",
    "    for b_idx, (audio, _) in enumerate(train_dataloader):\n",
    "        audio: Tensor = audio.to(device)\n",
    "        if audio.ndim == 2:\n",
    "            audio = audio.unsqueeze(1)\n",
    "        x_t, noise, t = diffusion.prep_train_ddxm(audio)\n",
    "        with torch.autocast(device):\n",
    "            noise_recon = u_net(x_t, t)\n",
    "            loss = loss_fn(noise, noise_recon)\n",
    "        if loss.isnan():\n",
    "            break\n",
    "        optimizer.zero_grad()\n",
    "        loss.backward()\n",
    "        optimizer.step()\n",
    "        total_loss += loss\n",
    "    else:\n",
    "        u_net.eval()\n",
    "        total_val_loss: float = 0\n",
    "        for x,_ in val_dataloader:\n",
    "            audio: Tensor = audio.to(device)\n",
    "            if audio.ndim == 2:\n",
    "                audio = audio.unsqueeze(1)\n",
    "            x_t, noise, t = diffusion.prep_train_ddxm(audio)\n",
    "            with torch.no_grad():\n",
    "                noise_recon = u_net(x_t, t)\n",
    "                total_val_loss += loss_fn(noise, noise_recon)\n",
    "        #plt.plot((x_t - noise_recon)[1][0].cpu().numpy())\n",
    "        #plt.show()  \n",
    "        u_net.train()\n",
    "\n",
    "        epoch_time = time.time() - start_time\n",
    "        total_time += epoch_time\n",
    "        remaining_time = int((total_time / (e + 1)) * (n_epochs - e - 1))\n",
    "        avg_loss = total_loss / len(train_dataloader)\n",
    "        avg_val_loss = total_val_loss / len(val_dataloader)\n",
    "        loss_list.append({\"avg_loss\": avg_loss, \"avg_val_loss\": avg_val_loss})\n",
    "        scheduler.step()\n",
    "\n",
    "        logger.info(f\"Epoch {e + 1:03d}: Avg. Loss: {avg_loss:.3e} Avg. Val Loss: {avg_val_loss:.3e} Remaining Time: {remaining_time // 3600:02d}h {(remaining_time % 3600) // 60:02d}min {round(remaining_time % 60):02d}s LR: {optimizer.param_groups[0]['lr']:.4e}\")\n",
    "\n",
    "        if checkpoint_freq > 0 and (e + 1) % checkpoint_freq == 0:\n",
    "                checkpoint_path: str = f\"{full_model_path[:-4]}_epoch_{e + 1:03d}.pth\"\n",
    "                torch.save({\"u_net\": u_net.state_dict(), \"optim\": optimizer.state_dict(), \"epoch\": e + 1}, checkpoint_path)\n",
    "                if e + 1 != checkpoint_freq:\n",
    "                    last_path: str = f\"{full_model_path[:-4]}_epoch_{(e + 1) - checkpoint_freq:03d}.pth\"\n",
    "                    OS().del_if_exists(last_path)\n",
    "                logger.light_debug(f\"Checkpoint saved model to {checkpoint_path}\")\n",
    "        continue\n",
    "    break\n",
    "else:\n",
    "    torch.save({\"u_net\": u_net.state_dict(), \"optim\": optimizer.state_dict(), \"epoch\": e + 1}, full_model_path)\n",
    "    logger.light_debug(f\"Saved model to {full_model_path}\")\n",
    "\n",
    "    if checkpoint_freq > 0:\n",
    "        checkpoint_path: str = f\"{full_model_path[:-4]}_epoch_{e + 1 - ((e + 1) % checkpoint_freq):03d}.pth\"\n",
    "        OS().del_if_exists(checkpoint_path)"
   ]
  },
  {
   "cell_type": "code",
   "execution_count": null,
   "id": "d327b6b7",
   "metadata": {},
   "outputs": [
    {
     "name": "stderr",
     "output_type": "stream",
     "text": [
      "2025-08-26 09:05:00,422 - INFO - Started sampling 10 samples on cuda\n",
      "2025-08-26 09:11:58,635 - INFO - Created 10 samples\n"
     ]
    },
    {
     "ename": "AttributeError",
     "evalue": "'numpy.ndarray' object has no attribute 'cpu'",
     "output_type": "error",
     "traceback": [
      "\u001b[0;31m---------------------------------------------------------------------------\u001b[0m",
      "\u001b[0;31mAttributeError\u001b[0m                            Traceback (most recent call last)",
      "Cell \u001b[0;32mIn[13], line 2\u001b[0m\n\u001b[1;32m      1\u001b[0m out \u001b[38;5;241m=\u001b[39m diffusion\u001b[38;5;241m.\u001b[39mbwd_diffusion_ddpm(u_net, [\u001b[38;5;241m10\u001b[39m, \u001b[38;5;241m1\u001b[39m, \u001b[38;5;241m262144\u001b[39m])\n\u001b[0;32m----> 2\u001b[0m plt\u001b[38;5;241m.\u001b[39mplot(\u001b[43mout\u001b[49m\u001b[43m[\u001b[49m\u001b[38;5;241;43m1\u001b[39;49m\u001b[43m]\u001b[49m\u001b[43m[\u001b[49m\u001b[38;5;241;43m0\u001b[39;49m\u001b[43m]\u001b[49m\u001b[38;5;241;43m.\u001b[39;49m\u001b[43mcpu\u001b[49m()\u001b[38;5;241m.\u001b[39mnumpy())\n\u001b[1;32m      3\u001b[0m plt\u001b[38;5;241m.\u001b[39mshow()  \n",
      "\u001b[0;31mAttributeError\u001b[0m: 'numpy.ndarray' object has no attribute 'cpu'"
     ]
    }
   ],
   "source": [
    "out = diffusion.bwd_diffusion_ddpm(u_net, [10, 1, 262144])\n",
    "plt.plot(out[1][0])\n",
    "plt.show()  "
   ]
  },
  {
   "cell_type": "code",
   "execution_count": null,
   "id": "98b430f7",
   "metadata": {},
   "outputs": [
    {
     "data": {
      "image/png": "[encoded data removed]",
      "text/plain": [
       "<Figure size 640x480 with 1 Axes>"
      ]
     },
     "metadata": {},
     "output_type": "display_data"
    }
   ],
   "source": [
    "\n",
    "out = torch.clamp(Tensor(out), min=-1, max=1).cpu().numpy()\n",
    "plt.plot(out[4][0])\n",
    "plt.show()  "
   ]
  }
 ],
 "metadata": {
  "kernelspec": {
   "display_name": "Python 3 (ipykernel)",
   "language": "python",
   "name": "python3"
  },
  "language_info": {
   "codemirror_mode": {
    "name": "ipython",
    "version": 3
   },
   "file_extension": ".py",
   "mimetype": "text/x-python",
   "name": "python",
   "nbconvert_exporter": "python",
   "pygments_lexer": "ipython3",
   "version": "3.11.7"
  }
 },
 "nbformat": 4,
 "nbformat_minor": 5
}
