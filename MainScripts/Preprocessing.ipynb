{
 "cells": [
  {
   "cell_type": "markdown",
   "metadata": {},
   "source": [
    "# Preprocessing\n",
    "### Imports"
   ]
  },
  {
   "cell_type": "markdown",
   "metadata": {},
   "source": [
    "New Python versions sometimes require some extra installations found in the code below"
   ]
  },
  {
   "cell_type": "code",
   "execution_count": null,
   "metadata": {},
   "outputs": [],
   "source": [
    "!pip install standard-sunau standard-aifac"
   ]
  },
  {
   "cell_type": "code",
   "execution_count": null,
   "metadata": {},
   "outputs": [
    {
     "name": "stdout",
     "output_type": "stream",
     "text": [
      "Collecting standard-sunau\n",
      "  Downloading standard_sunau-3.13.0-py3-none-any.whl.metadata (914 bytes)\n",
      "Requirement already satisfied: audioop-lts in c:\\users\\finia\\appdata\\local\\programs\\python\\python313\\lib\\site-packages (from standard-sunau) (0.2.1)\n",
      "Downloading standard_sunau-3.13.0-py3-none-any.whl (7.4 kB)\n",
      "Installing collected packages: standard-sunau\n",
      "Successfully installed standard-sunau-3.13.0\n"
     ]
    }
   ],
   "source": [
    "#Set Dir \n",
    "import sys, os\n",
    "sys.path.append(os.path.abspath('..'))\n",
    "\n",
    "# Torch\n",
    "import torch\n",
    "from torch.utils.data import DataLoader, Dataset\n",
    "# Utils\n",
    "import numpy as np\n",
    "from numpy import ndarray\n",
    "import logging\n",
    "# Base Scripts\n",
    "from Libraries.Utils import *\n",
    "from Conf import *\n"
   ]
  },
  {
   "cell_type": "markdown",
   "metadata": {},
   "source": [
    "### Config"
   ]
  },
  {
   "cell_type": "code",
   "execution_count": 10,
   "metadata": {},
   "outputs": [],
   "source": [
    "training_data_name: str = \"training_2000_1_1\"\n",
    "n_samples: int = 2000\n",
    "noise_percentage: float = 0.2\n",
    "overlap: int = 2\n",
    "logging_level: int = LIGHT_DEBUG\n",
    "logging.basicConfig(level=logging_level, format='%(asctime)s - %(levelname)s - %(message)s')\n",
    "logger: logging.Logger = logging.getLogger(__name__)"
   ]
  },
  {
   "cell_type": "markdown",
   "metadata": {},
   "source": [
    "### Processing"
   ]
  },
  {
   "cell_type": "code",
   "execution_count": 12,
   "metadata": {},
   "outputs": [
    {
     "name": "stderr",
     "output_type": "stream",
     "text": [
      "2025-03-03 00:55:59,698 - LIGHT_DEBUG - Got filenames ['Am Bach 2024.wav', 'Cutting Mixes mix.wav', 'DA2407_ADO.wav'] from ../Data\n",
      "2025-03-03 00:56:32,645 - LIGHT_DEBUG - Loaded audio form ../Data\\Am Bach 2024.wav of dimensions: (333370680,), sr: 44100\n",
      "2025-03-03 00:56:34,027 - LIGHT_DEBUG - Split audio to: (1259, 352800)\n",
      "2025-03-03 00:56:34,246 - LIGHT_DEBUG - Started STFT on splits\n"
     ]
    },
    {
     "name": "stdout",
     "output_type": "stream",
     "text": [
      "2025-03-03 00:57:36,000 - LIGHT_DEBUG - Processed Splits: 1250\n"
     ]
    },
    {
     "name": "stderr",
     "output_type": "stream",
     "text": [
      "2025-03-03 00:57:41,678 - LIGHT_DEBUG - Created spectograms of splits: (1259, 1025, 690)\n",
      "2025-03-03 00:58:24,740 - LIGHT_DEBUG - Normalized to range: [-1,1]\n",
      "2025-03-03 00:58:40,025 - LIGHT_DEBUG - Loaded audio form ../Data\\Cutting Mixes mix.wav of dimensions: (265496665,), sr: 44100\n",
      "2025-03-03 00:58:40,550 - LIGHT_DEBUG - Split audio to: (1003, 352800)\n",
      "2025-03-03 00:58:40,687 - LIGHT_DEBUG - Started STFT on splits\n"
     ]
    },
    {
     "name": "stdout",
     "output_type": "stream",
     "text": [
      "2025-03-03 00:59:19,000 - LIGHT_DEBUG - Processed Splits: 1000\n"
     ]
    },
    {
     "name": "stderr",
     "output_type": "stream",
     "text": [
      "2025-03-03 00:59:23,133 - LIGHT_DEBUG - Created spectograms of splits: (1003, 1025, 690)\n",
      "2025-03-03 00:59:43,937 - LIGHT_DEBUG - Normalized to range: [-1,1]\n",
      "2025-03-03 01:00:19,232 - INFO - Processed data of shape: (2000, 1024, 672)\n"
     ]
    }
   ],
   "source": [
    "filenames = get_filenames_from_folder(DATA_PATH, \"wav\")\n",
    "data: list = []\n",
    "remaining_samples: int = n_samples\n",
    "for i in range(len(filenames)):\n",
    "    file = load_audio_file(os.path.join(DATA_PATH, filenames[i]), SAMPLE_RATE, True)\n",
    "    file = split_audiofile(file, TIME_FRAME_S, SAMPLE_RATE, overlap)\n",
    "    file = audio_splits_to_spectograms(file, LEN_FFT, LEN_HOP)\n",
    "    file = normalize(file, -1, 1)\n",
    "    data.append(file)\n",
    "    if file.shape[0] < remaining_samples:\n",
    "        remaining_samples -= file.shape[0]\n",
    "    else: break\n",
    "\n",
    "data: ndarray = np.vstack(data)\n",
    "\n",
    "data = dimension_for_VAE(data)[:n_samples]\n",
    "logger.info(f\"Processed data of shape: {data.shape}\")"
   ]
  },
  {
   "cell_type": "markdown",
   "metadata": {},
   "source": [
    "### Saving"
   ]
  },
  {
   "cell_type": "code",
   "execution_count": 13,
   "metadata": {},
   "outputs": [
    {
     "name": "stderr",
     "output_type": "stream",
     "text": [
      "2025-03-03 01:04:59,380 - LIGHT_DEBUG - Saved ndarray to:../Data/training_2000_1_1.npy\n"
     ]
    }
   ],
   "source": [
    "save_training_data(data, f\"{DATA_PATH}/{training_data_name}.npy\")"
   ]
  }
 ],
 "metadata": {
  "kernelspec": {
   "display_name": "Python 3",
   "language": "python",
   "name": "python3"
  },
  "language_info": {
   "codemirror_mode": {
    "name": "ipython",
    "version": 3
   },
   "file_extension": ".py",
   "mimetype": "text/x-python",
   "name": "python",
   "nbconvert_exporter": "python",
   "pygments_lexer": "ipython3",
   "version": "3.13.2"
  }
 },
 "nbformat": 4,
 "nbformat_minor": 2
}
