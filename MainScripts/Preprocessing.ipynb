{
 "cells": [
  {
   "cell_type": "markdown",
   "metadata": {},
   "source": [
    "# Preprocessing\n",
    "### Imports"
   ]
  },
  {
   "cell_type": "markdown",
   "metadata": {},
   "source": [
    "New Python versions sometimes require some extra installations found in the code below"
   ]
  },
  {
   "cell_type": "code",
   "execution_count": 1,
   "metadata": {},
   "outputs": [
    {
     "name": "stdout",
     "output_type": "stream",
     "text": [
      "Requirement already satisfied: standard-sunau in c:\\users\\finia\\appdata\\local\\programs\\python\\python313\\lib\\site-packages (3.13.0)\n",
      "Requirement already satisfied: standard-aifc in c:\\users\\finia\\appdata\\local\\programs\\python\\python313\\lib\\site-packages (3.13.0)\n",
      "Requirement already satisfied: audioop-lts in c:\\users\\finia\\appdata\\local\\programs\\python\\python313\\lib\\site-packages (from standard-sunau) (0.2.1)\n",
      "Requirement already satisfied: standard-chunk in c:\\users\\finia\\appdata\\local\\programs\\python\\python313\\lib\\site-packages (from standard-aifc) (3.13.0)\n"
     ]
    },
    {
     "name": "stderr",
     "output_type": "stream",
     "text": [
      "\n",
      "[notice] A new release of pip is available: 25.0.1 -> 25.1.1\n",
      "[notice] To update, run: python.exe -m pip install --upgrade pip\n"
     ]
    }
   ],
   "source": [
    "!pip install standard-sunau standard-aifc"
   ]
  },
  {
   "cell_type": "code",
   "execution_count": 1,
   "metadata": {},
   "outputs": [],
   "source": [
    "#Set Dir \n",
    "import sys, os\n",
    "sys.path.append(os.path.abspath('..'))\n",
    "\n",
    "# Torch\n",
    "import torch\n",
    "from torch.utils.data import DataLoader, Dataset\n",
    "# Utils\n",
    "import numpy as np\n",
    "from numpy import ndarray\n",
    "import logging, os\n",
    "# Base Scripts\n",
    "from Libraries.Utils import *\n",
    "from Conf import conf\n"
   ]
  },
  {
   "cell_type": "markdown",
   "metadata": {},
   "source": [
    "### Config"
   ]
  },
  {
   "cell_type": "code",
   "execution_count": 2,
   "metadata": {},
   "outputs": [
    {
     "name": "stderr",
     "output_type": "stream",
     "text": [
      "2025-07-17 12:57:24,744 - LIGHT_DEBUG - Got filenames ['1989.wav', '27 Laser Mix.wav', 'Etapp Kyle - Alpha.wav', 'Luca Lozano - Prognosis WRECD2.wav', 'Transition.wav', 'Waiting For Your Love.wav'] from ../Data/Unknown Test Data\n"
     ]
    }
   ],
   "source": [
    "remote_kernel: bool = False\n",
    "training_data_name: str = \"unseen_test_data\"\n",
    "n_samples: int = 20000\n",
    "logging_level: int = LIGHT_DEBUG\n",
    "logging.basicConfig(level=logging_level, format='%(asctime)s - %(levelname)s - %(message)s')\n",
    "logger: logging.Logger = logging.getLogger(__name__)\n",
    "filenames_wav = OS().get_filenames_from_folder(OS().path_to_remote_path(\"../Data/Unknown Test Data\", remote_kernel), \"wav\")"
   ]
  },
  {
   "cell_type": "markdown",
   "metadata": {},
   "source": [
    "### Processing .wav"
   ]
  },
  {
   "cell_type": "code",
   "execution_count": 5,
   "metadata": {},
   "outputs": [
    {
     "name": "stderr",
     "output_type": "stream",
     "text": [
      "2025-07-17 12:59:14,280 - LIGHT_DEBUG - Loaded audio from ../Data/Unknown Test Data\\1989.wav of dimensions: (14663123,), sr: 32000\n",
      "2025-07-17 12:59:14,640 - LIGHT_DEBUG - Normalized to range: [-1,1]\n",
      "2025-07-17 12:59:14,656 - LIGHT_DEBUG - Split audio to: (56, 262144)\n",
      "2025-07-17 12:59:16,031 - LIGHT_DEBUG - Loaded audio from ../Data/Unknown Test Data\\27 Laser Mix.wav of dimensions: (12156854,), sr: 32000\n",
      "2025-07-17 12:59:16,311 - LIGHT_DEBUG - Normalized to range: [-1,1]\n",
      "2025-07-17 12:59:16,320 - LIGHT_DEBUG - Split audio to: (47, 262144)\n",
      "2025-07-17 12:59:17,888 - LIGHT_DEBUG - Loaded audio from ../Data/Unknown Test Data\\Etapp Kyle - Alpha.wav of dimensions: (13760331,), sr: 32000\n",
      "c:\\Users\\finia\\OneDrive - SBL\\MA\\MA_DDPM\\Libraries\\Utils.py:204: RuntimeWarning: invalid value encountered in divide\n",
      "  scaled_file: ndarray = (file - min_file) / (max_file - min_file)\n",
      "2025-07-17 12:59:18,130 - LIGHT_DEBUG - Normalized to range: [-1,1]\n",
      "2025-07-17 12:59:18,138 - LIGHT_DEBUG - Split audio to: (53, 262144)\n",
      "2025-07-17 12:59:19,843 - LIGHT_DEBUG - Loaded audio from ../Data/Unknown Test Data\\Luca Lozano - Prognosis WRECD2.wav of dimensions: (12737167,), sr: 32000\n",
      "2025-07-17 12:59:20,092 - LIGHT_DEBUG - Normalized to range: [-1,1]\n",
      "2025-07-17 12:59:20,099 - LIGHT_DEBUG - Split audio to: (49, 262144)\n",
      "2025-07-17 12:59:21,420 - LIGHT_DEBUG - Loaded audio from ../Data/Unknown Test Data\\Transition.wav of dimensions: (10080061,), sr: 32000\n",
      "2025-07-17 12:59:21,598 - LIGHT_DEBUG - Normalized to range: [-1,1]\n",
      "2025-07-17 12:59:21,603 - LIGHT_DEBUG - Split audio to: (39, 262144)\n",
      "2025-07-17 12:59:22,525 - LIGHT_DEBUG - Loaded audio from ../Data/Unknown Test Data\\Waiting For Your Love.wav of dimensions: (9924023,), sr: 32000\n",
      "2025-07-17 12:59:22,698 - LIGHT_DEBUG - Normalized to range: [-1,1]\n",
      "2025-07-17 12:59:22,704 - LIGHT_DEBUG - Split audio to: (38, 262144)\n",
      "2025-07-17 12:59:24,223 - LIGHT_DEBUG - Normalized to range: [-1,1]\n",
      "2025-07-17 12:59:24,303 - INFO - Processed data of shape: (282, 262144)\n"
     ]
    }
   ],
   "source": [
    "data: list = []\n",
    "remaining_samples: int = n_samples\n",
    "for i in range(len(filenames_wav)):\n",
    "    ad = AudioData(sr=32000)\n",
    "    ad.load_audio_file(os.path.join(OS().path_to_remote_path(\"../Data/Unknown Test Data\", remote_kernel), filenames_wav[i]))\n",
    "    file = ad.split_audiofile(8.192, overlap_s=0, norm=True)\n",
    "    data.append(file)\n",
    "    if file.shape[0] < remaining_samples:\n",
    "        remaining_samples -= file.shape[0]\n",
    "    else: break\n",
    "\n",
    "data: ndarray = np.vstack(data)\n",
    "data = AudioData().normalize_filewise(data, -1, 1)\n",
    "logger.info(f\"Processed data of shape: {data.shape}\")"
   ]
  },
  {
   "cell_type": "markdown",
   "metadata": {},
   "source": [
    "### Saving"
   ]
  },
  {
   "cell_type": "code",
   "execution_count": 6,
   "metadata": {},
   "outputs": [
    {
     "name": "stderr",
     "output_type": "stream",
     "text": [
      "2025-07-17 12:59:40,211 - LIGHT_DEBUG - Saved ndarray to:../Data/unseen_test_data.npy\n"
     ]
    }
   ],
   "source": [
    "NPData(data).save_training_data(OS().path_to_remote_path(\"../Data/{}\".format(training_data_name), remote_kernel))"
   ]
  }
 ],
 "metadata": {
  "kernelspec": {
   "display_name": "Python 3",
   "language": "python",
   "name": "python3"
  },
  "language_info": {
   "codemirror_mode": {
    "name": "ipython",
    "version": 3
   },
   "file_extension": ".py",
   "mimetype": "text/x-python",
   "name": "python",
   "nbconvert_exporter": "python",
   "pygments_lexer": "ipython3",
   "version": "3.13.2"
  }
 },
 "nbformat": 4,
 "nbformat_minor": 2
}
